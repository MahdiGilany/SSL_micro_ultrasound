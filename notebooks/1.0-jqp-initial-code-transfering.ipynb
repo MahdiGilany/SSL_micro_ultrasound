{
 "cells": [
  {
   "cell_type": "code",
   "execution_count": null,
   "metadata": {
    "pycharm": {
     "name": "#%%\n"
    }
   },
   "outputs": [],
   "source": [
    "## seting up directories"
   ]
  },
  {
   "cell_type": "code",
   "execution_count": null,
   "metadata": {
    "pycharm": {
     "name": "#%%\n"
    }
   },
   "outputs": [],
   "source": [
    "import os\n",
    "\n",
    "import torch\n",
    "\n",
    "from src.datamodules.exact_datamodule import ExactDataModule\n",
    "from scipy.io import matlab\n",
    "from einops import rearrange\n",
    "from itertools import product\n",
    "import munch\n",
    "import numpy as np\n",
    "from ismember import ismember\n",
    "from src.datamodules.components.data_utils import *\n",
    "import pickle\n",
    "import time\n",
    "import matplotlib.pyplot as plt\n",
    "import skimage.data as sd\n",
    "from skimage import io\n",
    "from PIL import Image\n",
    "from matplotlib.colors import NoNorm\n",
    "import wandb\n",
    "%matplotlib inline\n",
    "\n",
    "original_dir = os.getcwd()\n",
    "original_dir = original_dir.split(\"\\\\\")\n",
    "original_dir = '\\\\'.join(original_dir[:-1])\n",
    "\n",
    "data_dir = original_dir + '\\data\\Exact\\\\'\n",
    "data_file = 'Exact_UVA_patches_400_100_100_indivPatchesNames_03-16-2022.mat'\n",
    "print(data_dir)"
   ]
  },
  {
   "cell_type": "markdown",
   "metadata": {},
   "source": [
    "## testing conf mat log"
   ]
  },
  {
   "cell_type": "code",
   "execution_count": null,
   "metadata": {
    "pycharm": {
     "name": "#%%\n"
    }
   },
   "outputs": [],
   "source": [
    "wandb.init()\n",
    "vals = np.random.uniform(size=(10, 2))\n",
    "probs = np.exp(vals)/np.sum(np.exp(vals), keepdims=True, axis=1)\n",
    "probs = probs.argmax(axis=1)\n",
    "y_true = np.random.randint(0, 2, size=(10))\n",
    "\n",
    "probs = torch.tensor(probs)\n",
    "y_true = torch.tensor(y_true)\n",
    "labels = [\"0\", \"1\"]\n",
    "a = wandb.plot.confusion_matrix(preds=probs.numpy(), y_true=y_true.numpy())"
   ]
  }
 ],
 "metadata": {
  "kernelspec": {
   "display_name": "Python 3",
   "language": "python",
   "name": "python3"
  },
  "language_info": {
   "codemirror_mode": {
    "name": "ipython",
    "version": 2
   },
   "file_extension": ".py",
   "mimetype": "text/x-python",
   "name": "python",
   "nbconvert_exporter": "python",
   "pygments_lexer": "ipython2",
   "version": "2.7.6"
  }
 },
 "nbformat": 4,
 "nbformat_minor": 0
}
