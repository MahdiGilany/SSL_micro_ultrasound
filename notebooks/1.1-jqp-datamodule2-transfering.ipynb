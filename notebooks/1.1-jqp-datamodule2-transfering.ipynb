{
 "cells": [
  {
   "cell_type": "code",
   "execution_count": 1,
   "outputs": [],
   "source": [
    "import os\n",
    "from src.datamodules.exact_datamodule import ExactDataModule\n",
    "from scipy.io import matlab\n",
    "from einops import rearrange\n",
    "from itertools import product\n",
    "import munch\n",
    "import numpy as np\n",
    "import torch\n",
    "from ismember import ismember\n",
    "from src.datamodules.components.data_utils import *\n",
    "import pickle\n",
    "import time\n",
    "import matplotlib.pyplot as plt\n",
    "# import skimage.data as sd\n",
    "# from skimage import io\n",
    "from PIL import Image\n",
    "from matplotlib.colors import NoNorm\n",
    "import hydra\n",
    "from omegaconf import DictConfig, OmegaConf\n",
    "from torchvision.transforms import transforms\n",
    "%matplotlib inline"
   ],
   "metadata": {
    "collapsed": false,
    "pycharm": {
     "name": "#%%\n"
    }
   }
  },
  {
   "cell_type": "code",
   "execution_count": 2,
   "outputs": [
    {
     "data": {
      "text/plain": "True"
     },
     "execution_count": 2,
     "metadata": {},
     "output_type": "execute_result"
    }
   ],
   "source": [
    "# Datamodule Usage Demo\n",
    "import dotenv\n",
    "dotenv.load_dotenv()"
   ],
   "metadata": {
    "collapsed": false,
    "pycharm": {
     "name": "#%%\n"
    }
   }
  },
  {
   "cell_type": "code",
   "execution_count": 3,
   "outputs": [
    {
     "name": "stdout",
     "output_type": "stream",
     "text": [
      "env: DATA=../../../../projects_data/Exact/Exact2\n"
     ]
    }
   ],
   "source": [
    "from exactvu.data.datamodule import ExactSSLDataModule\n",
    "%env DATA=../../../../projects_data/Exact/\n",
    "dm = ExactSSLDataModule(mode=\"self-supervised\",prostate_region_only=False, needle_region_only=False, patch_stride_mm=(1,1), cohort_specifier=\"CRCEO\")\n",
    "# dm = ExactSSLDataModule()"
   ],
   "metadata": {
    "collapsed": false,
    "pycharm": {
     "name": "#%%\n"
    }
   }
  },
  {
   "cell_type": "code",
   "execution_count": 4,
   "outputs": [
    {
     "name": "stderr",
     "output_type": "stream",
     "text": [
      "100%|██████████| 262/262 [15:39<00:00,  3.59s/it]\n",
      "100%|██████████| 82/82 [04:58<00:00,  3.64s/it]\n",
      "100%|██████████| 84/84 [05:13<00:00,  3.73s/it]\n"
     ]
    }
   ],
   "source": [
    "dm.setup()"
   ],
   "metadata": {
    "collapsed": false,
    "pycharm": {
     "name": "#%%\n"
    }
   }
  },
  {
   "cell_type": "code",
   "execution_count": 29,
   "outputs": [
    {
     "data": {
      "text/plain": "28"
     },
     "execution_count": 29,
     "metadata": {},
     "output_type": "execute_result"
    }
   ],
   "source": [
    "len(dm.test_ds)%32"
   ],
   "metadata": {
    "collapsed": false,
    "pycharm": {
     "name": "#%%\n"
    }
   }
  }
 ],
 "metadata": {
  "kernelspec": {
   "display_name": "Python 3",
   "language": "python",
   "name": "python3"
  },
  "language_info": {
   "codemirror_mode": {
    "name": "ipython",
    "version": 2
   },
   "file_extension": ".py",
   "mimetype": "text/x-python",
   "name": "python",
   "nbconvert_exporter": "python",
   "pygments_lexer": "ipython2",
   "version": "2.7.6"
  }
 },
 "nbformat": 4,
 "nbformat_minor": 0
}