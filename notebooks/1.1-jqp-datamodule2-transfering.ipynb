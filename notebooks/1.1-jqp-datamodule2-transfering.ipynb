{
 "cells": [
  {
   "cell_type": "code",
   "execution_count": 2,
   "outputs": [],
   "source": [
    "import os\n",
    "from src.datamodules.exact_datamodule import ExactDataModule\n",
    "from scipy.io import matlab\n",
    "from einops import rearrange\n",
    "from itertools import product\n",
    "import munch\n",
    "import numpy as np\n",
    "import torch\n",
    "from ismember import ismember\n",
    "from src.datamodules.components.data_utils import *\n",
    "import pickle\n",
    "import time\n",
    "import matplotlib.pyplot as plt\n",
    "# import skimage.data as sd\n",
    "# from skimage import io\n",
    "from PIL import Image\n",
    "from matplotlib.colors import NoNorm\n",
    "import hydra\n",
    "from omegaconf import DictConfig, OmegaConf\n",
    "from torchvision.transforms import transforms\n",
    "%matplotlib inline"
   ],
   "metadata": {
    "collapsed": false,
    "pycharm": {
     "name": "#%%\n"
    }
   }
  },
  {
   "cell_type": "code",
   "execution_count": 3,
   "outputs": [
    {
     "data": {
      "text/plain": "True"
     },
     "execution_count": 3,
     "metadata": {},
     "output_type": "execute_result"
    }
   ],
   "source": [
    "# Datamodule Usage Demo\n",
    "import dotenv\n",
    "dotenv.load_dotenv()"
   ],
   "metadata": {
    "collapsed": false,
    "pycharm": {
     "name": "#%%\n"
    }
   }
  },
  {
   "cell_type": "code",
   "execution_count": 4,
   "outputs": [
    {
     "name": "stdout",
     "output_type": "stream",
     "text": [
      "env: DATA=../../../../projects_data/Exact/\n"
     ]
    }
   ],
   "source": [
    "from exactvu.data.datamodules import ExactSSLDataModule\n",
    "%env DATA=../../../../projects_data/Exact/\n",
    "dm = ExactSSLDataModule(needle_region_intersection_threshold=0.6)"
   ],
   "metadata": {
    "collapsed": false,
    "pycharm": {
     "name": "#%%\n"
    }
   }
  },
  {
   "cell_type": "code",
   "execution_count": 5,
   "outputs": [
    {
     "name": "stderr",
     "output_type": "stream",
     "text": [
      "Downloading and preprocessing cores: 100%|██████████| 352/352 [22:07<00:00,  3.77s/it]\n",
      "Downloading and preprocessing cores: 100%|██████████| 148/148 [09:10<00:00,  3.72s/it]\n",
      "Downloading and preprocessing cores: 100%|██████████| 100/100 [06:11<00:00,  3.72s/it]\n"
     ]
    }
   ],
   "source": [
    "dm.setup()"
   ],
   "metadata": {
    "collapsed": false,
    "pycharm": {
     "name": "#%%\n"
    }
   }
  },
  {
   "cell_type": "code",
   "execution_count": 5,
   "outputs": [],
   "source": [],
   "metadata": {
    "collapsed": false,
    "pycharm": {
     "name": "#%%\n"
    }
   }
  }
 ],
 "metadata": {
  "kernelspec": {
   "display_name": "Python 3",
   "language": "python",
   "name": "python3"
  },
  "language_info": {
   "codemirror_mode": {
    "name": "ipython",
    "version": 2
   },
   "file_extension": ".py",
   "mimetype": "text/x-python",
   "name": "python",
   "nbconvert_exporter": "python",
   "pygments_lexer": "ipython2",
   "version": "2.7.6"
  }
 },
 "nbformat": 4,
 "nbformat_minor": 0
}