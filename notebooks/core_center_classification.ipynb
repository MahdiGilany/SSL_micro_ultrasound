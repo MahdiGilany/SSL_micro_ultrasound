{
 "cells": [
  {
   "cell_type": "code",
   "execution_count": 1,
   "metadata": {},
   "outputs": [
    {
     "name": "stderr",
     "output_type": "stream",
     "text": [
      "Preparing cores:   0%|          | 17/4066 [00:40<2:41:42,  2.40s/it]\n"
     ]
    },
    {
     "ename": "KeyboardInterrupt",
     "evalue": "",
     "output_type": "error",
     "traceback": [
      "\u001B[0;31m---------------------------------------------------------------------------\u001B[0m",
      "\u001B[0;31mKeyboardInterrupt\u001B[0m                         Traceback (most recent call last)",
      "\u001B[1;32m/home/paulw/projects/SSLmicroUltrasound/notebooks/core_center_classification.ipynb Cell 1\u001B[0m in \u001B[0;36m<cell line: 23>\u001B[0;34m()\u001B[0m\n\u001B[1;32m     <a href='vscode-notebook-cell://ssh-remote%2B130.15.7.120/home/paulw/projects/SSLmicroUltrasound/notebooks/core_center_classification.ipynb#W0sdnNjb2RlLXJlbW90ZQ%3D%3D?line=14'>15</a>\u001B[0m center2code \u001B[39m=\u001B[39m {\n\u001B[1;32m     <a href='vscode-notebook-cell://ssh-remote%2B130.15.7.120/home/paulw/projects/SSLmicroUltrasound/notebooks/core_center_classification.ipynb#W0sdnNjb2RlLXJlbW90ZQ%3D%3D?line=15'>16</a>\u001B[0m     center: i \u001B[39mfor\u001B[39;00m i, center \u001B[39min\u001B[39;00m \u001B[39menumerate\u001B[39m(CENTERS)\n\u001B[1;32m     <a href='vscode-notebook-cell://ssh-remote%2B130.15.7.120/home/paulw/projects/SSLmicroUltrasound/notebooks/core_center_classification.ipynb#W0sdnNjb2RlLXJlbW90ZQ%3D%3D?line=16'>17</a>\u001B[0m }\n\u001B[1;32m     <a href='vscode-notebook-cell://ssh-remote%2B130.15.7.120/home/paulw/projects/SSLmicroUltrasound/notebooks/core_center_classification.ipynb#W0sdnNjb2RlLXJlbW90ZQ%3D%3D?line=17'>18</a>\u001B[0m m_t \u001B[39m=\u001B[39m \u001B[39mlambda\u001B[39;00m metadata: torch\u001B[39m.\u001B[39mtensor(\n\u001B[1;32m     <a href='vscode-notebook-cell://ssh-remote%2B130.15.7.120/home/paulw/projects/SSLmicroUltrasound/notebooks/core_center_classification.ipynb#W0sdnNjb2RlLXJlbW90ZQ%3D%3D?line=18'>19</a>\u001B[0m     center2code[metadata[\u001B[39m'\u001B[39m\u001B[39mcenter\u001B[39m\u001B[39m'\u001B[39m]]\n\u001B[1;32m     <a href='vscode-notebook-cell://ssh-remote%2B130.15.7.120/home/paulw/projects/SSLmicroUltrasound/notebooks/core_center_classification.ipynb#W0sdnNjb2RlLXJlbW90ZQ%3D%3D?line=19'>20</a>\u001B[0m )\n\u001B[0;32m---> <a href='vscode-notebook-cell://ssh-remote%2B130.15.7.120/home/paulw/projects/SSLmicroUltrasound/notebooks/core_center_classification.ipynb#W0sdnNjb2RlLXJlbW90ZQ%3D%3D?line=22'>23</a>\u001B[0m train_ds \u001B[39m=\u001B[39m PatchesDatasetNew(\n\u001B[1;32m     <a href='vscode-notebook-cell://ssh-remote%2B130.15.7.120/home/paulw/projects/SSLmicroUltrasound/notebooks/core_center_classification.ipynb#W0sdnNjb2RlLXJlbW90ZQ%3D%3D?line=23'>24</a>\u001B[0m     root\u001B[39m=\u001B[39;49mos\u001B[39m.\u001B[39;49mpath\u001B[39m.\u001B[39;49mjoin(data_dir(), \u001B[39m\"\u001B[39;49m\u001B[39mcores_dataset\u001B[39;49m\u001B[39m\"\u001B[39;49m),\n\u001B[1;32m     <a href='vscode-notebook-cell://ssh-remote%2B130.15.7.120/home/paulw/projects/SSLmicroUltrasound/notebooks/core_center_classification.ipynb#W0sdnNjb2RlLXJlbW90ZQ%3D%3D?line=24'>25</a>\u001B[0m     patch_view_config\u001B[39m=\u001B[39;49mPatchViewConfig(prostate_region_only\u001B[39m=\u001B[39;49m\u001B[39mFalse\u001B[39;49;00m),\n\u001B[1;32m     <a href='vscode-notebook-cell://ssh-remote%2B130.15.7.120/home/paulw/projects/SSLmicroUltrasound/notebooks/core_center_classification.ipynb#W0sdnNjb2RlLXJlbW90ZQ%3D%3D?line=25'>26</a>\u001B[0m     core_specifier_list\u001B[39m=\u001B[39;49ms\u001B[39m.\u001B[39;49mget_train(merge_centers\u001B[39m=\u001B[39;49m\u001B[39mTrue\u001B[39;49;00m),\n\u001B[1;32m     <a href='vscode-notebook-cell://ssh-remote%2B130.15.7.120/home/paulw/projects/SSLmicroUltrasound/notebooks/core_center_classification.ipynb#W0sdnNjb2RlLXJlbW90ZQ%3D%3D?line=26'>27</a>\u001B[0m     patch_transform\u001B[39m=\u001B[39;49mt,\n\u001B[1;32m     <a href='vscode-notebook-cell://ssh-remote%2B130.15.7.120/home/paulw/projects/SSLmicroUltrasound/notebooks/core_center_classification.ipynb#W0sdnNjb2RlLXJlbW90ZQ%3D%3D?line=27'>28</a>\u001B[0m     metadata_transform\u001B[39m=\u001B[39;49mm_t\n\u001B[1;32m     <a href='vscode-notebook-cell://ssh-remote%2B130.15.7.120/home/paulw/projects/SSLmicroUltrasound/notebooks/core_center_classification.ipynb#W0sdnNjb2RlLXJlbW90ZQ%3D%3D?line=28'>29</a>\u001B[0m )\n\u001B[1;32m     <a href='vscode-notebook-cell://ssh-remote%2B130.15.7.120/home/paulw/projects/SSLmicroUltrasound/notebooks/core_center_classification.ipynb#W0sdnNjb2RlLXJlbW90ZQ%3D%3D?line=30'>31</a>\u001B[0m val_ds \u001B[39m=\u001B[39m PatchesDatasetNew( \n\u001B[1;32m     <a href='vscode-notebook-cell://ssh-remote%2B130.15.7.120/home/paulw/projects/SSLmicroUltrasound/notebooks/core_center_classification.ipynb#W0sdnNjb2RlLXJlbW90ZQ%3D%3D?line=31'>32</a>\u001B[0m     root\u001B[39m=\u001B[39mos\u001B[39m.\u001B[39mpath\u001B[39m.\u001B[39mjoin(data_dir(), \u001B[39m\"\u001B[39m\u001B[39mcores_dataset\u001B[39m\u001B[39m\"\u001B[39m),\n\u001B[1;32m     <a href='vscode-notebook-cell://ssh-remote%2B130.15.7.120/home/paulw/projects/SSLmicroUltrasound/notebooks/core_center_classification.ipynb#W0sdnNjb2RlLXJlbW90ZQ%3D%3D?line=32'>33</a>\u001B[0m     patch_view_config\u001B[39m=\u001B[39mPatchViewConfig(prostate_region_only\u001B[39m=\u001B[39m\u001B[39mFalse\u001B[39;00m),\n\u001B[0;32m   (...)\u001B[0m\n\u001B[1;32m     <a href='vscode-notebook-cell://ssh-remote%2B130.15.7.120/home/paulw/projects/SSLmicroUltrasound/notebooks/core_center_classification.ipynb#W0sdnNjb2RlLXJlbW90ZQ%3D%3D?line=35'>36</a>\u001B[0m     metadata_transform\u001B[39m=\u001B[39mm_t\n\u001B[1;32m     <a href='vscode-notebook-cell://ssh-remote%2B130.15.7.120/home/paulw/projects/SSLmicroUltrasound/notebooks/core_center_classification.ipynb#W0sdnNjb2RlLXJlbW90ZQ%3D%3D?line=36'>37</a>\u001B[0m )\n\u001B[1;32m     <a href='vscode-notebook-cell://ssh-remote%2B130.15.7.120/home/paulw/projects/SSLmicroUltrasound/notebooks/core_center_classification.ipynb#W0sdnNjb2RlLXJlbW90ZQ%3D%3D?line=38'>39</a>\u001B[0m test_ds \u001B[39m=\u001B[39m PatchesDatasetNew( \n\u001B[1;32m     <a href='vscode-notebook-cell://ssh-remote%2B130.15.7.120/home/paulw/projects/SSLmicroUltrasound/notebooks/core_center_classification.ipynb#W0sdnNjb2RlLXJlbW90ZQ%3D%3D?line=39'>40</a>\u001B[0m     root\u001B[39m=\u001B[39mos\u001B[39m.\u001B[39mpath\u001B[39m.\u001B[39mjoin(data_dir(), \u001B[39m\"\u001B[39m\u001B[39mcores_dataset\u001B[39m\u001B[39m\"\u001B[39m),\n\u001B[1;32m     <a href='vscode-notebook-cell://ssh-remote%2B130.15.7.120/home/paulw/projects/SSLmicroUltrasound/notebooks/core_center_classification.ipynb#W0sdnNjb2RlLXJlbW90ZQ%3D%3D?line=40'>41</a>\u001B[0m     patch_view_config\u001B[39m=\u001B[39mPatchViewConfig(prostate_region_only\u001B[39m=\u001B[39m\u001B[39mFalse\u001B[39;00m),\n\u001B[0;32m   (...)\u001B[0m\n\u001B[1;32m     <a href='vscode-notebook-cell://ssh-remote%2B130.15.7.120/home/paulw/projects/SSLmicroUltrasound/notebooks/core_center_classification.ipynb#W0sdnNjb2RlLXJlbW90ZQ%3D%3D?line=43'>44</a>\u001B[0m     metadata_transform\u001B[39m=\u001B[39mm_t\n\u001B[1;32m     <a href='vscode-notebook-cell://ssh-remote%2B130.15.7.120/home/paulw/projects/SSLmicroUltrasound/notebooks/core_center_classification.ipynb#W0sdnNjb2RlLXJlbW90ZQ%3D%3D?line=44'>45</a>\u001B[0m )\n",
      "File \u001B[0;32m~/anaconda3/envs/exact/lib/python3.9/site-packages/exactvu/data/dataset.py:474\u001B[0m, in \u001B[0;36mPatchesDatasetNew.__init__\u001B[0;34m(self, root, core_specifier_list, patch_view_config, patch_transform, label_transform, metadata_transform)\u001B[0m\n\u001B[1;32m    472\u001B[0m \u001B[39mself\u001B[39m\u001B[39m.\u001B[39mlabel_transform \u001B[39m=\u001B[39m label_transform\n\u001B[1;32m    473\u001B[0m \u001B[39mself\u001B[39m\u001B[39m.\u001B[39mmetadata_transform \u001B[39m=\u001B[39m metadata_transform\n\u001B[0;32m--> 474\u001B[0m CoresDataset\u001B[39m.\u001B[39;49m\u001B[39m__init__\u001B[39;49m(\u001B[39mself\u001B[39;49m, root, core_specifier_list)\n\u001B[1;32m    476\u001B[0m \u001B[39mself\u001B[39m\u001B[39m.\u001B[39mpatch_views \u001B[39m=\u001B[39m [\n\u001B[1;32m    477\u001B[0m     core\u001B[39m.\u001B[39mget_patch_view(\u001B[39mself\u001B[39m\u001B[39m.\u001B[39mpatch_view_config)\n\u001B[1;32m    478\u001B[0m     \u001B[39mfor\u001B[39;00m core \u001B[39min\u001B[39;00m tqdm(\u001B[39mself\u001B[39m\u001B[39m.\u001B[39mcores, desc\u001B[39m=\u001B[39m\u001B[39m\"\u001B[39m\u001B[39mIndexing Patches\u001B[39m\u001B[39m\"\u001B[39m)\n\u001B[1;32m    479\u001B[0m ]\n\u001B[1;32m    480\u001B[0m \u001B[39mself\u001B[39m\u001B[39m.\u001B[39mpatch_views: List[PatchView]\n",
      "File \u001B[0;32m~/anaconda3/envs/exact/lib/python3.9/site-packages/exactvu/data/dataset.py:300\u001B[0m, in \u001B[0;36mCoresDataset.__init__\u001B[0;34m(self, root, core_specifier_list)\u001B[0m\n\u001B[1;32m    298\u001B[0m \u001B[39mfor\u001B[39;00m specifier \u001B[39min\u001B[39;00m tqdm(\u001B[39mself\u001B[39m\u001B[39m.\u001B[39mcore_specifiers, desc\u001B[39m=\u001B[39m\u001B[39m\"\u001B[39m\u001B[39mPreparing cores\u001B[39m\u001B[39m\"\u001B[39m):\n\u001B[1;32m    299\u001B[0m     core \u001B[39m=\u001B[39m Core(specifier, \u001B[39mself\u001B[39m\u001B[39m.\u001B[39mroot)\n\u001B[0;32m--> 300\u001B[0m     \u001B[39mself\u001B[39;49m\u001B[39m.\u001B[39;49mprepare_core(core)\n\u001B[1;32m    301\u001B[0m     \u001B[39mif\u001B[39;00m \u001B[39mself\u001B[39m\u001B[39m.\u001B[39mfilter_core(core):\n\u001B[1;32m    302\u001B[0m         \u001B[39mself\u001B[39m\u001B[39m.\u001B[39m__cores\u001B[39m.\u001B[39mappend(core)\n",
      "File \u001B[0;32m~/anaconda3/envs/exact/lib/python3.9/site-packages/exactvu/data/dataset.py:519\u001B[0m, in \u001B[0;36mPatchesDatasetNew.prepare_core\u001B[0;34m(self, core)\u001B[0m\n\u001B[1;32m    516\u001B[0m \u001B[39mdef\u001B[39;00m \u001B[39mprepare_core\u001B[39m(\u001B[39mself\u001B[39m, core: Core):\n\u001B[1;32m    518\u001B[0m     \u001B[39mif\u001B[39;00m \u001B[39mnot\u001B[39;00m core\u001B[39m.\u001B[39mcheck_is_downloaded():\n\u001B[0;32m--> 519\u001B[0m         core\u001B[39m.\u001B[39;49mdownload_and_preprocess_iq()\n\u001B[1;32m    521\u001B[0m     \u001B[39mif\u001B[39;00m (\n\u001B[1;32m    522\u001B[0m         \u001B[39mself\u001B[39m\u001B[39m.\u001B[39mpatch_view_config\u001B[39m.\u001B[39mprostate_region_only\n\u001B[1;32m    523\u001B[0m         \u001B[39mand\u001B[39;00m \u001B[39mnot\u001B[39;00m core\u001B[39m.\u001B[39mcheck_prostate_mask_is_downloaded()\n\u001B[1;32m    524\u001B[0m     ):\n\u001B[1;32m    525\u001B[0m         success \u001B[39m=\u001B[39m core\u001B[39m.\u001B[39mdownload_prostate_mask()\n",
      "File \u001B[0;32m~/anaconda3/envs/exact/lib/python3.9/site-packages/exactvu/data/core.py:253\u001B[0m, in \u001B[0;36mCore.download_and_preprocess_iq\u001B[0;34m(self, iq_preprocessor_fn)\u001B[0m\n\u001B[1;32m    249\u001B[0m \u001B[39mdef\u001B[39;00m \u001B[39mdownload_and_preprocess_iq\u001B[39m(\n\u001B[1;32m    250\u001B[0m     \u001B[39mself\u001B[39m, iq_preprocessor_fn\u001B[39m=\u001B[39mDEFAULT_PREPROCESS_TRANSFORM\n\u001B[1;32m    251\u001B[0m ):\n\u001B[1;32m    252\u001B[0m     iq \u001B[39m=\u001B[39m load_by_core_specifier(\u001B[39mself\u001B[39m\u001B[39m.\u001B[39mspecifier)\n\u001B[0;32m--> 253\u001B[0m     image \u001B[39m=\u001B[39m iq_preprocessor_fn(iq)\n\u001B[1;32m    254\u001B[0m     \u001B[39mself\u001B[39m\u001B[39m.\u001B[39mimage \u001B[39m=\u001B[39m image\n",
      "File \u001B[0;32m~/anaconda3/envs/exact/lib/python3.9/site-packages/exactvu/preprocessing.py:473\u001B[0m, in \u001B[0;36mDEFAULT_PREPROCESS_TRANSFORM\u001B[0;34m(iq)\u001B[0m\n\u001B[1;32m    470\u001B[0m     rf \u001B[39m=\u001B[39m stitch_focal_zones(rf)\n\u001B[1;32m    472\u001B[0m \u001B[39m# decimation by factor of 4 does not lose frequency information\u001B[39;00m\n\u001B[0;32m--> 473\u001B[0m rf \u001B[39m=\u001B[39m decimate(rf, \u001B[39m4\u001B[39;49m, axis\u001B[39m=\u001B[39;49m\u001B[39m0\u001B[39;49m)\n\u001B[1;32m    475\u001B[0m \u001B[39mreturn\u001B[39;00m rf\n",
      "File \u001B[0;32m~/anaconda3/envs/exact/lib/python3.9/site-packages/scipy/signal/signaltools.py:4444\u001B[0m, in \u001B[0;36mdecimate\u001B[0;34m(x, q, n, ftype, axis, zero_phase)\u001B[0m\n\u001B[1;32m   4442\u001B[0m \u001B[39melse\u001B[39;00m:  \u001B[39m# IIR case\u001B[39;00m\n\u001B[1;32m   4443\u001B[0m     \u001B[39mif\u001B[39;00m zero_phase:\n\u001B[0;32m-> 4444\u001B[0m         y \u001B[39m=\u001B[39m filtfilt(b, a, x, axis\u001B[39m=\u001B[39;49maxis)\n\u001B[1;32m   4445\u001B[0m     \u001B[39melse\u001B[39;00m:\n\u001B[1;32m   4446\u001B[0m         y \u001B[39m=\u001B[39m lfilter(b, a, x, axis\u001B[39m=\u001B[39maxis)\n",
      "File \u001B[0;32m~/anaconda3/envs/exact/lib/python3.9/site-packages/scipy/signal/signaltools.py:4074\u001B[0m, in \u001B[0;36mfiltfilt\u001B[0;34m(b, a, x, axis, padtype, padlen, method, irlen)\u001B[0m\n\u001B[1;32m   4071\u001B[0m \u001B[39m# Backward filter.\u001B[39;00m\n\u001B[1;32m   4072\u001B[0m \u001B[39m# Create y0 so zi*y0 broadcasts appropriately.\u001B[39;00m\n\u001B[1;32m   4073\u001B[0m y0 \u001B[39m=\u001B[39m axis_slice(y, start\u001B[39m=\u001B[39m\u001B[39m-\u001B[39m\u001B[39m1\u001B[39m, axis\u001B[39m=\u001B[39maxis)\n\u001B[0;32m-> 4074\u001B[0m (y, zf) \u001B[39m=\u001B[39m lfilter(b, a, axis_reverse(y, axis\u001B[39m=\u001B[39;49maxis), axis\u001B[39m=\u001B[39;49maxis, zi\u001B[39m=\u001B[39;49mzi \u001B[39m*\u001B[39;49m y0)\n\u001B[1;32m   4076\u001B[0m \u001B[39m# Reverse y.\u001B[39;00m\n\u001B[1;32m   4077\u001B[0m y \u001B[39m=\u001B[39m axis_reverse(y, axis\u001B[39m=\u001B[39maxis)\n",
      "File \u001B[0;32m~/anaconda3/envs/exact/lib/python3.9/site-packages/scipy/signal/signaltools.py:2057\u001B[0m, in \u001B[0;36mlfilter\u001B[0;34m(b, a, x, axis, zi)\u001B[0m\n\u001B[1;32m   2055\u001B[0m     \u001B[39mreturn\u001B[39;00m sigtools\u001B[39m.\u001B[39m_linear_filter(b, a, x, axis)\n\u001B[1;32m   2056\u001B[0m \u001B[39melse\u001B[39;00m:\n\u001B[0;32m-> 2057\u001B[0m     \u001B[39mreturn\u001B[39;00m sigtools\u001B[39m.\u001B[39;49m_linear_filter(b, a, x, axis, zi)\n",
      "\u001B[0;31mKeyboardInterrupt\u001B[0m: "
     ]
    }
   ],
   "source": [
    "from exactvu.data.dataset import PatchesDatasetNew, PatchViewConfig\n",
    "from torch.utils.data import WeightedRandomSampler\n",
    "from exactvu.data.utils import data_dir\n",
    "import os\n",
    "import torch \n",
    "\n",
    "from exactvu.data.splits import Splits, SplitsConfig, CENTERS\n",
    "\n",
    "s = Splits(SplitsConfig(cohort_specifier=[\"UVA\", \"CRCEO\", \"JH\", \"PCC\", \"PMCC\"], balance_classes=False))\n",
    "\n",
    "from exactvu.data.transforms import TransformV2, TransformConfig, PrebuiltConfigs\n",
    "\n",
    "t = TransformV2(PrebuiltConfigs.CROPS)\n",
    "\n",
    "center2code = {\n",
    "    center: i for i, center in enumerate(CENTERS)\n",
    "}\n",
    "m_t = lambda metadata: torch.tensor(\n",
    "    center2code[metadata['center']]\n",
    ")\n",
    "\n",
    "\n",
    "train_ds = PatchesDatasetNew(\n",
    "    root=os.path.join(data_dir(), \"cores_dataset\"),\n",
    "    patch_view_config=PatchViewConfig(prostate_region_only=False),\n",
    "    core_specifier_list=s.get_train(merge_centers=True),\n",
    "    patch_transform=t,\n",
    "    metadata_transform=m_t\n",
    ")\n",
    "\n",
    "val_ds = PatchesDatasetNew( \n",
    "    root=os.path.join(data_dir(), \"cores_dataset\"),\n",
    "    patch_view_config=PatchViewConfig(prostate_region_only=False),\n",
    "    core_specifier_list=s.get_val(merge_centers=True),\n",
    "    patch_transform=t,\n",
    "    metadata_transform=m_t\n",
    ")\n",
    "\n",
    "test_ds = PatchesDatasetNew( \n",
    "    root=os.path.join(data_dir(), \"cores_dataset\"),\n",
    "    patch_view_config=PatchViewConfig(prostate_region_only=False),\n",
    "    core_specifier_list=s.get_test(merge_centers=True),\n",
    "    patch_transform=t,\n",
    "    metadata_transform=m_t\n",
    ")\n"
   ]
  },
  {
   "cell_type": "code",
   "execution_count": 2,
   "metadata": {},
   "outputs": [],
   "source": [
    "from torch.utils.data import dataloader\n",
    "import numpy as np\n",
    "from tqdm import tqdm\n",
    "\n",
    "def get_center_labels(ds: PatchesDatasetNew):\n",
    "\n",
    "    center_labels = []\n",
    "    for core, patch_view in tqdm(zip(ds.cores, ds.patch_views), desc='Gathering center labels'):\n",
    "        center = core.metadata['center']\n",
    "        code = center2code[center]\n",
    "        center_labels.extend([code] * len(patch_view))\n",
    "\n",
    "    return np.array(center_labels)\n",
    "\n",
    "\n",
    "def get_weights(labels: np.ndarray): \n",
    "    \"\"\"computes weights for a sampler\"\"\"\n",
    "\n",
    "    weights = np.zeros_like(labels)\n",
    "\n",
    "    for label in np.unique(labels): \n",
    "        ind = labels == label\n",
    "        weight = 1 / np.sum(ind)\n",
    "        weights = np.where(ind, weight, weights)\n",
    "\n",
    "    return weights\n",
    "\n",
    "\n",
    "def make_sampler(ds: PatchesDatasetNew):\n",
    "    labels = get_center_labels(ds)\n",
    "    weights = get_weights(labels)\n",
    "\n",
    "    return WeightedRandomSampler(\n",
    "        list(weights), len(weights), replacement=True\n",
    "    )\n",
    "\n",
    "\n",
    "def make_dataloader(ds: PatchesDatasetNew, train=True):\n",
    "    return dataloader.DataLoader(\n",
    "        ds, \n",
    "        64, \n",
    "        sampler=make_sampler(ds) if train else None,    \n",
    "    )"
   ]
  },
  {
   "cell_type": "code",
   "execution_count": 3,
   "metadata": {},
   "outputs": [
    {
     "name": "stderr",
     "output_type": "stream",
     "text": [
      "Gathering center labels: 980it [00:11, 82.67it/s]\n"
     ]
    }
   ],
   "source": [
    "train_dl = make_dataloader(train_ds, True)\n",
    "val_dl = make_dataloader(val_ds, False)\n",
    "test_dl = make_dataloader(test_ds, False)"
   ]
  },
  {
   "cell_type": "code",
   "execution_count": 4,
   "metadata": {},
   "outputs": [],
   "source": [
    "batch = next(iter(train_dl))"
   ]
  },
  {
   "cell_type": "code",
   "execution_count": 5,
   "metadata": {},
   "outputs": [],
   "source": [
    "import pytorch_lightning as pl \n",
    "from torchmetrics.classification import Accuracy\n",
    "from exactvu.models.backbones import create_backbone\n",
    "\n",
    "\n",
    "class CenterDetector(pl.LightningModule):\n",
    "\n",
    "    def __init__(self):\n",
    "        super().__init__()\n",
    "        self.backbone = create_backbone('resnet_10_default_backbone')\n",
    "        self.clf = torch.nn.Linear(512, 5)\n",
    "        self.train_acc = Accuracy(num_classes=5, average='macro')\n",
    "        self.val_acc = Accuracy(num_classes=5, average='macro')\n",
    "        self.test_acc = Accuracy(num_classes=5, average='macro')\n",
    "\n",
    "    def forward(self, patches):\n",
    "        return self.clf(self.backbone(patches))\n",
    "\n",
    "    def training_step(self, batch, *args, **kwargs):\n",
    "        X, pos, y, center = batch \n",
    "        logits = self(X)\n",
    "        \n",
    "        self.train_acc(logits, center)\n",
    "        self.log('train/macro_acc', self.train_acc)\n",
    "\n",
    "        return torch.nn.functional.cross_entropy(logits, center)\n",
    "\n",
    "    def validation_step(self, batch, *args, **kwargs):\n",
    "        X, pos, y, center = batch \n",
    "        logits = self(X)\n",
    "        \n",
    "        self.val_acc(logits, center)\n",
    "        self.log('val/macro_acc', self.val_acc)\n",
    "\n",
    "    def test_step(self, batch, *args, **kwargs):\n",
    "        X, pos, y, center = batch \n",
    "        logits = self(X)\n",
    "        \n",
    "        self.test_acc(logits, center)\n",
    "        self.log('test/macro_acc', self.test_acc)\n",
    "\n",
    "    def configure_optimizers(self):\n",
    "        return torch.optim.Adam(self.parameters())\n",
    "\n",
    "model = CenterDetector()"
   ]
  },
  {
   "cell_type": "code",
   "execution_count": 6,
   "metadata": {},
   "outputs": [
    {
     "name": "stderr",
     "output_type": "stream",
     "text": [
      "ERROR:wandb.jupyter:Failed to detect the name of this notebook, you can set it manually with the WANDB_NOTEBOOK_NAME environment variable to enable code saving.\n",
      "\u001B[34m\u001B[1mwandb\u001B[0m: Currently logged in as: \u001B[33mpfrwilson\u001B[0m. Use \u001B[1m`wandb login --relogin`\u001B[0m to force relogin\n",
      "/usr/bin/nvidia-modprobe: unrecognized option: \"-s\"\n",
      "\n",
      "ERROR: Invalid commandline, please run `/usr/bin/nvidia-modprobe --help` for usage information.\n",
      "\n",
      "\n",
      "/usr/bin/nvidia-modprobe: unrecognized option: \"-s\"\n",
      "\n",
      "ERROR: Invalid commandline, please run `/usr/bin/nvidia-modprobe --help` for usage information.\n",
      "\n",
      "\n"
     ]
    },
    {
     "data": {
      "text/html": [
       "wandb version 0.13.2 is available!  To upgrade, please run:\n",
       " $ pip install wandb --upgrade"
      ],
      "text/plain": [
       "<IPython.core.display.HTML object>"
      ]
     },
     "metadata": {},
     "output_type": "display_data"
    },
    {
     "data": {
      "text/html": [
       "Tracking run with wandb version 0.12.20"
      ],
      "text/plain": [
       "<IPython.core.display.HTML object>"
      ]
     },
     "metadata": {},
     "output_type": "display_data"
    },
    {
     "data": {
      "text/html": [
       "Run data is saved locally in <code>/home/paulw/projects/SSLmicroUltrasound/notebooks/wandb/run-20220830_182537-2rcznqbw</code>"
      ],
      "text/plain": [
       "<IPython.core.display.HTML object>"
      ]
     },
     "metadata": {},
     "output_type": "display_data"
    },
    {
     "data": {
      "text/html": [
       "Syncing run <strong><a href=\"https://wandb.ai/pfrwilson/SSLmicroUltrasound-notebooks/runs/2rcznqbw\" target=\"_blank\">center guessing</a></strong> to <a href=\"https://wandb.ai/pfrwilson/SSLmicroUltrasound-notebooks\" target=\"_blank\">Weights & Biases</a> (<a href=\"https://wandb.me/run\" target=\"_blank\">docs</a>)<br/>"
      ],
      "text/plain": [
       "<IPython.core.display.HTML object>"
      ]
     },
     "metadata": {},
     "output_type": "display_data"
    }
   ],
   "source": [
    "from pytorch_lightning.loggers import WandbLogger\n",
    "\n",
    "logger = WandbLogger(name='center guessing')"
   ]
  },
  {
   "cell_type": "code",
   "execution_count": 7,
   "metadata": {},
   "outputs": [
    {
     "name": "stderr",
     "output_type": "stream",
     "text": [
      "GPU available: True, used: True\n",
      "TPU available: False, using: 0 TPU cores\n",
      "IPU available: False, using: 0 IPUs\n",
      "HPU available: False, using: 0 HPUs\n"
     ]
    }
   ],
   "source": [
    "trainer = pl.Trainer(\n",
    "    logger=logger,\n",
    "    accelerator=\"gpu\",\n",
    "    devices=[0],\n",
    "    max_epochs=20,\n",
    "    callbacks=[pl.callbacks.EarlyStopping(monitor=\"val/macro_acc\", mode=\"max\")],\n",
    ")\n"
   ]
  },
  {
   "cell_type": "code",
   "execution_count": 8,
   "metadata": {},
   "outputs": [
    {
     "name": "stderr",
     "output_type": "stream",
     "text": [
      "LOCAL_RANK: 0 - CUDA_VISIBLE_DEVICES: [0,1]\n",
      "\n",
      "  | Name      | Type     | Params\n",
      "---------------------------------------\n",
      "0 | backbone  | ResNet   | 4.9 M \n",
      "1 | clf       | Linear   | 2.6 K \n",
      "2 | train_acc | Accuracy | 0     \n",
      "3 | val_acc   | Accuracy | 0     \n",
      "4 | test_acc  | Accuracy | 0     \n",
      "---------------------------------------\n",
      "4.9 M     Trainable params\n",
      "0         Non-trainable params\n",
      "4.9 M     Total params\n",
      "19.608    Total estimated model params size (MB)\n"
     ]
    },
    {
     "data": {
      "application/vnd.jupyter.widget-view+json": {
       "model_id": "356f33d1afad48818f537e6384c27389",
       "version_major": 2,
       "version_minor": 0
      },
      "text/plain": [
       "Sanity Checking: 0it [00:00, ?it/s]"
      ]
     },
     "metadata": {},
     "output_type": "display_data"
    },
    {
     "name": "stderr",
     "output_type": "stream",
     "text": [
      "/home/paulw/anaconda3/envs/exact/lib/python3.9/site-packages/pytorch_lightning/trainer/connectors/data_connector.py:240: PossibleUserWarning: The dataloader, val_dataloader 0, does not have many workers which may be a bottleneck. Consider increasing the value of the `num_workers` argument` (try 20 which is the number of cpus on this machine) in the `DataLoader` init to improve performance.\n",
      "  rank_zero_warn(\n",
      "/home/paulw/anaconda3/envs/exact/lib/python3.9/site-packages/pytorch_lightning/trainer/connectors/data_connector.py:240: PossibleUserWarning: The dataloader, train_dataloader, does not have many workers which may be a bottleneck. Consider increasing the value of the `num_workers` argument` (try 20 which is the number of cpus on this machine) in the `DataLoader` init to improve performance.\n",
      "  rank_zero_warn(\n"
     ]
    },
    {
     "data": {
      "application/vnd.jupyter.widget-view+json": {
       "model_id": "95a019b2b9c9455db0551ea951cb4e60",
       "version_major": 2,
       "version_minor": 0
      },
      "text/plain": [
       "Training: 0it [00:00, ?it/s]"
      ]
     },
     "metadata": {},
     "output_type": "display_data"
    },
    {
     "data": {
      "application/vnd.jupyter.widget-view+json": {
       "model_id": "dfc774ff26834bd3975fb76d7a72d477",
       "version_major": 2,
       "version_minor": 0
      },
      "text/plain": [
       "Validation: 0it [00:00, ?it/s]"
      ]
     },
     "metadata": {},
     "output_type": "display_data"
    },
    {
     "data": {
      "application/vnd.jupyter.widget-view+json": {
       "model_id": "6fbccffc67664204bbf001eb80f6fbfa",
       "version_major": 2,
       "version_minor": 0
      },
      "text/plain": [
       "Validation: 0it [00:00, ?it/s]"
      ]
     },
     "metadata": {},
     "output_type": "display_data"
    },
    {
     "data": {
      "application/vnd.jupyter.widget-view+json": {
       "model_id": "8e684e2360a843e58802b0ec84e98e0d",
       "version_major": 2,
       "version_minor": 0
      },
      "text/plain": [
       "Validation: 0it [00:00, ?it/s]"
      ]
     },
     "metadata": {},
     "output_type": "display_data"
    },
    {
     "data": {
      "application/vnd.jupyter.widget-view+json": {
       "model_id": "43b6af76b6c240ad9e2d654f1e6b8a2f",
       "version_major": 2,
       "version_minor": 0
      },
      "text/plain": [
       "Validation: 0it [00:00, ?it/s]"
      ]
     },
     "metadata": {},
     "output_type": "display_data"
    }
   ],
   "source": [
    "trainer.fit(model, train_dl, val_dataloaders=val_dl)"
   ]
  },
  {
   "cell_type": "code",
   "execution_count": null,
   "metadata": {},
   "outputs": [
    {
     "name": "stderr",
     "output_type": "stream",
     "text": [
      "/home/paulw/anaconda3/envs/exact/lib/python3.9/site-packages/pytorch_lightning/core/lightning.py:374: UserWarning: You are trying to `self.log()` but the `self.trainer` reference is not registered on the model yet. This is most likely because the model hasn't been passed to the `Trainer`\n",
      "  rank_zero_warn(\n"
     ]
    },
    {
     "data": {
      "text/plain": [
       "tensor(1.6532, grad_fn=<NllLossBackward0>)"
      ]
     },
     "execution_count": 93,
     "metadata": {},
     "output_type": "execute_result"
    }
   ],
   "source": [
    "model = CenterDetector()\n",
    "model.training_step(batch)"
   ]
  },
  {
   "cell_type": "code",
   "execution_count": null,
   "metadata": {},
   "outputs": [
    {
     "data": {
      "text/plain": [
       "tensor([2, 0, 4, 0, 4, 2, 3, 3, 2, 0, 0, 0, 0, 0, 0, 2, 2, 2, 4, 1, 2, 3, 3, 3,\n",
       "        0, 3, 1, 4, 2, 1, 1, 1, 4, 2, 3, 1, 4, 4, 3, 4, 3, 1, 2, 0, 2, 1, 3, 3,\n",
       "        4, 1, 2, 1, 1, 3, 2, 4, 3, 3, 4, 4, 2, 3, 1, 3])"
      ]
     },
     "execution_count": 67,
     "metadata": {},
     "output_type": "execute_result"
    }
   ],
   "source": [
    "batch.metadata"
   ]
  },
  {
   "cell_type": "code",
   "execution_count": null,
   "metadata": {},
   "outputs": [],
   "source": [
    "labels = np.array([1, 1, 1, 1, 1, 0, 0,])"
   ]
  },
  {
   "cell_type": "code",
   "execution_count": null,
   "metadata": {},
   "outputs": [],
   "source": [
    "x = labels == 0"
   ]
  },
  {
   "cell_type": "code",
   "execution_count": null,
   "metadata": {},
   "outputs": [],
   "source": []
  },
  {
   "cell_type": "code",
   "execution_count": null,
   "metadata": {},
   "outputs": [
    {
     "data": {
      "text/plain": [
       "array([1. , 1. , 1. , 1. , 1. , 0.5, 0.5])"
      ]
     },
     "execution_count": 49,
     "metadata": {},
     "output_type": "execute_result"
    }
   ],
   "source": [
    "np.where(x, 0.5, labels)"
   ]
  },
  {
   "cell_type": "code",
   "execution_count": null,
   "metadata": {},
   "outputs": [
    {
     "data": {
      "text/plain": [
       "array([0.2, 0.2, 0.2, 0.2, 0.2, 0.5, 0.5])"
      ]
     },
     "execution_count": 51,
     "metadata": {},
     "output_type": "execute_result"
    }
   ],
   "source": [
    "get_weights(np.array([1, 1, 1, 1, 1, 0, 0,]))"
   ]
  },
  {
   "cell_type": "code",
   "execution_count": null,
   "metadata": {},
   "outputs": [
    {
     "data": {
      "text/plain": [
       "0       CRCEO\n",
       "1       CRCEO\n",
       "2       CRCEO\n",
       "3       CRCEO\n",
       "4       CRCEO\n",
       "        ...  \n",
       "6602      UVA\n",
       "6603      UVA\n",
       "6604      UVA\n",
       "6605      UVA\n",
       "6606      UVA\n",
       "Name: center, Length: 6607, dtype: object"
      ]
     },
     "execution_count": 36,
     "metadata": {},
     "output_type": "execute_result"
    }
   ],
   "source": [
    "from exactvu.resources import metadata\n",
    "metadata()"
   ]
  },
  {
   "cell_type": "code",
   "execution_count": null,
   "metadata": {},
   "outputs": [
    {
     "data": {
      "text/plain": [
       "0      CRCEO\n",
       "1      CRCEO\n",
       "2      CRCEO\n",
       "3      CRCEO\n",
       "4      CRCEO\n",
       "       ...  \n",
       "975      UVA\n",
       "976      UVA\n",
       "977      UVA\n",
       "978      UVA\n",
       "979      UVA\n",
       "Name: center, Length: 980, dtype: object"
      ]
     },
     "execution_count": 33,
     "metadata": {},
     "output_type": "execute_result"
    }
   ],
   "source": [
    "train_ds.metadata['center']"
   ]
  },
  {
   "cell_type": "code",
   "execution_count": null,
   "metadata": {},
   "outputs": [
    {
     "data": {
      "text/plain": [
       "[<matplotlib.lines.Line2D at 0x7f67fa6b2400>]"
      ]
     },
     "execution_count": 34,
     "metadata": {},
     "output_type": "execute_result"
    },
    {
     "data": {
      "image/png": "[encoded data removed]",
      "text/plain": [
       "<Figure size 432x288 with 1 Axes>"
      ]
     },
     "metadata": {
      "needs_background": "light"
     },
     "output_type": "display_data"
    }
   ],
   "source": [
    "import matplotlib.pyplot as plt\n",
    "plt.plot(get_center_labels(train_ds))"
   ]
  },
  {
   "cell_type": "code",
   "execution_count": null,
   "metadata": {},
   "outputs": [
    {
     "data": {
      "text/plain": [
       "53900"
      ]
     },
     "execution_count": 6,
     "metadata": {},
     "output_type": "execute_result"
    }
   ],
   "source": [
    "len(train_ds)"
   ]
  },
  {
   "cell_type": "code",
   "execution_count": null,
   "metadata": {},
   "outputs": [],
   "source": []
  },
  {
   "cell_type": "code",
   "execution_count": null,
   "metadata": {},
   "outputs": [
    {
     "data": {
      "text/plain": [
       "(18, 10)"
      ]
     },
     "execution_count": 8,
     "metadata": {},
     "output_type": "execute_result"
    }
   ],
   "source": [
    "train_ds.get_item_and_subitem_idx(1000)"
   ]
  },
  {
   "cell_type": "code",
   "execution_count": null,
   "metadata": {},
   "outputs": [],
   "source": []
  }
 ],
 "metadata": {
  "kernelspec": {
   "display_name": "Python 3.9.7 ('exact')",
   "language": "python",
   "name": "python3"
  },
  "language_info": {
   "codemirror_mode": {
    "name": "ipython",
    "version": 3
   },
   "file_extension": ".py",
   "mimetype": "text/x-python",
   "name": "python",
   "nbconvert_exporter": "python",
   "pygments_lexer": "ipython3",
   "version": "3.9.7"
  },
  "orig_nbformat": 4,
  "vscode": {
   "interpreter": {
    "hash": "7a5cbe58c68b89c0961f395f53ada90e2e240c2940fb46fd24937fe03ca7f49a"
   }
  }
 },
 "nbformat": 4,
 "nbformat_minor": 2
}