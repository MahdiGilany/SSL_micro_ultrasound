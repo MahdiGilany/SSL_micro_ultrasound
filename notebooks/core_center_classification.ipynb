{
 "cells": [
  {
   "cell_type": "code",
   "execution_count": 1,
   "metadata": {},
   "outputs": [
    {
     "name": "stderr",
     "output_type": "stream",
     "text": [
      "Preparing cores: 100%|██████████| 4066/4066 [00:00<00:00, 89021.57it/s]\n",
      "Indexing Patches: 100%|██████████| 4066/4066 [02:27<00:00, 27.49it/s]\n",
      "Preparing cores: 100%|██████████| 1346/1346 [00:00<00:00, 112696.54it/s]\n",
      "Indexing Patches: 100%|██████████| 1346/1346 [00:55<00:00, 24.44it/s]\n",
      "Preparing cores: 100%|██████████| 1195/1195 [00:00<00:00, 108882.61it/s]\n",
      "Indexing Patches: 100%|██████████| 1195/1195 [00:47<00:00, 25.13it/s]\n"
     ]
    }
   ],
   "source": [
    "from exactvu.data.dataset import PatchesDatasetNew, PatchViewConfig\n",
    "from torch.utils.data import WeightedRandomSampler\n",
    "from exactvu.data.utils import data_dir\n",
    "import os\n",
    "import torch \n",
    "\n",
    "from exactvu.data.splits import Splits, SplitsConfig, CENTERS\n",
    "\n",
    "s = Splits(SplitsConfig(cohort_specifier=[\"UVA\", \"CRCEO\", \"JH\", \"PCC\", \"PMCC\"], balance_classes=False))\n",
    "\n",
    "from exactvu.data.transforms import TransformV2, TransformConfig, PrebuiltConfigs\n",
    "\n",
    "t = TransformV2(PrebuiltConfigs.CROPS)\n",
    "\n",
    "center2code = {\n",
    "    center: i for i, center in enumerate(CENTERS)\n",
    "}\n",
    "m_t = lambda metadata: torch.tensor(\n",
    "    center2code[metadata['center']]\n",
    ")\n",
    "\n",
    "\n",
    "train_ds = PatchesDatasetNew(\n",
    "    root=os.path.join(data_dir(), \"cores_dataset\"),\n",
    "    patch_view_config=PatchViewConfig(prostate_region_only=False),\n",
    "    core_specifier_list=s.get_train(merge_centers=True),\n",
    "    patch_transform=t,\n",
    "    metadata_transform=m_t\n",
    ")\n",
    "\n",
    "val_ds = PatchesDatasetNew( \n",
    "    root=os.path.join(data_dir(), \"cores_dataset\"),\n",
    "    patch_view_config=PatchViewConfig(prostate_region_only=False),\n",
    "    core_specifier_list=s.get_val(merge_centers=True),\n",
    "    patch_transform=t,\n",
    "    metadata_transform=m_t\n",
    ")\n",
    "\n",
    "test_ds = PatchesDatasetNew( \n",
    "    root=os.path.join(data_dir(), \"cores_dataset\"),\n",
    "    patch_view_config=PatchViewConfig(prostate_region_only=False),\n",
    "    core_specifier_list=s.get_test(merge_centers=True),\n",
    "    patch_transform=t,\n",
    "    metadata_transform=m_t\n",
    ")\n"
   ]
  },
  {
   "cell_type": "code",
   "execution_count": 2,
   "metadata": {},
   "outputs": [],
   "source": [
    "from torch.utils.data import dataloader\n",
    "import numpy as np\n",
    "from tqdm import tqdm\n",
    "\n",
    "def get_center_labels(ds: PatchesDatasetNew):\n",
    "\n",
    "    center_labels = []\n",
    "    for core, patch_view in tqdm(zip(ds.cores, ds.patch_views), desc='Gathering center labels'):\n",
    "        center = core.metadata['center']\n",
    "        code = center2code[center]\n",
    "        center_labels.extend([code] * len(patch_view))\n",
    "\n",
    "    return np.array(center_labels)\n",
    "\n",
    "\n",
    "def get_weights(labels: np.ndarray): \n",
    "    \"\"\"computes weights for a sampler\"\"\"\n",
    "\n",
    "    weights = np.zeros_like(labels)\n",
    "\n",
    "    for label in np.unique(labels): \n",
    "        ind = labels == label\n",
    "        weight = 1 / np.sum(ind)\n",
    "        weights = np.where(ind, weight, weights)\n",
    "\n",
    "    return weights\n",
    "\n",
    "\n",
    "def make_sampler(ds: PatchesDatasetNew):\n",
    "    labels = get_center_labels(ds)\n",
    "    weights = get_weights(labels)\n",
    "\n",
    "    return WeightedRandomSampler(\n",
    "        list(weights), len(weights), replacement=True\n",
    "    )\n",
    "\n",
    "\n",
    "def make_dataloader(ds: PatchesDatasetNew, train=True):\n",
    "    return dataloader.DataLoader(\n",
    "        ds, \n",
    "        64, \n",
    "        sampler=make_sampler(ds) if train else None,    \n",
    "    )"
   ]
  },
  {
   "cell_type": "code",
   "execution_count": 3,
   "metadata": {},
   "outputs": [
    {
     "name": "stderr",
     "output_type": "stream",
     "text": [
      "Gathering center labels: 4066it [00:50, 81.26it/s]\n"
     ]
    }
   ],
   "source": [
    "train_dl = make_dataloader(train_ds, True)\n",
    "val_dl = make_dataloader(val_ds, False)\n",
    "test_dl = make_dataloader(test_ds, False)"
   ]
  },
  {
   "cell_type": "code",
   "execution_count": 4,
   "metadata": {},
   "outputs": [],
   "source": [
    "batch = next(iter(train_dl))"
   ]
  },
  {
   "cell_type": "code",
   "execution_count": 5,
   "metadata": {},
   "outputs": [],
   "source": [
    "import pytorch_lightning as pl \n",
    "from torchmetrics.classification import Accuracy\n",
    "from exactvu.models.backbones import create_backbone\n",
    "\n",
    "\n",
    "class CenterDetector(pl.LightningModule):\n",
    "\n",
    "    def __init__(self):\n",
    "        super().__init__()\n",
    "        self.backbone = create_backbone('resnet_10_default_backbone')\n",
    "        self.clf = torch.nn.Linear(512, 5)\n",
    "        self.train_acc = Accuracy(num_classes=5, average='macro')\n",
    "        self.val_acc = Accuracy(num_classes=5, average='macro')\n",
    "        self.test_acc = Accuracy(num_classes=5, average='macro')\n",
    "\n",
    "    def forward(self, patches):\n",
    "        return self.clf(self.backbone(patches))\n",
    "\n",
    "    def training_step(self, batch, *args, **kwargs):\n",
    "        X, pos, y, center = batch \n",
    "        logits = self(X)\n",
    "        \n",
    "        self.train_acc(logits, center)\n",
    "        self.log('train/macro_acc', self.train_acc)\n",
    "\n",
    "        return torch.nn.functional.cross_entropy(logits, center)\n",
    "\n",
    "    def validation_step(self, batch, *args, **kwargs):\n",
    "        X, pos, y, center = batch \n",
    "        logits = self(X)\n",
    "        \n",
    "        self.val_acc(logits, center)\n",
    "        self.log('val/macro_acc', self.val_acc)\n",
    "\n",
    "    def test_step(self, batch, *args, **kwargs):\n",
    "        X, pos, y, center = batch \n",
    "        logits = self(X)\n",
    "        \n",
    "        self.test_acc(logits, center)\n",
    "        self.log('test/macro_acc', self.test_acc)\n",
    "\n",
    "    def configure_optimizers(self):\n",
    "        return torch.optim.Adam(self.parameters())\n",
    "\n",
    "model = CenterDetector()"
   ]
  },
  {
   "cell_type": "code",
   "execution_count": 6,
   "metadata": {},
   "outputs": [
    {
     "name": "stderr",
     "output_type": "stream",
     "text": [
      "ERROR:wandb.jupyter:Failed to detect the name of this notebook, you can set it manually with the WANDB_NOTEBOOK_NAME environment variable to enable code saving.\n",
      "\u001b[34m\u001b[1mwandb\u001b[0m: Currently logged in as: \u001b[33mpfrwilson\u001b[0m. Use \u001b[1m`wandb login --relogin`\u001b[0m to force relogin\n",
      "/usr/bin/nvidia-modprobe: unrecognized option: \"-s\"\n",
      "\n",
      "ERROR: Invalid commandline, please run `/usr/bin/nvidia-modprobe --help` for usage information.\n",
      "\n",
      "\n",
      "/usr/bin/nvidia-modprobe: unrecognized option: \"-s\"\n",
      "\n",
      "ERROR: Invalid commandline, please run `/usr/bin/nvidia-modprobe --help` for usage information.\n",
      "\n",
      "\n"
     ]
    },
    {
     "data": {
      "text/html": [
       "wandb version 0.13.2 is available!  To upgrade, please run:\n",
       " $ pip install wandb --upgrade"
      ],
      "text/plain": [
       "<IPython.core.display.HTML object>"
      ]
     },
     "metadata": {},
     "output_type": "display_data"
    },
    {
     "data": {
      "text/html": [
       "Tracking run with wandb version 0.12.20"
      ],
      "text/plain": [
       "<IPython.core.display.HTML object>"
      ]
     },
     "metadata": {},
     "output_type": "display_data"
    },
    {
     "data": {
      "text/html": [
       "Run data is saved locally in <code>/home/paulw/projects/SSLmicroUltrasound/notebooks/wandb/run-20220831_132121-1249ghw5</code>"
      ],
      "text/plain": [
       "<IPython.core.display.HTML object>"
      ]
     },
     "metadata": {},
     "output_type": "display_data"
    },
    {
     "data": {
      "text/html": [
       "Syncing run <strong><a href=\"https://wandb.ai/pfrwilson/SSLmicroUltrasound-notebooks/runs/1249ghw5\" target=\"_blank\">center guessing</a></strong> to <a href=\"https://wandb.ai/pfrwilson/SSLmicroUltrasound-notebooks\" target=\"_blank\">Weights & Biases</a> (<a href=\"https://wandb.me/run\" target=\"_blank\">docs</a>)<br/>"
      ],
      "text/plain": [
       "<IPython.core.display.HTML object>"
      ]
     },
     "metadata": {},
     "output_type": "display_data"
    }
   ],
   "source": [
    "from pytorch_lightning.loggers import WandbLogger\n",
    "\n",
    "logger = WandbLogger(name='center guessing')"
   ]
  },
  {
   "cell_type": "code",
   "execution_count": 7,
   "metadata": {},
   "outputs": [
    {
     "name": "stderr",
     "output_type": "stream",
     "text": [
      "GPU available: True, used: True\n",
      "TPU available: False, using: 0 TPU cores\n",
      "IPU available: False, using: 0 IPUs\n",
      "HPU available: False, using: 0 HPUs\n"
     ]
    }
   ],
   "source": [
    "from pytorch_lightning.callbacks import EarlyStopping, ModelCheckpoint\n",
    "\n",
    "trainer = pl.Trainer(\n",
    "    logger=logger,\n",
    "    accelerator=\"gpu\",\n",
    "    devices=[0],\n",
    "    max_epochs=20,\n",
    "    callbacks=[EarlyStopping(monitor=\"val/macro_acc\", mode=\"max\"), ModelCheckpoint(monitor='val/macro_acc', mode='max')],\n",
    ")\n"
   ]
  },
  {
   "cell_type": "code",
   "execution_count": 8,
   "metadata": {},
   "outputs": [
    {
     "name": "stderr",
     "output_type": "stream",
     "text": [
      "LOCAL_RANK: 0 - CUDA_VISIBLE_DEVICES: [0,1]\n",
      "\n",
      "  | Name      | Type     | Params\n",
      "---------------------------------------\n",
      "0 | backbone  | ResNet   | 4.9 M \n",
      "1 | clf       | Linear   | 2.6 K \n",
      "2 | train_acc | Accuracy | 0     \n",
      "3 | val_acc   | Accuracy | 0     \n",
      "4 | test_acc  | Accuracy | 0     \n",
      "---------------------------------------\n",
      "4.9 M     Trainable params\n",
      "0         Non-trainable params\n",
      "4.9 M     Total params\n",
      "19.608    Total estimated model params size (MB)\n"
     ]
    },
    {
     "data": {
      "application/vnd.jupyter.widget-view+json": {
       "model_id": "33fd553fb410442fa31d0fe1d4c4d021",
       "version_major": 2,
       "version_minor": 0
      },
      "text/plain": [
       "Sanity Checking: 0it [00:00, ?it/s]"
      ]
     },
     "metadata": {},
     "output_type": "display_data"
    },
    {
     "name": "stderr",
     "output_type": "stream",
     "text": [
      "/home/paulw/anaconda3/envs/exact/lib/python3.9/site-packages/pytorch_lightning/trainer/connectors/data_connector.py:240: PossibleUserWarning: The dataloader, val_dataloader 0, does not have many workers which may be a bottleneck. Consider increasing the value of the `num_workers` argument` (try 20 which is the number of cpus on this machine) in the `DataLoader` init to improve performance.\n",
      "  rank_zero_warn(\n",
      "/home/paulw/anaconda3/envs/exact/lib/python3.9/site-packages/pytorch_lightning/trainer/connectors/data_connector.py:240: PossibleUserWarning: The dataloader, train_dataloader, does not have many workers which may be a bottleneck. Consider increasing the value of the `num_workers` argument` (try 20 which is the number of cpus on this machine) in the `DataLoader` init to improve performance.\n",
      "  rank_zero_warn(\n"
     ]
    },
    {
     "data": {
      "application/vnd.jupyter.widget-view+json": {
       "model_id": "146f8fc0b44149939b40c9982731baf7",
       "version_major": 2,
       "version_minor": 0
      },
      "text/plain": [
       "Training: 0it [00:00, ?it/s]"
      ]
     },
     "metadata": {},
     "output_type": "display_data"
    },
    {
     "data": {
      "application/vnd.jupyter.widget-view+json": {
       "model_id": "f7b03426cd4b483f985afbcb083e35c1",
       "version_major": 2,
       "version_minor": 0
      },
      "text/plain": [
       "Validation: 0it [00:00, ?it/s]"
      ]
     },
     "metadata": {},
     "output_type": "display_data"
    },
    {
     "data": {
      "application/vnd.jupyter.widget-view+json": {
       "model_id": "c6f12787c07f4a31bd466a0f206a8e43",
       "version_major": 2,
       "version_minor": 0
      },
      "text/plain": [
       "Validation: 0it [00:00, ?it/s]"
      ]
     },
     "metadata": {},
     "output_type": "display_data"
    },
    {
     "data": {
      "application/vnd.jupyter.widget-view+json": {
       "model_id": "997c8bec26a14a9aa2c2df8b05820977",
       "version_major": 2,
       "version_minor": 0
      },
      "text/plain": [
       "Validation: 0it [00:00, ?it/s]"
      ]
     },
     "metadata": {},
     "output_type": "display_data"
    },
    {
     "data": {
      "application/vnd.jupyter.widget-view+json": {
       "model_id": "297f1328411e456192f87e7cb42e9e7f",
       "version_major": 2,
       "version_minor": 0
      },
      "text/plain": [
       "Validation: 0it [00:00, ?it/s]"
      ]
     },
     "metadata": {},
     "output_type": "display_data"
    },
    {
     "data": {
      "application/vnd.jupyter.widget-view+json": {
       "model_id": "8234630312fe4818abe34d83cf79eb53",
       "version_major": 2,
       "version_minor": 0
      },
      "text/plain": [
       "Validation: 0it [00:00, ?it/s]"
      ]
     },
     "metadata": {},
     "output_type": "display_data"
    },
    {
     "data": {
      "application/vnd.jupyter.widget-view+json": {
       "model_id": "5d5886eacb0d4bafac6d7f3a9d720988",
       "version_major": 2,
       "version_minor": 0
      },
      "text/plain": [
       "Validation: 0it [00:00, ?it/s]"
      ]
     },
     "metadata": {},
     "output_type": "display_data"
    },
    {
     "data": {
      "application/vnd.jupyter.widget-view+json": {
       "model_id": "225202caecf64d059fc8f6747e3d2617",
       "version_major": 2,
       "version_minor": 0
      },
      "text/plain": [
       "Validation: 0it [00:00, ?it/s]"
      ]
     },
     "metadata": {},
     "output_type": "display_data"
    },
    {
     "name": "stderr",
     "output_type": "stream",
     "text": [
      "/home/paulw/anaconda3/envs/exact/lib/python3.9/site-packages/pytorch_lightning/trainer/trainer.py:726: UserWarning: Detected KeyboardInterrupt, attempting graceful shutdown...\n",
      "  rank_zero_warn(\"Detected KeyboardInterrupt, attempting graceful shutdown...\")\n"
     ]
    }
   ],
   "source": [
    "trainer.fit(model, train_dl, val_dataloaders=val_dl)"
   ]
  },
  {
   "cell_type": "code",
   "execution_count": 10,
   "metadata": {},
   "outputs": [
    {
     "data": {
      "text/plain": [
       "''"
      ]
     },
     "execution_count": 10,
     "metadata": {},
     "output_type": "execute_result"
    }
   ],
   "source": [
    "trainer.checkpoint_callback.last_model_path"
   ]
  },
  {
   "cell_type": "code",
   "execution_count": null,
   "metadata": {},
   "outputs": [],
   "source": [
    "trainer.checkpoint_callback.on_load_checkpoint"
   ]
  },
  {
   "cell_type": "code",
   "execution_count": 11,
   "metadata": {},
   "outputs": [
    {
     "name": "stderr",
     "output_type": "stream",
     "text": [
      "Restoring states from the checkpoint path at /home/paulw/projects/SSLmicroUltrasound/notebooks/SSLmicroUltrasound-notebooks/1249ghw5/checkpoints/epoch=5-step=20970.ckpt\n",
      "LOCAL_RANK: 0 - CUDA_VISIBLE_DEVICES: [0,1]\n",
      "Loaded model weights from checkpoint at /home/paulw/projects/SSLmicroUltrasound/notebooks/SSLmicroUltrasound-notebooks/1249ghw5/checkpoints/epoch=5-step=20970.ckpt\n",
      "/home/paulw/anaconda3/envs/exact/lib/python3.9/site-packages/pytorch_lightning/trainer/connectors/data_connector.py:240: PossibleUserWarning: The dataloader, test_dataloader 0, does not have many workers which may be a bottleneck. Consider increasing the value of the `num_workers` argument` (try 20 which is the number of cpus on this machine) in the `DataLoader` init to improve performance.\n",
      "  rank_zero_warn(\n"
     ]
    },
    {
     "data": {
      "application/vnd.jupyter.widget-view+json": {
       "model_id": "ccefb8c15304456ba1e181ed1ef9b57f",
       "version_major": 2,
       "version_minor": 0
      },
      "text/plain": [
       "Testing: 0it [00:00, ?it/s]"
      ]
     },
     "metadata": {},
     "output_type": "display_data"
    },
    {
     "data": {
      "text/html": [
       "<pre style=\"white-space:pre;overflow-x:auto;line-height:normal;font-family:Menlo,'DejaVu Sans Mono',consolas,'Courier New',monospace\">┏━━━━━━━━━━━━━━━━━━━━━━━━━━━┳━━━━━━━━━━━━━━━━━━━━━━━━━━━┓\n",
       "┃<span style=\"font-weight: bold\">        Test metric        </span>┃<span style=\"font-weight: bold\">       DataLoader 0        </span>┃\n",
       "┡━━━━━━━━━━━━━━━━━━━━━━━━━━━╇━━━━━━━━━━━━━━━━━━━━━━━━━━━┩\n",
       "│<span style=\"color: #008080; text-decoration-color: #008080\">      test/macro_acc       </span>│<span style=\"color: #800080; text-decoration-color: #800080\">    0.31266552209854126    </span>│\n",
       "└───────────────────────────┴───────────────────────────┘\n",
       "</pre>\n"
      ],
      "text/plain": [
       "┏━━━━━━━━━━━━━━━━━━━━━━━━━━━┳━━━━━━━━━━━━━━━━━━━━━━━━━━━┓\n",
       "┃\u001b[1m \u001b[0m\u001b[1m       Test metric       \u001b[0m\u001b[1m \u001b[0m┃\u001b[1m \u001b[0m\u001b[1m      DataLoader 0       \u001b[0m\u001b[1m \u001b[0m┃\n",
       "┡━━━━━━━━━━━━━━━━━━━━━━━━━━━╇━━━━━━━━━━━━━━━━━━━━━━━━━━━┩\n",
       "│\u001b[36m \u001b[0m\u001b[36m     test/macro_acc      \u001b[0m\u001b[36m \u001b[0m│\u001b[35m \u001b[0m\u001b[35m   0.31266552209854126   \u001b[0m\u001b[35m \u001b[0m│\n",
       "└───────────────────────────┴───────────────────────────┘\n"
      ]
     },
     "metadata": {},
     "output_type": "display_data"
    },
    {
     "data": {
      "text/plain": [
       "[{'test/macro_acc': 0.31266552209854126}]"
      ]
     },
     "execution_count": 11,
     "metadata": {},
     "output_type": "execute_result"
    }
   ],
   "source": [
    "trainer.test(model, test_dl, ckpt_path='best')"
   ]
  },
  {
   "cell_type": "code",
   "execution_count": null,
   "metadata": {},
   "outputs": [],
   "source": [
    "labels = np.array([1, 1, 1, 1, 1, 0, 0,])"
   ]
  },
  {
   "cell_type": "code",
   "execution_count": null,
   "metadata": {},
   "outputs": [],
   "source": [
    "x = labels == 0"
   ]
  },
  {
   "cell_type": "code",
   "execution_count": null,
   "metadata": {},
   "outputs": [],
   "source": []
  },
  {
   "cell_type": "code",
   "execution_count": null,
   "metadata": {},
   "outputs": [
    {
     "data": {
      "text/plain": [
       "array([1. , 1. , 1. , 1. , 1. , 0.5, 0.5])"
      ]
     },
     "execution_count": 49,
     "metadata": {},
     "output_type": "execute_result"
    }
   ],
   "source": [
    "np.where(x, 0.5, labels)"
   ]
  },
  {
   "cell_type": "code",
   "execution_count": null,
   "metadata": {},
   "outputs": [
    {
     "data": {
      "text/plain": [
       "array([0.2, 0.2, 0.2, 0.2, 0.2, 0.5, 0.5])"
      ]
     },
     "execution_count": 51,
     "metadata": {},
     "output_type": "execute_result"
    }
   ],
   "source": [
    "get_weights(np.array([1, 1, 1, 1, 1, 0, 0,]))"
   ]
  },
  {
   "cell_type": "code",
   "execution_count": null,
   "metadata": {},
   "outputs": [
    {
     "data": {
      "text/plain": [
       "0       CRCEO\n",
       "1       CRCEO\n",
       "2       CRCEO\n",
       "3       CRCEO\n",
       "4       CRCEO\n",
       "        ...  \n",
       "6602      UVA\n",
       "6603      UVA\n",
       "6604      UVA\n",
       "6605      UVA\n",
       "6606      UVA\n",
       "Name: center, Length: 6607, dtype: object"
      ]
     },
     "execution_count": 36,
     "metadata": {},
     "output_type": "execute_result"
    }
   ],
   "source": [
    "from exactvu.resources import metadata\n",
    "metadata()"
   ]
  },
  {
   "cell_type": "code",
   "execution_count": null,
   "metadata": {},
   "outputs": [
    {
     "data": {
      "text/plain": [
       "0      CRCEO\n",
       "1      CRCEO\n",
       "2      CRCEO\n",
       "3      CRCEO\n",
       "4      CRCEO\n",
       "       ...  \n",
       "975      UVA\n",
       "976      UVA\n",
       "977      UVA\n",
       "978      UVA\n",
       "979      UVA\n",
       "Name: center, Length: 980, dtype: object"
      ]
     },
     "execution_count": 33,
     "metadata": {},
     "output_type": "execute_result"
    }
   ],
   "source": [
    "train_ds.metadata['center']"
   ]
  },
  {
   "cell_type": "code",
   "execution_count": null,
   "metadata": {},
   "outputs": [
    {
     "data": {
      "text/plain": [
       "[<matplotlib.lines.Line2D at 0x7f67fa6b2400>]"
      ]
     },
     "execution_count": 34,
     "metadata": {},
     "output_type": "execute_result"
    },
    {
     "data": {
      "image/png": "[encoded data removed]",
      "text/plain": [
       "<Figure size 432x288 with 1 Axes>"
      ]
     },
     "metadata": {
      "needs_background": "light"
     },
     "output_type": "display_data"
    }
   ],
   "source": [
    "import matplotlib.pyplot as plt\n",
    "plt.plot(get_center_labels(train_ds))"
   ]
  },
  {
   "cell_type": "code",
   "execution_count": null,
   "metadata": {},
   "outputs": [
    {
     "data": {
      "text/plain": [
       "53900"
      ]
     },
     "execution_count": 6,
     "metadata": {},
     "output_type": "execute_result"
    }
   ],
   "source": [
    "len(train_ds)"
   ]
  },
  {
   "cell_type": "code",
   "execution_count": null,
   "metadata": {},
   "outputs": [],
   "source": []
  },
  {
   "cell_type": "code",
   "execution_count": null,
   "metadata": {},
   "outputs": [
    {
     "data": {
      "text/plain": [
       "(18, 10)"
      ]
     },
     "execution_count": 8,
     "metadata": {},
     "output_type": "execute_result"
    }
   ],
   "source": [
    "train_ds.get_item_and_subitem_idx(1000)"
   ]
  },
  {
   "cell_type": "code",
   "execution_count": null,
   "metadata": {},
   "outputs": [],
   "source": []
  }
 ],
 "metadata": {
  "kernelspec": {
   "display_name": "Python 3.9.7 ('exact')",
   "language": "python",
   "name": "python3"
  },
  "language_info": {
   "codemirror_mode": {
    "name": "ipython",
    "version": 3
   },
   "file_extension": ".py",
   "mimetype": "text/x-python",
   "name": "python",
   "nbconvert_exporter": "python",
   "pygments_lexer": "ipython3",
   "version": "3.9.7"
  },
  "orig_nbformat": 4,
  "vscode": {
   "interpreter": {
    "hash": "7a5cbe58c68b89c0961f395f53ada90e2e240c2940fb46fd24937fe03ca7f49a"
   }
  }
 },
 "nbformat": 4,
 "nbformat_minor": 2
}
