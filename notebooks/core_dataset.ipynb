{
 "cells": [
  {
   "cell_type": "code",
   "execution_count": 1,
   "outputs": [
    {
     "name": "stdout",
     "output_type": "stream",
     "text": [
      "/home/mahdigilany/offline_codes/codes/SSLmicroUltrasound\n"
     ]
    }
   ],
   "source": [
    "%cd .."
   ],
   "metadata": {
    "collapsed": false,
    "pycharm": {
     "name": "#%%\n"
    }
   }
  },
  {
   "cell_type": "code",
   "execution_count": 2,
   "outputs": [
    {
     "data": {
      "text/plain": "True"
     },
     "execution_count": 2,
     "metadata": {},
     "output_type": "execute_result"
    }
   ],
   "source": [
    "# Datamodule Usage Demo\n",
    "import dotenv\n",
    "dotenv.load_dotenv()"
   ],
   "metadata": {
    "collapsed": false,
    "pycharm": {
     "name": "#%%\n"
    }
   }
  },
  {
   "cell_type": "code",
   "execution_count": 7,
   "outputs": [
    {
     "name": "stdout",
     "output_type": "stream",
     "text": [
      "env: DATA=../../../projects_data/Exact/\n"
     ]
    },
    {
     "name": "stderr",
     "output_type": "stream",
     "text": [
      "/home/mahdigilany/anaconda3/envs/ssl_env/lib/python3.8/site-packages/exactvu/data/datamodule.py:624: UserWarning: Using this datamodule with batch size greater than 1 is untested.\n",
      "  warn(\"Using this datamodule with batch size greater than 1 is untested.\")\n"
     ]
    }
   ],
   "source": [
    "from exactvu.data.datamodule import ConcatenatedCoresDataModule\n",
    "from exactvu.data.core import PatchViewConfig\n",
    "from exactvu.data.splits import SplitsConfig\n",
    "%env DATA=../../../projects_data/Exact/\n",
    "\n",
    "patch_view_config = PatchViewConfig(needle_region_only=True, prostate_region_only=True)\n",
    "split_config = SplitsConfig(cohort_specifier=\"UVA600\")\n",
    "dm = ConcatenatedCoresDataModule(patch_view_config=patch_view_config, splits_config=split_config, batch_size=3)"
   ],
   "metadata": {
    "collapsed": false,
    "pycharm": {
     "name": "#%%\n"
    }
   }
  },
  {
   "cell_type": "code",
   "execution_count": 8,
   "outputs": [
    {
     "name": "stderr",
     "output_type": "stream",
     "text": [
      "Preparing cores: 100%|██████████| 286/286 [00:02<00:00, 101.02it/s]\n",
      "Preparing cores: 100%|██████████| 112/112 [00:01<00:00, 102.30it/s]\n",
      "Preparing cores: 100%|██████████| 81/81 [00:00<00:00, 103.77it/s]\n"
     ]
    }
   ],
   "source": [
    "dm.setup()"
   ],
   "metadata": {
    "collapsed": false,
    "pycharm": {
     "name": "#%%\n"
    }
   }
  },
  {
   "cell_type": "code",
   "execution_count": 9,
   "outputs": [],
   "source": [
    "testloader = dm.test_dataloader()\n",
    "loader_iter = iter(testloader)"
   ],
   "metadata": {
    "collapsed": false,
    "pycharm": {
     "name": "#%%\n"
    }
   }
  },
  {
   "cell_type": "code",
   "execution_count": 10,
   "outputs": [
    {
     "name": "stdout",
     "output_type": "stream",
     "text": [
      "torch.Size([135, 1, 256, 256])\n"
     ]
    }
   ],
   "source": [
    "x = next(loader_iter)\n",
    "print(x[0].shape)"
   ],
   "metadata": {
    "collapsed": false,
    "pycharm": {
     "name": "#%% x = next()\n"
    }
   }
  },
  {
   "cell_type": "code",
   "execution_count": 30,
   "outputs": [
    {
     "name": "stdout",
     "output_type": "stream",
     "text": [
      "torch.Size([54, 1, 256, 256])\n",
      "81\n"
     ]
    }
   ],
   "source": [
    "x = dm.test_ds.__getitem__(1)\n",
    "core_len = dm.test_ds.__len__()\n",
    "print(x[0].shape)\n",
    "print(core_len)"
   ],
   "metadata": {
    "collapsed": false,
    "pycharm": {
     "name": "#%%\n"
    }
   }
  }
 ],
 "metadata": {
  "kernelspec": {
   "display_name": "Python 3",
   "language": "python",
   "name": "python3"
  },
  "language_info": {
   "codemirror_mode": {
    "name": "ipython",
    "version": 2
   },
   "file_extension": ".py",
   "mimetype": "text/x-python",
   "name": "python",
   "nbconvert_exporter": "python",
   "pygments_lexer": "ipython2",
   "version": "2.7.6"
  }
 },
 "nbformat": 4,
 "nbformat_minor": 0
}