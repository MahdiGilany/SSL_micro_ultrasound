{
 "cells": [
  {
   "cell_type": "code",
   "execution_count": 1,
   "outputs": [
    {
     "name": "stdout",
     "output_type": "stream",
     "text": [
      "/home/mahdigilany/offline_codes/codes/SSLmicroUltrasound\n"
     ]
    }
   ],
   "source": [
    "import matplotlib.pyplot as plt\n",
    "import torch\n",
    "%cd .."
   ],
   "metadata": {
    "collapsed": false,
    "pycharm": {
     "name": "#%%\n"
    }
   }
  },
  {
   "cell_type": "code",
   "execution_count": 2,
   "outputs": [
    {
     "data": {
      "text/plain": "True"
     },
     "execution_count": 2,
     "metadata": {},
     "output_type": "execute_result"
    }
   ],
   "source": [
    "# Datamodule Usage Demo\n",
    "import dotenv\n",
    "dotenv.load_dotenv()"
   ],
   "metadata": {
    "collapsed": false,
    "pycharm": {
     "name": "#%%\n"
    }
   }
  },
  {
   "cell_type": "code",
   "execution_count": 3,
   "outputs": [
    {
     "name": "stdout",
     "output_type": "stream",
     "text": [
      "env: DATA=../../../projects_data/Exact/\n"
     ]
    }
   ],
   "source": [
    "from exactvu.data.datamodule import ExactSSLDataModule\n",
    "%env DATA=../../../projects_data/Exact/\n",
    "\n",
    "dm = ExactSSLDataModule(mode=\"self-supervised\",prostate_region_only=False, needle_region_only=False, patch_stride_mm=(1,1), cohort_specifier=\"CRCEO\")"
   ],
   "metadata": {
    "collapsed": false,
    "pycharm": {
     "name": "#%%\n"
    }
   }
  },
  {
   "cell_type": "code",
   "execution_count": 4,
   "outputs": [
    {
     "name": "stderr",
     "output_type": "stream",
     "text": [
      "100%|██████████| 262/262 [00:02<00:00, 105.32it/s]\n",
      "100%|██████████| 82/82 [00:00<00:00, 108.89it/s]\n",
      "100%|██████████| 84/84 [00:00<00:00, 111.81it/s]\n"
     ]
    }
   ],
   "source": [
    "dm.setup()"
   ],
   "metadata": {
    "collapsed": false,
    "pycharm": {
     "name": "#%%\n"
    }
   }
  },
  {
   "cell_type": "code",
   "execution_count": 5,
   "outputs": [],
   "source": [
    "from exactvu.data.splits import SplitsConfig, get_splits, CENTERS\n",
    "from exactvu.resources import metadata\n",
    "splits = get_splits(SplitsConfig('UVA600'))\n",
    "\n",
    "val_meta = metadata().query('core_specifier in @splits[1]')\n",
    "test_meta = metadata().query('core_specifier in @splits[2]')"
   ],
   "metadata": {
    "collapsed": false,
    "pycharm": {
     "name": "#%%\n"
    }
   }
  },
  {
   "cell_type": "code",
   "execution_count": 10,
   "outputs": [
    {
     "data": {
      "text/plain": "<AxesSubplot:title={'center':'test'}>"
     },
     "execution_count": 10,
     "metadata": {},
     "output_type": "execute_result"
    },
    {
     "data": {
      "text/plain": "<Figure size 432x288 with 2 Axes>",
      "image/png": "[encoded data removed]"
     },
     "metadata": {
      "needs_background": "light"
     },
     "output_type": "display_data"
    }
   ],
   "source": [
    "import matplotlib.pyplot as plt\n",
    "fig, axes = plt.subplots(1, 2, sharex=True, sharey=True)\n",
    "axes[0].set_title(\"val\")\n",
    "axes[1].set_title(\"test\")\n",
    "val_meta[\"pct_cancer\"].hist(ax=axes[0])\n",
    "test_meta[\"pct_cancer\"].hist(ax=axes[1])"
   ],
   "metadata": {
    "collapsed": false,
    "pycharm": {
     "name": "#%%\n"
    }
   }
  },
  {
   "cell_type": "code",
   "execution_count": 79,
   "outputs": [
    {
     "data": {
      "text/plain": "<AxesSubplot:title={'center':'test'}>"
     },
     "execution_count": 79,
     "metadata": {},
     "output_type": "execute_result"
    },
    {
     "data": {
      "text/plain": "<Figure size 432x288 with 2 Axes>",
      "image/png": "[encoded data removed]"
     },
     "metadata": {
      "needs_background": "light"
     },
     "output_type": "display_data"
    }
   ],
   "source": [
    "fig, axes = plt.subplots(1, 2, sharex=True, sharey=True)\n",
    "axes[0].set_title(\"val\")\n",
    "axes[1].set_title(\"test\")\n",
    "val_meta[\"grade\"].hist(ax=axes[0])\n",
    "test_meta[\"grade\"].hist(ax=axes[1])"
   ],
   "metadata": {
    "collapsed": false,
    "pycharm": {
     "name": "#%%\n"
    }
   }
  },
  {
   "cell_type": "code",
   "execution_count": 80,
   "outputs": [
    {
     "data": {
      "text/plain": "<AxesSubplot:title={'center':'test_secondary'}>"
     },
     "execution_count": 80,
     "metadata": {},
     "output_type": "execute_result"
    },
    {
     "data": {
      "text/plain": "<Figure size 432x288 with 4 Axes>",
      "image/png": "[encoded data removed]"
     },
     "metadata": {
      "needs_background": "light"
     },
     "output_type": "display_data"
    }
   ],
   "source": [
    "fig, axes = plt.subplots(2, 2, sharex=True, sharey=True)\n",
    "axes[0,0].set_title(\"val_primary\")\n",
    "axes[0,1].set_title(\"test_primary\")\n",
    "axes[1,0].set_title(\"val_secondary\")\n",
    "axes[1,1].set_title(\"test_secondary\")\n",
    "val_meta[\"primary_grade\"].hist(ax=axes[0,0])\n",
    "test_meta[\"primary_grade\"].hist(ax=axes[0,1])\n",
    "val_meta[\"secondary_grade\"].hist(ax=axes[1,0])\n",
    "test_meta[\"secondary_grade\"].hist(ax=axes[1,1])"
   ],
   "metadata": {
    "collapsed": false,
    "pycharm": {
     "name": "#%%\n"
    }
   }
  },
  {
   "cell_type": "code",
   "execution_count": 26,
   "outputs": [
    {
     "data": {
      "text/plain": "4"
     },
     "execution_count": 26,
     "metadata": {},
     "output_type": "execute_result"
    }
   ],
   "source": [
    "len(test_meta.query(\"pct_cancer > 40. and primary_grade==4 and secondary_grade==5\"))\n",
    "len(val_meta.query(\"pct_cancer > 40. and primary_grade==4 and secondary_grade==4\"))"
   ],
   "metadata": {
    "collapsed": false,
    "pycharm": {
     "name": "#%%\n"
    }
   }
  },
  {
   "cell_type": "code",
   "execution_count": 85,
   "outputs": [],
   "source": [
    "splits = get_splits(SplitsConfig('CRCEO'))\n",
    "\n",
    "val_meta = metadata().query('core_specifier in @splits[1]')\n",
    "test_meta = metadata().query('core_specifier in @splits[2]')"
   ],
   "metadata": {
    "collapsed": false,
    "pycharm": {
     "name": "#%%\n"
    }
   }
  },
  {
   "cell_type": "code",
   "execution_count": 86,
   "outputs": [
    {
     "data": {
      "text/plain": "<AxesSubplot:title={'center':'test'}>"
     },
     "execution_count": 86,
     "metadata": {},
     "output_type": "execute_result"
    },
    {
     "data": {
      "text/plain": "<Figure size 432x288 with 2 Axes>",
      "image/png": "[encoded data removed]"
     },
     "metadata": {
      "needs_background": "light"
     },
     "output_type": "display_data"
    }
   ],
   "source": [
    "fig, axes = plt.subplots(1, 2, sharex=True, sharey=True)\n",
    "axes[0].set_title(\"val\")\n",
    "axes[1].set_title(\"test\")\n",
    "val_meta[\"pct_cancer\"].hist(ax=axes[0])\n",
    "test_meta[\"pct_cancer\"].hist(ax=axes[1])"
   ],
   "metadata": {
    "collapsed": false,
    "pycharm": {
     "name": "#%%\n"
    }
   }
  },
  {
   "cell_type": "code",
   "execution_count": 88,
   "outputs": [
    {
     "data": {
      "text/plain": "<AxesSubplot:title={'center':'test'}>"
     },
     "execution_count": 88,
     "metadata": {},
     "output_type": "execute_result"
    },
    {
     "data": {
      "text/plain": "<Figure size 432x288 with 2 Axes>",
      "image/png": "[encoded data removed]"
     },
     "metadata": {
      "needs_background": "light"
     },
     "output_type": "display_data"
    }
   ],
   "source": [
    "fig, axes = plt.subplots(1, 2, sharex=True, sharey=True)\n",
    "axes[0].set_title(\"val\")\n",
    "axes[1].set_title(\"test\")\n",
    "val_meta[\"grade\"].hist(ax=axes[0])\n",
    "test_meta[\"grade\"].hist(ax=axes[1])"
   ],
   "metadata": {
    "collapsed": false,
    "pycharm": {
     "name": "#%%\n"
    }
   }
  },
  {
   "cell_type": "code",
   "execution_count": 89,
   "outputs": [
    {
     "data": {
      "text/plain": "<AxesSubplot:title={'center':'test_secondary'}>"
     },
     "execution_count": 89,
     "metadata": {},
     "output_type": "execute_result"
    },
    {
     "data": {
      "text/plain": "<Figure size 432x288 with 4 Axes>",
      "image/png": "[encoded data removed]"
     },
     "metadata": {
      "needs_background": "light"
     },
     "output_type": "display_data"
    }
   ],
   "source": [
    "fig, axes = plt.subplots(2, 2, sharex=True, sharey=True)\n",
    "axes[0,0].set_title(\"val_primary\")\n",
    "axes[0,1].set_title(\"test_primary\")\n",
    "axes[1,0].set_title(\"val_secondary\")\n",
    "axes[1,1].set_title(\"test_secondary\")\n",
    "val_meta[\"primary_grade\"].hist(ax=axes[0,0])\n",
    "test_meta[\"primary_grade\"].hist(ax=axes[0,1])\n",
    "val_meta[\"secondary_grade\"].hist(ax=axes[1,0])\n",
    "test_meta[\"secondary_grade\"].hist(ax=axes[1,1])\n",
    "all_meta = metadata()\n",
    "all_meta.query(\"primary_grade == 3\")[\"psa\"].hist()\n",
    "all_meta.query(\"primary_grade == 3\")[\"psa\"].hist()"
   ],
   "metadata": {
    "collapsed": false,
    "pycharm": {
     "name": "#%%\n"
    }
   }
  },
  {
   "cell_type": "code",
   "execution_count": 111,
   "outputs": [
    {
     "data": {
      "text/plain": "      patient_id                                     path_on_server center  \\\n6596         628  /med-i_data/Data/Exact_Ultrasound/data/full_da...    UVA   \n6597         628  /med-i_data/Data/Exact_Ultrasound/data/full_da...    UVA   \n6598         628  /med-i_data/Data/Exact_Ultrasound/data/full_da...    UVA   \n6599         628  /med-i_data/Data/Exact_Ultrasound/data/full_da...    UVA   \n6600         628  /med-i_data/Data/Exact_Ultrasound/data/full_da...    UVA   \n6601         628  /med-i_data/Data/Exact_Ultrasound/data/full_da...    UVA   \n6602         628  /med-i_data/Data/Exact_Ultrasound/data/full_da...    UVA   \n6603         628  /med-i_data/Data/Exact_Ultrasound/data/full_da...    UVA   \n6604         628  /med-i_data/Data/Exact_Ultrasound/data/full_da...    UVA   \n6605         628  /med-i_data/Data/Exact_Ultrasound/data/full_da...    UVA   \n6606         628  /med-i_data/Data/Exact_Ultrasound/data/full_da...    UVA   \n\n      loc grade  age family_history  psa  pct_cancer  primary_grade  \\\n6596  LAL  GS10   76          False  1.2       100.0            5.0   \n6597  LAM  GS10   76          False  1.2       100.0            5.0   \n6598  LBL  GS10   76          False  1.2       100.0            5.0   \n6599  LBM  GS10   76          False  1.2       100.0            5.0   \n6600  LML  GS10   76          False  1.2       100.0            5.0   \n6601  RAL  GS10   76          False  1.2       100.0            5.0   \n6602  RAM  GS10   76          False  1.2       100.0            5.0   \n6603  RBL  GS10   76          False  1.2       100.0            5.0   \n6604  RBM  GS10   76          False  1.2       100.0            5.0   \n6605  RML  GS10   76          False  1.2       100.0            5.0   \n6606  RMM  GS10   76          False  1.2       100.0            5.0   \n\n      secondary_grade patient_specifier core_specifier  \n6596              5.0          UVA-0628   UVA-0628_LAL  \n6597              5.0          UVA-0628   UVA-0628_LAM  \n6598              5.0          UVA-0628   UVA-0628_LBL  \n6599              5.0          UVA-0628   UVA-0628_LBM  \n6600              5.0          UVA-0628   UVA-0628_LML  \n6601              5.0          UVA-0628   UVA-0628_RAL  \n6602              5.0          UVA-0628   UVA-0628_RAM  \n6603              5.0          UVA-0628   UVA-0628_RBL  \n6604              5.0          UVA-0628   UVA-0628_RBM  \n6605              5.0          UVA-0628   UVA-0628_RML  \n6606              5.0          UVA-0628   UVA-0628_RMM  ",
      "text/html": "<div>\n<style scoped>\n    .dataframe tbody tr th:only-of-type {\n        vertical-align: middle;\n    }\n\n    .dataframe tbody tr th {\n        vertical-align: top;\n    }\n\n    .dataframe thead th {\n        text-align: right;\n    }\n</style>\n<table border=\"1\" class=\"dataframe\">\n  <thead>\n    <tr style=\"text-align: right;\">\n      <th></th>\n      <th>patient_id</th>\n      <th>path_on_server</th>\n      <th>center</th>\n      <th>loc</th>\n      <th>grade</th>\n      <th>age</th>\n      <th>family_history</th>\n      <th>psa</th>\n      <th>pct_cancer</th>\n      <th>primary_grade</th>\n      <th>secondary_grade</th>\n      <th>patient_specifier</th>\n      <th>core_specifier</th>\n    </tr>\n  </thead>\n  <tbody>\n    <tr>\n      <th>6596</th>\n      <td>628</td>\n      <td>/med-i_data/Data/Exact_Ultrasound/data/full_da...</td>\n      <td>UVA</td>\n      <td>LAL</td>\n      <td>GS10</td>\n      <td>76</td>\n      <td>False</td>\n      <td>1.2</td>\n      <td>100.0</td>\n      <td>5.0</td>\n      <td>5.0</td>\n      <td>UVA-0628</td>\n      <td>UVA-0628_LAL</td>\n    </tr>\n    <tr>\n      <th>6597</th>\n      <td>628</td>\n      <td>/med-i_data/Data/Exact_Ultrasound/data/full_da...</td>\n      <td>UVA</td>\n      <td>LAM</td>\n      <td>GS10</td>\n      <td>76</td>\n      <td>False</td>\n      <td>1.2</td>\n      <td>100.0</td>\n      <td>5.0</td>\n      <td>5.0</td>\n      <td>UVA-0628</td>\n      <td>UVA-0628_LAM</td>\n    </tr>\n    <tr>\n      <th>6598</th>\n      <td>628</td>\n      <td>/med-i_data/Data/Exact_Ultrasound/data/full_da...</td>\n      <td>UVA</td>\n      <td>LBL</td>\n      <td>GS10</td>\n      <td>76</td>\n      <td>False</td>\n      <td>1.2</td>\n      <td>100.0</td>\n      <td>5.0</td>\n      <td>5.0</td>\n      <td>UVA-0628</td>\n      <td>UVA-0628_LBL</td>\n    </tr>\n    <tr>\n      <th>6599</th>\n      <td>628</td>\n      <td>/med-i_data/Data/Exact_Ultrasound/data/full_da...</td>\n      <td>UVA</td>\n      <td>LBM</td>\n      <td>GS10</td>\n      <td>76</td>\n      <td>False</td>\n      <td>1.2</td>\n      <td>100.0</td>\n      <td>5.0</td>\n      <td>5.0</td>\n      <td>UVA-0628</td>\n      <td>UVA-0628_LBM</td>\n    </tr>\n    <tr>\n      <th>6600</th>\n      <td>628</td>\n      <td>/med-i_data/Data/Exact_Ultrasound/data/full_da...</td>\n      <td>UVA</td>\n      <td>LML</td>\n      <td>GS10</td>\n      <td>76</td>\n      <td>False</td>\n      <td>1.2</td>\n      <td>100.0</td>\n      <td>5.0</td>\n      <td>5.0</td>\n      <td>UVA-0628</td>\n      <td>UVA-0628_LML</td>\n    </tr>\n    <tr>\n      <th>6601</th>\n      <td>628</td>\n      <td>/med-i_data/Data/Exact_Ultrasound/data/full_da...</td>\n      <td>UVA</td>\n      <td>RAL</td>\n      <td>GS10</td>\n      <td>76</td>\n      <td>False</td>\n      <td>1.2</td>\n      <td>100.0</td>\n      <td>5.0</td>\n      <td>5.0</td>\n      <td>UVA-0628</td>\n      <td>UVA-0628_RAL</td>\n    </tr>\n    <tr>\n      <th>6602</th>\n      <td>628</td>\n      <td>/med-i_data/Data/Exact_Ultrasound/data/full_da...</td>\n      <td>UVA</td>\n      <td>RAM</td>\n      <td>GS10</td>\n      <td>76</td>\n      <td>False</td>\n      <td>1.2</td>\n      <td>100.0</td>\n      <td>5.0</td>\n      <td>5.0</td>\n      <td>UVA-0628</td>\n      <td>UVA-0628_RAM</td>\n    </tr>\n    <tr>\n      <th>6603</th>\n      <td>628</td>\n      <td>/med-i_data/Data/Exact_Ultrasound/data/full_da...</td>\n      <td>UVA</td>\n      <td>RBL</td>\n      <td>GS10</td>\n      <td>76</td>\n      <td>False</td>\n      <td>1.2</td>\n      <td>100.0</td>\n      <td>5.0</td>\n      <td>5.0</td>\n      <td>UVA-0628</td>\n      <td>UVA-0628_RBL</td>\n    </tr>\n    <tr>\n      <th>6604</th>\n      <td>628</td>\n      <td>/med-i_data/Data/Exact_Ultrasound/data/full_da...</td>\n      <td>UVA</td>\n      <td>RBM</td>\n      <td>GS10</td>\n      <td>76</td>\n      <td>False</td>\n      <td>1.2</td>\n      <td>100.0</td>\n      <td>5.0</td>\n      <td>5.0</td>\n      <td>UVA-0628</td>\n      <td>UVA-0628_RBM</td>\n    </tr>\n    <tr>\n      <th>6605</th>\n      <td>628</td>\n      <td>/med-i_data/Data/Exact_Ultrasound/data/full_da...</td>\n      <td>UVA</td>\n      <td>RML</td>\n      <td>GS10</td>\n      <td>76</td>\n      <td>False</td>\n      <td>1.2</td>\n      <td>100.0</td>\n      <td>5.0</td>\n      <td>5.0</td>\n      <td>UVA-0628</td>\n      <td>UVA-0628_RML</td>\n    </tr>\n    <tr>\n      <th>6606</th>\n      <td>628</td>\n      <td>/med-i_data/Data/Exact_Ultrasound/data/full_da...</td>\n      <td>UVA</td>\n      <td>RMM</td>\n      <td>GS10</td>\n      <td>76</td>\n      <td>False</td>\n      <td>1.2</td>\n      <td>100.0</td>\n      <td>5.0</td>\n      <td>5.0</td>\n      <td>UVA-0628</td>\n      <td>UVA-0628_RMM</td>\n    </tr>\n  </tbody>\n</table>\n</div>"
     },
     "execution_count": 111,
     "metadata": {},
     "output_type": "execute_result"
    }
   ],
   "source": [
    "import scipy.stats as stats\n",
    "import numpy as np\n",
    "all_meta = metadata()\n",
    "all_meta.query(\"primary_grade == 5 and secondary_grade == 5\")"
   ],
   "metadata": {
    "collapsed": false,
    "pycharm": {
     "name": "#%%\n"
    }
   }
  },
  {
   "cell_type": "code",
   "execution_count": 107,
   "outputs": [],
   "source": [
    "gs3_4 = all_meta.query(\"primary_grade == 3\")\n",
    "gs4_3 = all_meta.query(\"primary_grade == 4 and secondary_grade == 3\")\n",
    "Benign = all_meta.query(\"grade == 'Benign'\")\n",
    "gs4_4 = all_meta.query(\"primary_grade == 4 and secondary_grade == 4\")"
   ],
   "metadata": {
    "collapsed": false,
    "pycharm": {
     "name": "#%%plt\n"
    }
   }
  },
  {
   "cell_type": "code",
   "execution_count": 108,
   "outputs": [
    {
     "data": {
      "text/plain": "<AxesSubplot:>"
     },
     "execution_count": 108,
     "metadata": {},
     "output_type": "execute_result"
    },
    {
     "data": {
      "text/plain": "<Figure size 432x288 with 4 Axes>",
      "image/png": "[encoded data removed]"
     },
     "metadata": {
      "needs_background": "light"
     },
     "output_type": "display_data"
    }
   ],
   "source": [
    "fig, axes = plt.subplots(2, 2, sharex=True, sharey=True)\n",
    "gs3_4[\"psa\"].hist(ax=axes[0,0], density=True, bins=20)\n",
    "gs4_3[\"psa\"].hist(ax=axes[0,1], density=True, bins=20)\n",
    "Benign[\"psa\"].hist(ax=axes[1,0], density=True, bins=20)\n",
    "gs4_4[\"psa\"].hist(ax=axes[1,1], density=True, bins=20)"
   ],
   "metadata": {
    "collapsed": false,
    "pycharm": {
     "name": "#%%\n"
    }
   }
  }
 ],
 "metadata": {
  "kernelspec": {
   "display_name": "Python 3",
   "language": "python",
   "name": "python3"
  },
  "language_info": {
   "codemirror_mode": {
    "name": "ipython",
    "version": 2
   },
   "file_extension": ".py",
   "mimetype": "text/x-python",
   "name": "python",
   "nbconvert_exporter": "python",
   "pygments_lexer": "ipython2",
   "version": "2.7.6"
  }
 },
 "nbformat": 4,
 "nbformat_minor": 0
}