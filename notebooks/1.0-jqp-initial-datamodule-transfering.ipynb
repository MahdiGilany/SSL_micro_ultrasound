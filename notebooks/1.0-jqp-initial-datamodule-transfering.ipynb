{
 "cells": [
  {
   "cell_type": "markdown",
   "metadata": {},
   "source": [
    "## seting up directories"
   ]
  },
  {
   "cell_type": "code",
   "execution_count": 1,
   "metadata": {},
   "outputs": [
    {
     "name": "stdout",
     "output_type": "stream",
     "text": [
      "C:\\Users\\Mahdi\\Desktop\\Shared_folder\\OneDrive_Queens_University\\Project_codes\\SSLmicroUltrasound\\data\\Exact\\\n"
     ]
    }
   ],
   "source": [
    "import os\n",
    "from src.datamodules.exact_datamodule import ExactDataModule\n",
    "from scipy.io import matlab\n",
    "from einops import rearrange\n",
    "from itertools import product\n",
    "import munch\n",
    "import numpy as np\n",
    "from ismember import ismember\n",
    "from src.datamodules.components.data_utils import *\n",
    "import pickle\n",
    "import time\n",
    "import matplotlib.pyplot as plt\n",
    "import skimage.data as sd\n",
    "from skimage import io\n",
    "from PIL import Image\n",
    "from matplotlib.colors import NoNorm\n",
    "import hydra\n",
    "from omegaconf import DictConfig, OmegaConf\n",
    "%matplotlib inline\n",
    "\n",
    "original_dir = os.getcwd()\n",
    "original_dir = original_dir.split(\"\\\\\")\n",
    "original_dir = '\\\\'.join(original_dir[:-1])\n",
    "\n",
    "data_dir = original_dir + '\\data\\Exact\\\\'\n",
    "data_file = 'Exact_UVA_patches_400_100_100_indivPatchesNames_03-16-2022.mat'\n",
    "print(data_dir)\n"
   ]
  },
  {
   "cell_type": "markdown",
   "metadata": {},
   "source": [
    "## load matlab and convert to numpy"
   ]
  },
  {
   "cell_type": "code",
   "execution_count": null,
   "metadata": {
    "pycharm": {
     "name": "#%%\n"
    }
   },
   "outputs": [],
   "source": [
    "data = matlab.loadmat(data_dir+data_file, struct_as_record=False, squeeze_me=True)\n",
    "with open(data_dir+'metadata.pkl', 'wb') as handle:\n",
    "    pickle.dump(data, handle, protocol=pickle.HIGHEST_PROTOCOL)"
   ]
  },
  {
   "cell_type": "markdown",
   "metadata": {},
   "source": [
    "#### check metadata file"
   ]
  },
  {
   "cell_type": "code",
   "execution_count": null,
   "metadata": {
    "pycharm": {
     "name": "#%%\n"
    }
   },
   "outputs": [],
   "source": [
    "st = time.time()\n",
    "for i in range(1):\n",
    "    with open(data_dir+'metadata.pkl', 'rb') as handle:\n",
    "        meta_data = pickle.load(handle)\n",
    "end = time.time()\n",
    "print(end-st)\n",
    "print(meta_data.keys())"
   ]
  },
  {
   "cell_type": "markdown",
   "metadata": {},
   "source": [
    "## testing patch extraction and patch center finding"
   ]
  },
  {
   "cell_type": "code",
   "execution_count": null,
   "metadata": {
    "pycharm": {
     "name": "#%%\n"
    }
   },
   "outputs": [],
   "source": [
    "centers = meta_data['patch_centers1x1']\n",
    "needle_mask = meta_data['needle_mask']\n",
    "\n",
    "# changing dimensionality of patch centers\n",
    "centers = rearrange(centers, '(ax c) lat -> ax c lat', ax=28)\n",
    "patch_mask = needle_mask[centers[:, 0, 0][:, None], centers[:, :, 1]]"
   ]
  },
  {
   "cell_type": "code",
   "execution_count": null,
   "metadata": {
    "pycharm": {
     "name": "#%%\n"
    }
   },
   "outputs": [],
   "source": [
    "jump = 2\n",
    "patch_sz = 4\n",
    "\n",
    "# finding lateral index of central patch\n",
    "col_select = np.sum(patch_mask, axis=0)\n",
    "ind_lat = np.argwhere(col_select>0)\n",
    "st_lat = ind_lat[0].item() + np.floor((patch_sz-1)/2.).astype(int)\n",
    "end_lat = ind_lat[-1].item() - np.ceil((patch_sz-1)/2.).astype(int)\n",
    "\n",
    "patch_centersSL = []\n",
    "patch_indx = []\n",
    "for i in range(st_lat,end_lat+1,jump):\n",
    "    # finding axial index of central patch\n",
    "    ind_ax = np.argwhere(patch_mask[:,i]>0)\n",
    "    j = np.floor(ind_ax.mean()).astype(int)\n",
    "\n",
    "    # finding actual patch center from indices and saving it\n",
    "    patch_indx.append(np.array([[j,i]]))\n",
    "    cent = np.array([[centers[j, 0, 0],centers[0, i, 1]]])\n",
    "    patch_centersSL.append(cent)\n",
    "\n",
    "p = np.concatenate(patch_centersSL)\n",
    "p2 = np.concatenate(patch_indx)"
   ]
  },
  {
   "cell_type": "markdown",
   "metadata": {},
   "source": [
    "#### coloring patch needle mask"
   ]
  },
  {
   "cell_type": "code",
   "execution_count": null,
   "metadata": {
    "pycharm": {
     "name": "#%%\n"
    }
   },
   "outputs": [],
   "source": [
    "hlf_sz = np.floor((patch_sz-1)/2.).astype(int)\n",
    "hlf_rest = np.ceil((patch_sz-1)/2.).astype(int)\n",
    "new_patch_mask = np.zeros_like(patch_mask)\n",
    "for ind, c in enumerate(p2):\n",
    "    print(c, list(range(c[0]-hlf_sz,c[0]+hlf_rest+1)), list(range(c[1]-hlf_sz,c[1]+hlf_rest+1)))\n",
    "    new_patch_mask[c[0]-hlf_sz:c[0]+hlf_rest+1, c[1]-hlf_sz:c[1]+hlf_rest+1] += 5"
   ]
  },
  {
   "cell_type": "markdown",
   "metadata": {},
   "source": [
    "## testing datamodule"
   ]
  },
  {
   "cell_type": "code",
   "execution_count": null,
   "metadata": {
    "pycharm": {
     "name": "#%%\n"
    }
   },
   "outputs": [],
   "source": [
    "dataset_hyp = {'patch_sz':5, 'jump_sz':1}\n",
    "dataset_hyp = munch.Munch(dataset_hyp)\n",
    "dataset_hyp.jump_sz\n",
    "datamodule = ExactDataModule(data_dir, dataset_hyp=dataset_hyp)\n",
    "datamodule.prepare_data()"
   ]
  },
  {
   "cell_type": "markdown",
   "metadata": {},
   "source": [
    "#### finding size of dataset"
   ]
  },
  {
   "cell_type": "code",
   "execution_count": null,
   "metadata": {
    "pycharm": {
     "name": "#%%\n"
    }
   },
   "outputs": [],
   "source": [
    "meta_data = datamodule.meta_data\n",
    "data_names = meta_data[f'data_train']\n",
    "all_patchnames_sl = []\n",
    "for i, patch_names_pr in enumerate(data_names):\n",
    "    all_patchnames_pr = [np.array(name.split('_')[-3:-1]).astype(int) for name in patch_names_pr]\n",
    "    all_patchnames_pr = np.stack(all_patchnames_pr)\n",
    "    ind,_ = ismember(all_patchnames_pr, datamodule.patch_centers_sl, \"rows\")\n",
    "    # ### validate function\n",
    "    # all_patchcenters_pr = all_patchnames_pr\n",
    "    # all_1x1patchnames_sl_pr = all_patchcenters_pr[ind]\n",
    "    # all_1x1patchnames_sl_pr[0]\n",
    "\n",
    "    all_patchnames_sl.append(patch_names_pr[ind])\n",
    "\n",
    "all_core_len = [core.shape[0] for core in all_patchnames_sl]\n",
    "np.sum(all_core_len)\n",
    "all_patchnames_sl_concat = np.concatenate(all_patchnames_sl)"
   ]
  },
  {
   "cell_type": "markdown",
   "metadata": {},
   "source": [
    "#### importing patch with the name"
   ]
  },
  {
   "cell_type": "code",
   "execution_count": null,
   "metadata": {
    "pycharm": {
     "name": "#%%\n"
    }
   },
   "outputs": [],
   "source": [
    "file_name='UVA-0012_LBL_GS9_1612_292_frm1.mat'\n",
    "patch_data = load_matlab73(data_dir+file_name)"
   ]
  },
  {
   "cell_type": "code",
   "execution_count": null,
   "metadata": {
    "pycharm": {
     "name": "#%%\n"
    }
   },
   "outputs": [],
   "source": [
    "with open(data_dir+'UVA-0012_LBL_GS9_1612_292_frm1.pkl', 'wb') as handle:\n",
    "    pickle.dump(patch_data['data'], handle, protocol=pickle.HIGHEST_PROTOCOL)\n",
    "st = time.time()\n",
    "for i in range(100):\n",
    "    # with open(data_dir+'UVA-0012_LBL_GS9_1612_292_frm1.pkl', 'rb') as handle:\n",
    "    #     patch_data2 = pickle.load(handle)\n",
    "    patch_data = load_matlab73(data_dir+file_name)\n",
    "\n",
    "end = time.time()\n",
    "print(end-st)"
   ]
  },
  {
   "cell_type": "code",
   "execution_count": null,
   "metadata": {
    "pycharm": {
     "name": "#%%\n"
    }
   },
   "outputs": [],
   "source": [
    "folder_name = 'patch1x1_data'\n",
    "list_all_files = []\n",
    "list_all_roots = []\n",
    "for root, dir, files in os.walk(data_dir):\n",
    "    # file_dir = [root+'\\\\'+ f for i, f in enumerate(files)]\n",
    "    # list_all_files.append(file_dir)\n",
    "    list_all_roots.append(root)"
   ]
  },
  {
   "cell_type": "code",
   "execution_count": null,
   "metadata": {
    "pycharm": {
     "name": "#%%\n"
    }
   },
   "outputs": [],
   "source": [
    "import numpy as np\n",
    "from ismember import ismember\n",
    "file_name='UVA-0012_LBL_GS9_1612_292_frm1.mat'\n",
    "file_root = '_'.join(file_name.split('_')[:-3])\n",
    "\n",
    "st = time.time()\n",
    "for j in range(25*32):\n",
    "    complete_fileroot = [f for f in list_all_roots if file_root in f]\n",
    "print(time.time()-st)\n",
    "complete_fileroot = os.path.join(complete_fileroot[0], file_root)"
   ]
  },
  {
   "cell_type": "markdown",
   "metadata": {},
   "source": [
    "#### loading patch"
   ]
  },
  {
   "cell_type": "code",
   "execution_count": null,
   "metadata": {
    "pycharm": {
     "name": "#%%\n"
    }
   },
   "outputs": [],
   "source": [
    "# load meta data\n",
    "with open(data_dir+'metadata.pkl', 'rb') as handle:\n",
    "        meta_data = pickle.load(handle)\n",
    "patch_centers_RFimg = meta_data['patch_centers1x1']\n",
    "patch_centers_RFimg = [np.unique(patch_centers_RFimg[:, 0]), np.unique(patch_centers_RFimg[:, 1])]\n",
    "cent_axl_ind, = np.where(patch_centers_RFimg[0] == 1612)\n",
    "cent_lat_ind, = np.where(patch_centers_RFimg[1] == 291)\n",
    "\n",
    "hlf_patch_sz = np.floor((5-1)/2.).astype(int)\n",
    "hlf_patch_sz_rest = np.ceil((5-1)/2.).astype(int)\n",
    "cent_axl_range_ind = np.arange(cent_axl_ind[0]-hlf_patch_sz, cent_axl_ind[0]+hlf_patch_sz_rest+1)"
   ]
  },
  {
   "cell_type": "markdown",
   "metadata": {
    "pycharm": {
     "name": "#%% md\n"
    }
   },
   "source": [
    "#### stitching patches"
   ]
  },
  {
   "cell_type": "code",
   "execution_count": null,
   "metadata": {
    "pycharm": {
     "name": "#%%\n"
    }
   },
   "outputs": [],
   "source": [
    "all_1x1patches = []\n",
    "st = time.time()\n",
    "for axl_ind, lat_ind in product(range(5),range(5)):\n",
    "    all_1x1patches.append(load_matlab73(data_dir+file_name)['data'])\n",
    "print(time.time()-st)\n",
    "all_1x1patches = np.stack(all_1x1patches)\n",
    "all_1x1patches = rearrange(all_1x1patches,'(b1 b2) h w -> (b1 h) (b2 w)', b1=5)"
   ]
  },
  {
   "cell_type": "code",
   "execution_count": null,
   "metadata": {
    "pycharm": {
     "name": "#%%\n"
    }
   },
   "outputs": [],
   "source": [
    "img = sd.astronaut()\n",
    "img = rearrange(img,'(b1 h) (b2 w) c -> (b1 b2) h w c', b1=8, b2=8)\n",
    "img = rearrange(img,'(b1 b2) h w c -> (b1 h) (b2 w) c', b1=8)\n",
    "\n",
    "plt.imshow(img)\n",
    "\n",
    "img = np.array(Image.fromarray(img).resize((512,512)))[:,:,0]\n",
    "img = (img - np.mean(img, keepdims=True))/np.std(img, keepdims=True)\n",
    "me=np.std(img)\n",
    "print(me)\n",
    "# plt.imshow(img, 'gray')"
   ]
  },
  {
   "cell_type": "markdown",
   "metadata": {},
   "source": [
    "#### saving all files in pkl format"
   ]
  },
  {
   "cell_type": "code",
   "execution_count": null,
   "metadata": {
    "pycharm": {
     "name": "#%%\n"
    }
   },
   "outputs": [],
   "source": [
    "for root, dir, files in os.walk(data_dir+'patches1x1'):\n",
    "    for file in files:\n",
    "        file_root = os.path.join(root,file)\n",
    "        patch_data = load_matlab73(file_root)\n",
    "        if 'data' in patch_data.keys():\n",
    "            pkl_name = '_'.join(file_root.split('_')[:-1]) + '_frm1.pkl'\n",
    "            with open(pkl_name, 'wb') as handle:\n",
    "                pickle.dump(patch_data['data'], handle, protocol=pickle.HIGHEST_PROTOCOL)\n",
    "# with open(data_dir + 'UVA-0012_LBL_GS9_1612_292_frm1.pkl', 'wb') as handle:\n",
    "#     pickle.dump(patch_data['data'], handle, protocol=pickle.HIGHEST_PROTOCOL)"
   ]
  },
  {
   "cell_type": "markdown",
   "metadata": {},
   "source": [
    "## testing datamodule and dataset"
   ]
  },
  {
   "cell_type": "code",
   "execution_count": null,
   "metadata": {
    "pycharm": {
     "name": "#%%\n"
    }
   },
   "outputs": [],
   "source": [
    "dataset_hyp = {'patch_sz':5, 'jump_sz':1, 'inv_cutoff':0.4}\n",
    "dataset_hyp = munch.Munch(dataset_hyp)\n",
    "\n",
    "datamodule = ExactDataModule(data_dir, dataset_hyp=dataset_hyp)\n",
    "datamodule.prepare_data()\n",
    "datamodule.setup()"
   ]
  },
  {
   "cell_type": "code",
   "execution_count": null,
   "metadata": {
    "pycharm": {
     "name": "#%%\n"
    }
   },
   "outputs": [],
   "source": [
    "len_train = len(datamodule.train_ds)\n",
    "len_test = len(datamodule.test_ds)\n",
    "len_val = len(datamodule.val_ds)\n",
    "\n",
    "corelen = datamodule.train_ds.all_corelen_sl\n",
    "st = time.time()\n",
    "for k in range(32):\n",
    "    try:\n",
    "        img, target = datamodule.train_ds.__getitem__(k)\n",
    "    except:\n",
    "        print(k)\n",
    "print(time.time()-st)\n"
   ]
  },
  {
   "cell_type": "code",
   "execution_count": null,
   "metadata": {
    "pycharm": {
     "name": "#%%\n"
    }
   },
   "outputs": [],
   "source": [
    "img, target = datamodule.train_ds.__getitem__(1)\n",
    "print(img.mean(), img.std())\n",
    "fig = plt.figure(figsize=(18.5/2, 10.5/2))\n",
    "ax = fig.add_subplot()\n",
    "# plt.imshow(img, 'gray', norm=NoNorm())\n",
    "plt.imshow(img, 'gray')"
   ]
  },
  {
   "cell_type": "code",
   "execution_count": null,
   "metadata": {
    "pycharm": {
     "name": "#%%\n"
    }
   },
   "outputs": [],
   "source": [
    "train_loader = datamodule.train_dataloader()"
   ]
  },
  {
   "cell_type": "code",
   "execution_count": null,
   "metadata": {
    "pycharm": {
     "name": "#%%\n"
    }
   },
   "outputs": [],
   "source": [
    "if __name__=='__main__':\n",
    "    st = time.time()\n",
    "    batch = next(iter(train_loader))\n",
    "    x, y = batch\n",
    "    print(time.time()-st)\n",
    "\n",
    "    index = 0\n",
    "    print(y[index])\n",
    "    fig = plt.figure(figsize=(18.5, 10.5))\n",
    "    ax = fig.add_subplot()\n",
    "    plt.imshow(x[index,:,:], 'gray',norm=NoNorm())"
   ]
  },
  {
   "cell_type": "markdown",
   "metadata": {},
   "source": [
    "## testing datamodule with using hydra"
   ]
  },
  {
   "cell_type": "code",
   "execution_count": 3,
   "metadata": {
    "pycharm": {
     "name": "#%%\n"
    }
   },
   "outputs": [
    {
     "ename": "InterpolationResolutionError",
     "evalue": "Recursive interpolation detected",
     "output_type": "error",
     "traceback": [
      "\u001B[1;31m---------------------------------------------------------------------------\u001B[0m",
      "\u001B[1;31mInterpolationResolutionError\u001B[0m              Traceback (most recent call last)",
      "Input \u001B[1;32mIn [3]\u001B[0m, in \u001B[0;36m<cell line: 2>\u001B[1;34m()\u001B[0m\n\u001B[0;32m      1\u001B[0m cfg \u001B[38;5;241m=\u001B[39m OmegaConf\u001B[38;5;241m.\u001B[39mload(\u001B[38;5;124m'\u001B[39m\u001B[38;5;124m../configs/datamodule/exact_datamodule.yaml\u001B[39m\u001B[38;5;124m'\u001B[39m)\n\u001B[1;32m----> 2\u001B[0m datamodule \u001B[38;5;241m=\u001B[39m \u001B[43mhydra\u001B[49m\u001B[38;5;241;43m.\u001B[39;49m\u001B[43mutils\u001B[49m\u001B[38;5;241;43m.\u001B[39;49m\u001B[43minstantiate\u001B[49m\u001B[43m(\u001B[49m\u001B[43mcfg\u001B[49m\u001B[43m)\u001B[49m\n\u001B[0;32m      3\u001B[0m datamodule\u001B[38;5;241m.\u001B[39mprepare_data()\n\u001B[0;32m      4\u001B[0m datamodule\u001B[38;5;241m.\u001B[39msetup()\n",
      "File \u001B[1;32m~\\anaconda3\\envs\\ssl_env\\lib\\site-packages\\hydra\\_internal\\instantiate\\_instantiate2.py:175\u001B[0m, in \u001B[0;36minstantiate\u001B[1;34m(config, *args, **kwargs)\u001B[0m\n\u001B[0;32m    172\u001B[0m \u001B[38;5;28;01mif\u001B[39;00m kwargs:\n\u001B[0;32m    173\u001B[0m     config \u001B[38;5;241m=\u001B[39m OmegaConf\u001B[38;5;241m.\u001B[39mmerge(config, kwargs)\n\u001B[1;32m--> 175\u001B[0m \u001B[43mOmegaConf\u001B[49m\u001B[38;5;241;43m.\u001B[39;49m\u001B[43mresolve\u001B[49m\u001B[43m(\u001B[49m\u001B[43mconfig\u001B[49m\u001B[43m)\u001B[49m\n\u001B[0;32m    177\u001B[0m _recursive_ \u001B[38;5;241m=\u001B[39m config\u001B[38;5;241m.\u001B[39mpop(_Keys\u001B[38;5;241m.\u001B[39mRECURSIVE, \u001B[38;5;28;01mTrue\u001B[39;00m)\n\u001B[0;32m    178\u001B[0m _convert_ \u001B[38;5;241m=\u001B[39m config\u001B[38;5;241m.\u001B[39mpop(_Keys\u001B[38;5;241m.\u001B[39mCONVERT, ConvertMode\u001B[38;5;241m.\u001B[39mNONE)\n",
      "File \u001B[1;32m~\\anaconda3\\envs\\ssl_env\\lib\\site-packages\\omegaconf\\omegaconf.py:792\u001B[0m, in \u001B[0;36mOmegaConf.resolve\u001B[1;34m(cfg)\u001B[0m\n\u001B[0;32m    786\u001B[0m \u001B[38;5;28;01mif\u001B[39;00m \u001B[38;5;129;01mnot\u001B[39;00m OmegaConf\u001B[38;5;241m.\u001B[39mis_config(cfg):\n\u001B[0;32m    787\u001B[0m     \u001B[38;5;66;03m# Since this function is mutating the input object in-place, it doesn't make sense to\u001B[39;00m\n\u001B[0;32m    788\u001B[0m     \u001B[38;5;66;03m# auto-convert the input object to an OmegaConf container\u001B[39;00m\n\u001B[0;32m    789\u001B[0m     \u001B[38;5;28;01mraise\u001B[39;00m \u001B[38;5;167;01mValueError\u001B[39;00m(\n\u001B[0;32m    790\u001B[0m         \u001B[38;5;124mf\u001B[39m\u001B[38;5;124m\"\u001B[39m\u001B[38;5;124mInvalid config type (\u001B[39m\u001B[38;5;132;01m{\u001B[39;00m\u001B[38;5;28mtype\u001B[39m(cfg)\u001B[38;5;241m.\u001B[39m\u001B[38;5;18m__name__\u001B[39m\u001B[38;5;132;01m}\u001B[39;00m\u001B[38;5;124m), expected an OmegaConf Container\u001B[39m\u001B[38;5;124m\"\u001B[39m\n\u001B[0;32m    791\u001B[0m     )\n\u001B[1;32m--> 792\u001B[0m \u001B[43momegaconf\u001B[49m\u001B[38;5;241;43m.\u001B[39;49m\u001B[43m_impl\u001B[49m\u001B[38;5;241;43m.\u001B[39;49m\u001B[43m_resolve\u001B[49m\u001B[43m(\u001B[49m\u001B[43mcfg\u001B[49m\u001B[43m)\u001B[49m\n",
      "File \u001B[1;32m~\\anaconda3\\envs\\ssl_env\\lib\\site-packages\\omegaconf\\_impl.py:40\u001B[0m, in \u001B[0;36m_resolve\u001B[1;34m(cfg)\u001B[0m\n\u001B[0;32m     38\u001B[0m \u001B[38;5;28;01mif\u001B[39;00m \u001B[38;5;28misinstance\u001B[39m(cfg, DictConfig):\n\u001B[0;32m     39\u001B[0m     \u001B[38;5;28;01mfor\u001B[39;00m k \u001B[38;5;129;01min\u001B[39;00m cfg\u001B[38;5;241m.\u001B[39mkeys():\n\u001B[1;32m---> 40\u001B[0m         \u001B[43m_resolve_container_value\u001B[49m\u001B[43m(\u001B[49m\u001B[43mcfg\u001B[49m\u001B[43m,\u001B[49m\u001B[43m \u001B[49m\u001B[43mk\u001B[49m\u001B[43m)\u001B[49m\n\u001B[0;32m     42\u001B[0m \u001B[38;5;28;01melif\u001B[39;00m \u001B[38;5;28misinstance\u001B[39m(cfg, ListConfig):\n\u001B[0;32m     43\u001B[0m     \u001B[38;5;28;01mfor\u001B[39;00m i \u001B[38;5;129;01min\u001B[39;00m \u001B[38;5;28mrange\u001B[39m(\u001B[38;5;28mlen\u001B[39m(cfg)):\n",
      "File \u001B[1;32m~\\anaconda3\\envs\\ssl_env\\lib\\site-packages\\omegaconf\\_impl.py:14\u001B[0m, in \u001B[0;36m_resolve_container_value\u001B[1;34m(cfg, key)\u001B[0m\n\u001B[0;32m     12\u001B[0m \u001B[38;5;28;01mif\u001B[39;00m node\u001B[38;5;241m.\u001B[39m_is_interpolation():\n\u001B[0;32m     13\u001B[0m     \u001B[38;5;28;01mtry\u001B[39;00m:\n\u001B[1;32m---> 14\u001B[0m         resolved \u001B[38;5;241m=\u001B[39m \u001B[43mnode\u001B[49m\u001B[38;5;241;43m.\u001B[39;49m\u001B[43m_dereference_node\u001B[49m\u001B[43m(\u001B[49m\u001B[43m)\u001B[49m\n\u001B[0;32m     15\u001B[0m     \u001B[38;5;28;01mexcept\u001B[39;00m InterpolationToMissingValueError:\n\u001B[0;32m     16\u001B[0m         node\u001B[38;5;241m.\u001B[39m_set_value(MISSING)\n",
      "File \u001B[1;32m~\\anaconda3\\envs\\ssl_env\\lib\\site-packages\\omegaconf\\base.py:205\u001B[0m, in \u001B[0;36mNode._dereference_node\u001B[1;34m(self)\u001B[0m\n\u001B[0;32m    204\u001B[0m \u001B[38;5;28;01mdef\u001B[39;00m \u001B[38;5;21m_dereference_node\u001B[39m(\u001B[38;5;28mself\u001B[39m) \u001B[38;5;241m-\u001B[39m\u001B[38;5;241m>\u001B[39m \u001B[38;5;124m\"\u001B[39m\u001B[38;5;124mNode\u001B[39m\u001B[38;5;124m\"\u001B[39m:\n\u001B[1;32m--> 205\u001B[0m     node \u001B[38;5;241m=\u001B[39m \u001B[38;5;28;43mself\u001B[39;49m\u001B[38;5;241;43m.\u001B[39;49m\u001B[43m_dereference_node_impl\u001B[49m\u001B[43m(\u001B[49m\u001B[43mthrow_on_resolution_failure\u001B[49m\u001B[38;5;241;43m=\u001B[39;49m\u001B[38;5;28;43;01mTrue\u001B[39;49;00m\u001B[43m)\u001B[49m\n\u001B[0;32m    206\u001B[0m     \u001B[38;5;28;01massert\u001B[39;00m node \u001B[38;5;129;01mis\u001B[39;00m \u001B[38;5;129;01mnot\u001B[39;00m \u001B[38;5;28;01mNone\u001B[39;00m\n\u001B[0;32m    207\u001B[0m     \u001B[38;5;28;01mreturn\u001B[39;00m node\n",
      "File \u001B[1;32m~\\anaconda3\\envs\\ssl_env\\lib\\site-packages\\omegaconf\\base.py:236\u001B[0m, in \u001B[0;36mNode._dereference_node_impl\u001B[1;34m(self, throw_on_resolution_failure, memo)\u001B[0m\n\u001B[0;32m    234\u001B[0m \u001B[38;5;28;01massert\u001B[39;00m parent \u001B[38;5;129;01mis\u001B[39;00m \u001B[38;5;129;01mnot\u001B[39;00m \u001B[38;5;28;01mNone\u001B[39;00m\n\u001B[0;32m    235\u001B[0m key \u001B[38;5;241m=\u001B[39m \u001B[38;5;28mself\u001B[39m\u001B[38;5;241m.\u001B[39m_key()\n\u001B[1;32m--> 236\u001B[0m \u001B[38;5;28;01mreturn\u001B[39;00m \u001B[43mparent\u001B[49m\u001B[38;5;241;43m.\u001B[39;49m\u001B[43m_resolve_interpolation_from_parse_tree\u001B[49m\u001B[43m(\u001B[49m\n\u001B[0;32m    237\u001B[0m \u001B[43m    \u001B[49m\u001B[43mparent\u001B[49m\u001B[38;5;241;43m=\u001B[39;49m\u001B[43mparent\u001B[49m\u001B[43m,\u001B[49m\n\u001B[0;32m    238\u001B[0m \u001B[43m    \u001B[49m\u001B[43mkey\u001B[49m\u001B[38;5;241;43m=\u001B[39;49m\u001B[43mkey\u001B[49m\u001B[43m,\u001B[49m\n\u001B[0;32m    239\u001B[0m \u001B[43m    \u001B[49m\u001B[43mvalue\u001B[49m\u001B[38;5;241;43m=\u001B[39;49m\u001B[38;5;28;43mself\u001B[39;49m\u001B[43m,\u001B[49m\n\u001B[0;32m    240\u001B[0m \u001B[43m    \u001B[49m\u001B[43mparse_tree\u001B[49m\u001B[38;5;241;43m=\u001B[39;49m\u001B[43mparse\u001B[49m\u001B[43m(\u001B[49m\u001B[43m_get_value\u001B[49m\u001B[43m(\u001B[49m\u001B[38;5;28;43mself\u001B[39;49m\u001B[43m)\u001B[49m\u001B[43m)\u001B[49m\u001B[43m,\u001B[49m\n\u001B[0;32m    241\u001B[0m \u001B[43m    \u001B[49m\u001B[43mthrow_on_resolution_failure\u001B[49m\u001B[38;5;241;43m=\u001B[39;49m\u001B[43mthrow_on_resolution_failure\u001B[49m\u001B[43m,\u001B[49m\n\u001B[0;32m    242\u001B[0m \u001B[43m    \u001B[49m\u001B[43mmemo\u001B[49m\u001B[38;5;241;43m=\u001B[39;49m\u001B[43mmemo\u001B[49m\u001B[43m,\u001B[49m\n\u001B[0;32m    243\u001B[0m \u001B[43m\u001B[49m\u001B[43m)\u001B[49m\n",
      "File \u001B[1;32m~\\anaconda3\\envs\\ssl_env\\lib\\site-packages\\omegaconf\\base.py:482\u001B[0m, in \u001B[0;36mContainer._resolve_interpolation_from_parse_tree\u001B[1;34m(self, parent, value, key, parse_tree, throw_on_resolution_failure, memo)\u001B[0m\n\u001B[0;32m    452\u001B[0m \u001B[38;5;124;03m\"\"\"\u001B[39;00m\n\u001B[0;32m    453\u001B[0m \u001B[38;5;124;03mResolve an interpolation.\u001B[39;00m\n\u001B[0;32m    454\u001B[0m \n\u001B[1;32m   (...)\u001B[0m\n\u001B[0;32m    478\u001B[0m \u001B[38;5;124;03m    `throw_on_resolution_failure` is `False` and an error occurs during resolution.\u001B[39;00m\n\u001B[0;32m    479\u001B[0m \u001B[38;5;124;03m\"\"\"\u001B[39;00m\n\u001B[0;32m    481\u001B[0m \u001B[38;5;28;01mtry\u001B[39;00m:\n\u001B[1;32m--> 482\u001B[0m     resolved \u001B[38;5;241m=\u001B[39m \u001B[38;5;28;43mself\u001B[39;49m\u001B[38;5;241;43m.\u001B[39;49m\u001B[43mresolve_parse_tree\u001B[49m\u001B[43m(\u001B[49m\n\u001B[0;32m    483\u001B[0m \u001B[43m        \u001B[49m\u001B[43mparse_tree\u001B[49m\u001B[38;5;241;43m=\u001B[39;49m\u001B[43mparse_tree\u001B[49m\u001B[43m,\u001B[49m\u001B[43m \u001B[49m\u001B[43mnode\u001B[49m\u001B[38;5;241;43m=\u001B[39;49m\u001B[43mvalue\u001B[49m\u001B[43m,\u001B[49m\u001B[43m \u001B[49m\u001B[43mkey\u001B[49m\u001B[38;5;241;43m=\u001B[39;49m\u001B[43mkey\u001B[49m\u001B[43m,\u001B[49m\u001B[43m \u001B[49m\u001B[43mparent\u001B[49m\u001B[38;5;241;43m=\u001B[39;49m\u001B[43mparent\u001B[49m\u001B[43m,\u001B[49m\u001B[43m \u001B[49m\u001B[43mmemo\u001B[49m\u001B[38;5;241;43m=\u001B[39;49m\u001B[43mmemo\u001B[49m\n\u001B[0;32m    484\u001B[0m \u001B[43m    \u001B[49m\u001B[43m)\u001B[49m\n\u001B[0;32m    485\u001B[0m \u001B[38;5;28;01mexcept\u001B[39;00m InterpolationResolutionError:\n\u001B[0;32m    486\u001B[0m     \u001B[38;5;28;01mif\u001B[39;00m throw_on_resolution_failure:\n",
      "File \u001B[1;32m~\\anaconda3\\envs\\ssl_env\\lib\\site-packages\\omegaconf\\base.py:662\u001B[0m, in \u001B[0;36mContainer.resolve_parse_tree\u001B[1;34m(self, parse_tree, node, memo, key, parent)\u001B[0m\n\u001B[0;32m    656\u001B[0m visitor \u001B[38;5;241m=\u001B[39m GrammarVisitor(\n\u001B[0;32m    657\u001B[0m     node_interpolation_callback\u001B[38;5;241m=\u001B[39mnode_interpolation_callback,\n\u001B[0;32m    658\u001B[0m     resolver_interpolation_callback\u001B[38;5;241m=\u001B[39mresolver_interpolation_callback,\n\u001B[0;32m    659\u001B[0m     memo\u001B[38;5;241m=\u001B[39mmemo,\n\u001B[0;32m    660\u001B[0m )\n\u001B[0;32m    661\u001B[0m \u001B[38;5;28;01mtry\u001B[39;00m:\n\u001B[1;32m--> 662\u001B[0m     \u001B[38;5;28;01mreturn\u001B[39;00m \u001B[43mvisitor\u001B[49m\u001B[38;5;241;43m.\u001B[39;49m\u001B[43mvisit\u001B[49m\u001B[43m(\u001B[49m\u001B[43mparse_tree\u001B[49m\u001B[43m)\u001B[49m\n\u001B[0;32m    663\u001B[0m \u001B[38;5;28;01mexcept\u001B[39;00m InterpolationResolutionError:\n\u001B[0;32m    664\u001B[0m     \u001B[38;5;28;01mraise\u001B[39;00m\n",
      "File \u001B[1;32m~\\anaconda3\\envs\\ssl_env\\lib\\site-packages\\antlr4\\tree\\Tree.py:34\u001B[0m, in \u001B[0;36mParseTreeVisitor.visit\u001B[1;34m(self, tree)\u001B[0m\n\u001B[0;32m     33\u001B[0m \u001B[38;5;28;01mdef\u001B[39;00m \u001B[38;5;21mvisit\u001B[39m(\u001B[38;5;28mself\u001B[39m, tree):\n\u001B[1;32m---> 34\u001B[0m     \u001B[38;5;28;01mreturn\u001B[39;00m \u001B[43mtree\u001B[49m\u001B[38;5;241;43m.\u001B[39;49m\u001B[43maccept\u001B[49m\u001B[43m(\u001B[49m\u001B[38;5;28;43mself\u001B[39;49m\u001B[43m)\u001B[49m\n",
      "File \u001B[1;32m~\\anaconda3\\envs\\ssl_env\\lib\\site-packages\\omegaconf\\grammar\\gen\\OmegaConfGrammarParser.py:205\u001B[0m, in \u001B[0;36mOmegaConfGrammarParser.ConfigValueContext.accept\u001B[1;34m(self, visitor)\u001B[0m\n\u001B[0;32m    203\u001B[0m \u001B[38;5;28;01mdef\u001B[39;00m \u001B[38;5;21maccept\u001B[39m(\u001B[38;5;28mself\u001B[39m, visitor:ParseTreeVisitor):\n\u001B[0;32m    204\u001B[0m     \u001B[38;5;28;01mif\u001B[39;00m \u001B[38;5;28mhasattr\u001B[39m( visitor, \u001B[38;5;124m\"\u001B[39m\u001B[38;5;124mvisitConfigValue\u001B[39m\u001B[38;5;124m\"\u001B[39m ):\n\u001B[1;32m--> 205\u001B[0m         \u001B[38;5;28;01mreturn\u001B[39;00m \u001B[43mvisitor\u001B[49m\u001B[38;5;241;43m.\u001B[39;49m\u001B[43mvisitConfigValue\u001B[49m\u001B[43m(\u001B[49m\u001B[38;5;28;43mself\u001B[39;49m\u001B[43m)\u001B[49m\n\u001B[0;32m    206\u001B[0m     \u001B[38;5;28;01melse\u001B[39;00m:\n\u001B[0;32m    207\u001B[0m         \u001B[38;5;28;01mreturn\u001B[39;00m visitor\u001B[38;5;241m.\u001B[39mvisitChildren(\u001B[38;5;28mself\u001B[39m)\n",
      "File \u001B[1;32m~\\anaconda3\\envs\\ssl_env\\lib\\site-packages\\omegaconf\\grammar_visitor.py:101\u001B[0m, in \u001B[0;36mGrammarVisitor.visitConfigValue\u001B[1;34m(self, ctx)\u001B[0m\n\u001B[0;32m     98\u001B[0m \u001B[38;5;28;01mdef\u001B[39;00m \u001B[38;5;21mvisitConfigValue\u001B[39m(\u001B[38;5;28mself\u001B[39m, ctx: OmegaConfGrammarParser\u001B[38;5;241m.\u001B[39mConfigValueContext) \u001B[38;5;241m-\u001B[39m\u001B[38;5;241m>\u001B[39m Any:\n\u001B[0;32m     99\u001B[0m     \u001B[38;5;66;03m# text EOF\u001B[39;00m\n\u001B[0;32m    100\u001B[0m     \u001B[38;5;28;01massert\u001B[39;00m ctx\u001B[38;5;241m.\u001B[39mgetChildCount() \u001B[38;5;241m==\u001B[39m \u001B[38;5;241m2\u001B[39m\n\u001B[1;32m--> 101\u001B[0m     \u001B[38;5;28;01mreturn\u001B[39;00m \u001B[38;5;28;43mself\u001B[39;49m\u001B[38;5;241;43m.\u001B[39;49m\u001B[43mvisit\u001B[49m\u001B[43m(\u001B[49m\u001B[43mctx\u001B[49m\u001B[38;5;241;43m.\u001B[39;49m\u001B[43mgetChild\u001B[49m\u001B[43m(\u001B[49m\u001B[38;5;241;43m0\u001B[39;49m\u001B[43m)\u001B[49m\u001B[43m)\u001B[49m\n",
      "File \u001B[1;32m~\\anaconda3\\envs\\ssl_env\\lib\\site-packages\\antlr4\\tree\\Tree.py:34\u001B[0m, in \u001B[0;36mParseTreeVisitor.visit\u001B[1;34m(self, tree)\u001B[0m\n\u001B[0;32m     33\u001B[0m \u001B[38;5;28;01mdef\u001B[39;00m \u001B[38;5;21mvisit\u001B[39m(\u001B[38;5;28mself\u001B[39m, tree):\n\u001B[1;32m---> 34\u001B[0m     \u001B[38;5;28;01mreturn\u001B[39;00m \u001B[43mtree\u001B[49m\u001B[38;5;241;43m.\u001B[39;49m\u001B[43maccept\u001B[49m\u001B[43m(\u001B[49m\u001B[38;5;28;43mself\u001B[39;49m\u001B[43m)\u001B[49m\n",
      "File \u001B[1;32m~\\anaconda3\\envs\\ssl_env\\lib\\site-packages\\omegaconf\\grammar\\gen\\OmegaConfGrammarParser.py:339\u001B[0m, in \u001B[0;36mOmegaConfGrammarParser.TextContext.accept\u001B[1;34m(self, visitor)\u001B[0m\n\u001B[0;32m    337\u001B[0m \u001B[38;5;28;01mdef\u001B[39;00m \u001B[38;5;21maccept\u001B[39m(\u001B[38;5;28mself\u001B[39m, visitor:ParseTreeVisitor):\n\u001B[0;32m    338\u001B[0m     \u001B[38;5;28;01mif\u001B[39;00m \u001B[38;5;28mhasattr\u001B[39m( visitor, \u001B[38;5;124m\"\u001B[39m\u001B[38;5;124mvisitText\u001B[39m\u001B[38;5;124m\"\u001B[39m ):\n\u001B[1;32m--> 339\u001B[0m         \u001B[38;5;28;01mreturn\u001B[39;00m \u001B[43mvisitor\u001B[49m\u001B[38;5;241;43m.\u001B[39;49m\u001B[43mvisitText\u001B[49m\u001B[43m(\u001B[49m\u001B[38;5;28;43mself\u001B[39;49m\u001B[43m)\u001B[49m\n\u001B[0;32m    340\u001B[0m     \u001B[38;5;28;01melse\u001B[39;00m:\n\u001B[0;32m    341\u001B[0m         \u001B[38;5;28;01mreturn\u001B[39;00m visitor\u001B[38;5;241m.\u001B[39mvisitChildren(\u001B[38;5;28mself\u001B[39m)\n",
      "File \u001B[1;32m~\\anaconda3\\envs\\ssl_env\\lib\\site-packages\\omegaconf\\grammar_visitor.py:301\u001B[0m, in \u001B[0;36mGrammarVisitor.visitText\u001B[1;34m(self, ctx)\u001B[0m\n\u001B[0;32m    298\u001B[0m         \u001B[38;5;28;01mreturn\u001B[39;00m \u001B[38;5;28mself\u001B[39m\u001B[38;5;241m.\u001B[39mvisitInterpolation(c)\n\u001B[0;32m    300\u001B[0m \u001B[38;5;66;03m# Otherwise, concatenate string representations together.\u001B[39;00m\n\u001B[1;32m--> 301\u001B[0m \u001B[38;5;28;01mreturn\u001B[39;00m \u001B[38;5;28;43mself\u001B[39;49m\u001B[38;5;241;43m.\u001B[39;49m\u001B[43m_unescape\u001B[49m\u001B[43m(\u001B[49m\u001B[38;5;28;43mlist\u001B[39;49m\u001B[43m(\u001B[49m\u001B[43mctx\u001B[49m\u001B[38;5;241;43m.\u001B[39;49m\u001B[43mgetChildren\u001B[49m\u001B[43m(\u001B[49m\u001B[43m)\u001B[49m\u001B[43m)\u001B[49m\u001B[43m)\u001B[49m\n",
      "File \u001B[1;32m~\\anaconda3\\envs\\ssl_env\\lib\\site-packages\\omegaconf\\grammar_visitor.py:389\u001B[0m, in \u001B[0;36mGrammarVisitor._unescape\u001B[1;34m(self, seq)\u001B[0m\n\u001B[0;32m    387\u001B[0m     \u001B[38;5;28;01melse\u001B[39;00m:\n\u001B[0;32m    388\u001B[0m         \u001B[38;5;28;01massert\u001B[39;00m \u001B[38;5;28misinstance\u001B[39m(node, OmegaConfGrammarParser\u001B[38;5;241m.\u001B[39mInterpolationContext)\n\u001B[1;32m--> 389\u001B[0m         text \u001B[38;5;241m=\u001B[39m \u001B[38;5;28mstr\u001B[39m(\u001B[38;5;28;43mself\u001B[39;49m\u001B[38;5;241;43m.\u001B[39;49m\u001B[43mvisitInterpolation\u001B[49m\u001B[43m(\u001B[49m\u001B[43mnode\u001B[49m\u001B[43m)\u001B[49m)\n\u001B[0;32m    390\u001B[0m     chrs\u001B[38;5;241m.\u001B[39mappend(text)\n\u001B[0;32m    392\u001B[0m \u001B[38;5;28;01mreturn\u001B[39;00m \u001B[38;5;124m\"\u001B[39m\u001B[38;5;124m\"\u001B[39m\u001B[38;5;241m.\u001B[39mjoin(chrs)\n",
      "File \u001B[1;32m~\\anaconda3\\envs\\ssl_env\\lib\\site-packages\\omegaconf\\grammar_visitor.py:125\u001B[0m, in \u001B[0;36mGrammarVisitor.visitInterpolation\u001B[1;34m(self, ctx)\u001B[0m\n\u001B[0;32m    121\u001B[0m \u001B[38;5;28;01mdef\u001B[39;00m \u001B[38;5;21mvisitInterpolation\u001B[39m(\n\u001B[0;32m    122\u001B[0m     \u001B[38;5;28mself\u001B[39m, ctx: OmegaConfGrammarParser\u001B[38;5;241m.\u001B[39mInterpolationContext\n\u001B[0;32m    123\u001B[0m ) \u001B[38;5;241m-\u001B[39m\u001B[38;5;241m>\u001B[39m Any:\n\u001B[0;32m    124\u001B[0m     \u001B[38;5;28;01massert\u001B[39;00m ctx\u001B[38;5;241m.\u001B[39mgetChildCount() \u001B[38;5;241m==\u001B[39m \u001B[38;5;241m1\u001B[39m  \u001B[38;5;66;03m# interpolationNode | interpolationResolver\u001B[39;00m\n\u001B[1;32m--> 125\u001B[0m     \u001B[38;5;28;01mreturn\u001B[39;00m \u001B[38;5;28;43mself\u001B[39;49m\u001B[38;5;241;43m.\u001B[39;49m\u001B[43mvisit\u001B[49m\u001B[43m(\u001B[49m\u001B[43mctx\u001B[49m\u001B[38;5;241;43m.\u001B[39;49m\u001B[43mgetChild\u001B[49m\u001B[43m(\u001B[49m\u001B[38;5;241;43m0\u001B[39;49m\u001B[43m)\u001B[49m\u001B[43m)\u001B[49m\n",
      "File \u001B[1;32m~\\anaconda3\\envs\\ssl_env\\lib\\site-packages\\antlr4\\tree\\Tree.py:34\u001B[0m, in \u001B[0;36mParseTreeVisitor.visit\u001B[1;34m(self, tree)\u001B[0m\n\u001B[0;32m     33\u001B[0m \u001B[38;5;28;01mdef\u001B[39;00m \u001B[38;5;21mvisit\u001B[39m(\u001B[38;5;28mself\u001B[39m, tree):\n\u001B[1;32m---> 34\u001B[0m     \u001B[38;5;28;01mreturn\u001B[39;00m \u001B[43mtree\u001B[49m\u001B[38;5;241;43m.\u001B[39;49m\u001B[43maccept\u001B[49m\u001B[43m(\u001B[49m\u001B[38;5;28;43mself\u001B[39;49m\u001B[43m)\u001B[49m\n",
      "File \u001B[1;32m~\\anaconda3\\envs\\ssl_env\\lib\\site-packages\\omegaconf\\grammar\\gen\\OmegaConfGrammarParser.py:911\u001B[0m, in \u001B[0;36mOmegaConfGrammarParser.InterpolationNodeContext.accept\u001B[1;34m(self, visitor)\u001B[0m\n\u001B[0;32m    909\u001B[0m \u001B[38;5;28;01mdef\u001B[39;00m \u001B[38;5;21maccept\u001B[39m(\u001B[38;5;28mself\u001B[39m, visitor:ParseTreeVisitor):\n\u001B[0;32m    910\u001B[0m     \u001B[38;5;28;01mif\u001B[39;00m \u001B[38;5;28mhasattr\u001B[39m( visitor, \u001B[38;5;124m\"\u001B[39m\u001B[38;5;124mvisitInterpolationNode\u001B[39m\u001B[38;5;124m\"\u001B[39m ):\n\u001B[1;32m--> 911\u001B[0m         \u001B[38;5;28;01mreturn\u001B[39;00m \u001B[43mvisitor\u001B[49m\u001B[38;5;241;43m.\u001B[39;49m\u001B[43mvisitInterpolationNode\u001B[49m\u001B[43m(\u001B[49m\u001B[38;5;28;43mself\u001B[39;49m\u001B[43m)\u001B[49m\n\u001B[0;32m    912\u001B[0m     \u001B[38;5;28;01melse\u001B[39;00m:\n\u001B[0;32m    913\u001B[0m         \u001B[38;5;28;01mreturn\u001B[39;00m visitor\u001B[38;5;241m.\u001B[39mvisitChildren(\u001B[38;5;28mself\u001B[39m)\n",
      "File \u001B[1;32m~\\anaconda3\\envs\\ssl_env\\lib\\site-packages\\omegaconf\\grammar_visitor.py:158\u001B[0m, in \u001B[0;36mGrammarVisitor.visitInterpolationNode\u001B[1;34m(self, ctx)\u001B[0m\n\u001B[0;32m    155\u001B[0m         inter_key_tokens\u001B[38;5;241m.\u001B[39mappend(\u001B[38;5;28mself\u001B[39m\u001B[38;5;241m.\u001B[39mvisitConfigKey(child))\n\u001B[0;32m    157\u001B[0m inter_key \u001B[38;5;241m=\u001B[39m \u001B[38;5;124m\"\u001B[39m\u001B[38;5;124m\"\u001B[39m\u001B[38;5;241m.\u001B[39mjoin(inter_key_tokens)\n\u001B[1;32m--> 158\u001B[0m \u001B[38;5;28;01mreturn\u001B[39;00m \u001B[38;5;28;43mself\u001B[39;49m\u001B[38;5;241;43m.\u001B[39;49m\u001B[43mnode_interpolation_callback\u001B[49m\u001B[43m(\u001B[49m\u001B[43minter_key\u001B[49m\u001B[43m,\u001B[49m\u001B[43m \u001B[49m\u001B[38;5;28;43mself\u001B[39;49m\u001B[38;5;241;43m.\u001B[39;49m\u001B[43mmemo\u001B[49m\u001B[43m)\u001B[49m\n",
      "File \u001B[1;32m~\\anaconda3\\envs\\ssl_env\\lib\\site-packages\\omegaconf\\base.py:643\u001B[0m, in \u001B[0;36mContainer.resolve_parse_tree.<locals>.node_interpolation_callback\u001B[1;34m(inter_key, memo)\u001B[0m\n\u001B[0;32m    640\u001B[0m \u001B[38;5;28;01mdef\u001B[39;00m \u001B[38;5;21mnode_interpolation_callback\u001B[39m(\n\u001B[0;32m    641\u001B[0m     inter_key: \u001B[38;5;28mstr\u001B[39m, memo: Optional[Set[\u001B[38;5;28mint\u001B[39m]]\n\u001B[0;32m    642\u001B[0m ) \u001B[38;5;241m-\u001B[39m\u001B[38;5;241m>\u001B[39m Optional[\u001B[38;5;124m\"\u001B[39m\u001B[38;5;124mNode\u001B[39m\u001B[38;5;124m\"\u001B[39m]:\n\u001B[1;32m--> 643\u001B[0m     \u001B[38;5;28;01mreturn\u001B[39;00m \u001B[38;5;28;43mself\u001B[39;49m\u001B[38;5;241;43m.\u001B[39;49m\u001B[43m_resolve_node_interpolation\u001B[49m\u001B[43m(\u001B[49m\u001B[43minter_key\u001B[49m\u001B[38;5;241;43m=\u001B[39;49m\u001B[43minter_key\u001B[49m\u001B[43m,\u001B[49m\u001B[43m \u001B[49m\u001B[43mmemo\u001B[49m\u001B[38;5;241;43m=\u001B[39;49m\u001B[43mmemo\u001B[49m\u001B[43m)\u001B[49m\n",
      "File \u001B[1;32m~\\anaconda3\\envs\\ssl_env\\lib\\site-packages\\omegaconf\\base.py:561\u001B[0m, in \u001B[0;36mContainer._resolve_node_interpolation\u001B[1;34m(self, inter_key, memo)\u001B[0m\n\u001B[0;32m    556\u001B[0m     \u001B[38;5;28;01mraise\u001B[39;00m InterpolationKeyError(\n\u001B[0;32m    557\u001B[0m         \u001B[38;5;124mf\u001B[39m\u001B[38;5;124m\"\u001B[39m\u001B[38;5;124mConfigKeyError while resolving interpolation: \u001B[39m\u001B[38;5;132;01m{\u001B[39;00mexc\u001B[38;5;132;01m}\u001B[39;00m\u001B[38;5;124m\"\u001B[39m\n\u001B[0;32m    558\u001B[0m     )\u001B[38;5;241m.\u001B[39mwith_traceback(sys\u001B[38;5;241m.\u001B[39mexc_info()[\u001B[38;5;241m2\u001B[39m])\n\u001B[0;32m    560\u001B[0m \u001B[38;5;28;01mtry\u001B[39;00m:\n\u001B[1;32m--> 561\u001B[0m     parent, last_key, value \u001B[38;5;241m=\u001B[39m \u001B[43mroot_node\u001B[49m\u001B[38;5;241;43m.\u001B[39;49m\u001B[43m_select_impl\u001B[49m\u001B[43m(\u001B[49m\n\u001B[0;32m    562\u001B[0m \u001B[43m        \u001B[49m\u001B[43minter_key\u001B[49m\u001B[43m,\u001B[49m\n\u001B[0;32m    563\u001B[0m \u001B[43m        \u001B[49m\u001B[43mthrow_on_missing\u001B[49m\u001B[38;5;241;43m=\u001B[39;49m\u001B[38;5;28;43;01mTrue\u001B[39;49;00m\u001B[43m,\u001B[49m\n\u001B[0;32m    564\u001B[0m \u001B[43m        \u001B[49m\u001B[43mthrow_on_resolution_failure\u001B[49m\u001B[38;5;241;43m=\u001B[39;49m\u001B[38;5;28;43;01mTrue\u001B[39;49;00m\u001B[43m,\u001B[49m\n\u001B[0;32m    565\u001B[0m \u001B[43m        \u001B[49m\u001B[43mmemo\u001B[49m\u001B[38;5;241;43m=\u001B[39;49m\u001B[43mmemo\u001B[49m\u001B[43m,\u001B[49m\n\u001B[0;32m    566\u001B[0m \u001B[43m    \u001B[49m\u001B[43m)\u001B[49m\n\u001B[0;32m    567\u001B[0m \u001B[38;5;28;01mexcept\u001B[39;00m MissingMandatoryValue \u001B[38;5;28;01mas\u001B[39;00m exc:\n\u001B[0;32m    568\u001B[0m     \u001B[38;5;28;01mraise\u001B[39;00m InterpolationToMissingValueError(\n\u001B[0;32m    569\u001B[0m         \u001B[38;5;124mf\u001B[39m\u001B[38;5;124m\"\u001B[39m\u001B[38;5;124mMissingMandatoryValue while resolving interpolation: \u001B[39m\u001B[38;5;132;01m{\u001B[39;00mexc\u001B[38;5;132;01m}\u001B[39;00m\u001B[38;5;124m\"\u001B[39m\n\u001B[0;32m    570\u001B[0m     )\u001B[38;5;241m.\u001B[39mwith_traceback(sys\u001B[38;5;241m.\u001B[39mexc_info()[\u001B[38;5;241m2\u001B[39m])\n",
      "File \u001B[1;32m~\\anaconda3\\envs\\ssl_env\\lib\\site-packages\\omegaconf\\base.py:429\u001B[0m, in \u001B[0;36mContainer._select_impl\u001B[1;34m(self, key, throw_on_missing, throw_on_resolution_failure, memo)\u001B[0m\n\u001B[0;32m    426\u001B[0m     memo\u001B[38;5;241m.\u001B[39madd(vid)\n\u001B[0;32m    428\u001B[0m \u001B[38;5;28;01mtry\u001B[39;00m:\n\u001B[1;32m--> 429\u001B[0m     value \u001B[38;5;241m=\u001B[39m \u001B[43mroot\u001B[49m\u001B[38;5;241;43m.\u001B[39;49m\u001B[43m_maybe_resolve_interpolation\u001B[49m\u001B[43m(\u001B[49m\n\u001B[0;32m    430\u001B[0m \u001B[43m        \u001B[49m\u001B[43mparent\u001B[49m\u001B[38;5;241;43m=\u001B[39;49m\u001B[43mroot\u001B[49m\u001B[43m,\u001B[49m\n\u001B[0;32m    431\u001B[0m \u001B[43m        \u001B[49m\u001B[43mkey\u001B[49m\u001B[38;5;241;43m=\u001B[39;49m\u001B[43mlast_key\u001B[49m\u001B[43m,\u001B[49m\n\u001B[0;32m    432\u001B[0m \u001B[43m        \u001B[49m\u001B[43mvalue\u001B[49m\u001B[38;5;241;43m=\u001B[39;49m\u001B[43mvalue\u001B[49m\u001B[43m,\u001B[49m\n\u001B[0;32m    433\u001B[0m \u001B[43m        \u001B[49m\u001B[43mthrow_on_resolution_failure\u001B[49m\u001B[38;5;241;43m=\u001B[39;49m\u001B[43mthrow_on_resolution_failure\u001B[49m\u001B[43m,\u001B[49m\n\u001B[0;32m    434\u001B[0m \u001B[43m        \u001B[49m\u001B[43mmemo\u001B[49m\u001B[38;5;241;43m=\u001B[39;49m\u001B[43mmemo\u001B[49m\u001B[43m,\u001B[49m\n\u001B[0;32m    435\u001B[0m \u001B[43m    \u001B[49m\u001B[43m)\u001B[49m\n\u001B[0;32m    436\u001B[0m \u001B[38;5;28;01mfinally\u001B[39;00m:\n\u001B[0;32m    437\u001B[0m     \u001B[38;5;28;01mif\u001B[39;00m memo \u001B[38;5;129;01mis\u001B[39;00m \u001B[38;5;129;01mnot\u001B[39;00m \u001B[38;5;28;01mNone\u001B[39;00m:\n\u001B[0;32m    438\u001B[0m         \u001B[38;5;66;03m# pop from memo \"stack\"\u001B[39;00m\n",
      "File \u001B[1;32m~\\anaconda3\\envs\\ssl_env\\lib\\site-packages\\omegaconf\\base.py:616\u001B[0m, in \u001B[0;36mContainer._maybe_resolve_interpolation\u001B[1;34m(self, parent, key, value, throw_on_resolution_failure, memo)\u001B[0m\n\u001B[0;32m    613\u001B[0m     \u001B[38;5;28;01mreturn\u001B[39;00m value\n\u001B[0;32m    615\u001B[0m parse_tree \u001B[38;5;241m=\u001B[39m parse(_get_value(value))\n\u001B[1;32m--> 616\u001B[0m \u001B[38;5;28;01mreturn\u001B[39;00m \u001B[38;5;28;43mself\u001B[39;49m\u001B[38;5;241;43m.\u001B[39;49m\u001B[43m_resolve_interpolation_from_parse_tree\u001B[49m\u001B[43m(\u001B[49m\n\u001B[0;32m    617\u001B[0m \u001B[43m    \u001B[49m\u001B[43mparent\u001B[49m\u001B[38;5;241;43m=\u001B[39;49m\u001B[43mparent\u001B[49m\u001B[43m,\u001B[49m\n\u001B[0;32m    618\u001B[0m \u001B[43m    \u001B[49m\u001B[43mvalue\u001B[49m\u001B[38;5;241;43m=\u001B[39;49m\u001B[43mvalue\u001B[49m\u001B[43m,\u001B[49m\n\u001B[0;32m    619\u001B[0m \u001B[43m    \u001B[49m\u001B[43mkey\u001B[49m\u001B[38;5;241;43m=\u001B[39;49m\u001B[43mkey\u001B[49m\u001B[43m,\u001B[49m\n\u001B[0;32m    620\u001B[0m \u001B[43m    \u001B[49m\u001B[43mparse_tree\u001B[49m\u001B[38;5;241;43m=\u001B[39;49m\u001B[43mparse_tree\u001B[49m\u001B[43m,\u001B[49m\n\u001B[0;32m    621\u001B[0m \u001B[43m    \u001B[49m\u001B[43mthrow_on_resolution_failure\u001B[49m\u001B[38;5;241;43m=\u001B[39;49m\u001B[43mthrow_on_resolution_failure\u001B[49m\u001B[43m,\u001B[49m\n\u001B[0;32m    622\u001B[0m \u001B[43m    \u001B[49m\u001B[43mmemo\u001B[49m\u001B[38;5;241;43m=\u001B[39;49m\u001B[43mmemo\u001B[49m\u001B[43m \u001B[49m\u001B[38;5;28;43;01mif\u001B[39;49;00m\u001B[43m \u001B[49m\u001B[43mmemo\u001B[49m\u001B[43m \u001B[49m\u001B[38;5;129;43;01mis\u001B[39;49;00m\u001B[43m \u001B[49m\u001B[38;5;129;43;01mnot\u001B[39;49;00m\u001B[43m \u001B[49m\u001B[38;5;28;43;01mNone\u001B[39;49;00m\u001B[43m \u001B[49m\u001B[38;5;28;43;01melse\u001B[39;49;00m\u001B[43m \u001B[49m\u001B[38;5;28;43mset\u001B[39;49m\u001B[43m(\u001B[49m\u001B[43m)\u001B[49m\u001B[43m,\u001B[49m\n\u001B[0;32m    623\u001B[0m \u001B[43m\u001B[49m\u001B[43m)\u001B[49m\n",
      "File \u001B[1;32m~\\anaconda3\\envs\\ssl_env\\lib\\site-packages\\omegaconf\\base.py:482\u001B[0m, in \u001B[0;36mContainer._resolve_interpolation_from_parse_tree\u001B[1;34m(self, parent, value, key, parse_tree, throw_on_resolution_failure, memo)\u001B[0m\n\u001B[0;32m    452\u001B[0m \u001B[38;5;124;03m\"\"\"\u001B[39;00m\n\u001B[0;32m    453\u001B[0m \u001B[38;5;124;03mResolve an interpolation.\u001B[39;00m\n\u001B[0;32m    454\u001B[0m \n\u001B[1;32m   (...)\u001B[0m\n\u001B[0;32m    478\u001B[0m \u001B[38;5;124;03m    `throw_on_resolution_failure` is `False` and an error occurs during resolution.\u001B[39;00m\n\u001B[0;32m    479\u001B[0m \u001B[38;5;124;03m\"\"\"\u001B[39;00m\n\u001B[0;32m    481\u001B[0m \u001B[38;5;28;01mtry\u001B[39;00m:\n\u001B[1;32m--> 482\u001B[0m     resolved \u001B[38;5;241m=\u001B[39m \u001B[38;5;28;43mself\u001B[39;49m\u001B[38;5;241;43m.\u001B[39;49m\u001B[43mresolve_parse_tree\u001B[49m\u001B[43m(\u001B[49m\n\u001B[0;32m    483\u001B[0m \u001B[43m        \u001B[49m\u001B[43mparse_tree\u001B[49m\u001B[38;5;241;43m=\u001B[39;49m\u001B[43mparse_tree\u001B[49m\u001B[43m,\u001B[49m\u001B[43m \u001B[49m\u001B[43mnode\u001B[49m\u001B[38;5;241;43m=\u001B[39;49m\u001B[43mvalue\u001B[49m\u001B[43m,\u001B[49m\u001B[43m \u001B[49m\u001B[43mkey\u001B[49m\u001B[38;5;241;43m=\u001B[39;49m\u001B[43mkey\u001B[49m\u001B[43m,\u001B[49m\u001B[43m \u001B[49m\u001B[43mparent\u001B[49m\u001B[38;5;241;43m=\u001B[39;49m\u001B[43mparent\u001B[49m\u001B[43m,\u001B[49m\u001B[43m \u001B[49m\u001B[43mmemo\u001B[49m\u001B[38;5;241;43m=\u001B[39;49m\u001B[43mmemo\u001B[49m\n\u001B[0;32m    484\u001B[0m \u001B[43m    \u001B[49m\u001B[43m)\u001B[49m\n\u001B[0;32m    485\u001B[0m \u001B[38;5;28;01mexcept\u001B[39;00m InterpolationResolutionError:\n\u001B[0;32m    486\u001B[0m     \u001B[38;5;28;01mif\u001B[39;00m throw_on_resolution_failure:\n",
      "File \u001B[1;32m~\\anaconda3\\envs\\ssl_env\\lib\\site-packages\\omegaconf\\base.py:662\u001B[0m, in \u001B[0;36mContainer.resolve_parse_tree\u001B[1;34m(self, parse_tree, node, memo, key, parent)\u001B[0m\n\u001B[0;32m    656\u001B[0m visitor \u001B[38;5;241m=\u001B[39m GrammarVisitor(\n\u001B[0;32m    657\u001B[0m     node_interpolation_callback\u001B[38;5;241m=\u001B[39mnode_interpolation_callback,\n\u001B[0;32m    658\u001B[0m     resolver_interpolation_callback\u001B[38;5;241m=\u001B[39mresolver_interpolation_callback,\n\u001B[0;32m    659\u001B[0m     memo\u001B[38;5;241m=\u001B[39mmemo,\n\u001B[0;32m    660\u001B[0m )\n\u001B[0;32m    661\u001B[0m \u001B[38;5;28;01mtry\u001B[39;00m:\n\u001B[1;32m--> 662\u001B[0m     \u001B[38;5;28;01mreturn\u001B[39;00m \u001B[43mvisitor\u001B[49m\u001B[38;5;241;43m.\u001B[39;49m\u001B[43mvisit\u001B[49m\u001B[43m(\u001B[49m\u001B[43mparse_tree\u001B[49m\u001B[43m)\u001B[49m\n\u001B[0;32m    663\u001B[0m \u001B[38;5;28;01mexcept\u001B[39;00m InterpolationResolutionError:\n\u001B[0;32m    664\u001B[0m     \u001B[38;5;28;01mraise\u001B[39;00m\n",
      "File \u001B[1;32m~\\anaconda3\\envs\\ssl_env\\lib\\site-packages\\antlr4\\tree\\Tree.py:34\u001B[0m, in \u001B[0;36mParseTreeVisitor.visit\u001B[1;34m(self, tree)\u001B[0m\n\u001B[0;32m     33\u001B[0m \u001B[38;5;28;01mdef\u001B[39;00m \u001B[38;5;21mvisit\u001B[39m(\u001B[38;5;28mself\u001B[39m, tree):\n\u001B[1;32m---> 34\u001B[0m     \u001B[38;5;28;01mreturn\u001B[39;00m \u001B[43mtree\u001B[49m\u001B[38;5;241;43m.\u001B[39;49m\u001B[43maccept\u001B[49m\u001B[43m(\u001B[49m\u001B[38;5;28;43mself\u001B[39;49m\u001B[43m)\u001B[49m\n",
      "File \u001B[1;32m~\\anaconda3\\envs\\ssl_env\\lib\\site-packages\\omegaconf\\grammar\\gen\\OmegaConfGrammarParser.py:205\u001B[0m, in \u001B[0;36mOmegaConfGrammarParser.ConfigValueContext.accept\u001B[1;34m(self, visitor)\u001B[0m\n\u001B[0;32m    203\u001B[0m \u001B[38;5;28;01mdef\u001B[39;00m \u001B[38;5;21maccept\u001B[39m(\u001B[38;5;28mself\u001B[39m, visitor:ParseTreeVisitor):\n\u001B[0;32m    204\u001B[0m     \u001B[38;5;28;01mif\u001B[39;00m \u001B[38;5;28mhasattr\u001B[39m( visitor, \u001B[38;5;124m\"\u001B[39m\u001B[38;5;124mvisitConfigValue\u001B[39m\u001B[38;5;124m\"\u001B[39m ):\n\u001B[1;32m--> 205\u001B[0m         \u001B[38;5;28;01mreturn\u001B[39;00m \u001B[43mvisitor\u001B[49m\u001B[38;5;241;43m.\u001B[39;49m\u001B[43mvisitConfigValue\u001B[49m\u001B[43m(\u001B[49m\u001B[38;5;28;43mself\u001B[39;49m\u001B[43m)\u001B[49m\n\u001B[0;32m    206\u001B[0m     \u001B[38;5;28;01melse\u001B[39;00m:\n\u001B[0;32m    207\u001B[0m         \u001B[38;5;28;01mreturn\u001B[39;00m visitor\u001B[38;5;241m.\u001B[39mvisitChildren(\u001B[38;5;28mself\u001B[39m)\n",
      "File \u001B[1;32m~\\anaconda3\\envs\\ssl_env\\lib\\site-packages\\omegaconf\\grammar_visitor.py:101\u001B[0m, in \u001B[0;36mGrammarVisitor.visitConfigValue\u001B[1;34m(self, ctx)\u001B[0m\n\u001B[0;32m     98\u001B[0m \u001B[38;5;28;01mdef\u001B[39;00m \u001B[38;5;21mvisitConfigValue\u001B[39m(\u001B[38;5;28mself\u001B[39m, ctx: OmegaConfGrammarParser\u001B[38;5;241m.\u001B[39mConfigValueContext) \u001B[38;5;241m-\u001B[39m\u001B[38;5;241m>\u001B[39m Any:\n\u001B[0;32m     99\u001B[0m     \u001B[38;5;66;03m# text EOF\u001B[39;00m\n\u001B[0;32m    100\u001B[0m     \u001B[38;5;28;01massert\u001B[39;00m ctx\u001B[38;5;241m.\u001B[39mgetChildCount() \u001B[38;5;241m==\u001B[39m \u001B[38;5;241m2\u001B[39m\n\u001B[1;32m--> 101\u001B[0m     \u001B[38;5;28;01mreturn\u001B[39;00m \u001B[38;5;28;43mself\u001B[39;49m\u001B[38;5;241;43m.\u001B[39;49m\u001B[43mvisit\u001B[49m\u001B[43m(\u001B[49m\u001B[43mctx\u001B[49m\u001B[38;5;241;43m.\u001B[39;49m\u001B[43mgetChild\u001B[49m\u001B[43m(\u001B[49m\u001B[38;5;241;43m0\u001B[39;49m\u001B[43m)\u001B[49m\u001B[43m)\u001B[49m\n",
      "File \u001B[1;32m~\\anaconda3\\envs\\ssl_env\\lib\\site-packages\\antlr4\\tree\\Tree.py:34\u001B[0m, in \u001B[0;36mParseTreeVisitor.visit\u001B[1;34m(self, tree)\u001B[0m\n\u001B[0;32m     33\u001B[0m \u001B[38;5;28;01mdef\u001B[39;00m \u001B[38;5;21mvisit\u001B[39m(\u001B[38;5;28mself\u001B[39m, tree):\n\u001B[1;32m---> 34\u001B[0m     \u001B[38;5;28;01mreturn\u001B[39;00m \u001B[43mtree\u001B[49m\u001B[38;5;241;43m.\u001B[39;49m\u001B[43maccept\u001B[49m\u001B[43m(\u001B[49m\u001B[38;5;28;43mself\u001B[39;49m\u001B[43m)\u001B[49m\n",
      "File \u001B[1;32m~\\anaconda3\\envs\\ssl_env\\lib\\site-packages\\omegaconf\\grammar\\gen\\OmegaConfGrammarParser.py:339\u001B[0m, in \u001B[0;36mOmegaConfGrammarParser.TextContext.accept\u001B[1;34m(self, visitor)\u001B[0m\n\u001B[0;32m    337\u001B[0m \u001B[38;5;28;01mdef\u001B[39;00m \u001B[38;5;21maccept\u001B[39m(\u001B[38;5;28mself\u001B[39m, visitor:ParseTreeVisitor):\n\u001B[0;32m    338\u001B[0m     \u001B[38;5;28;01mif\u001B[39;00m \u001B[38;5;28mhasattr\u001B[39m( visitor, \u001B[38;5;124m\"\u001B[39m\u001B[38;5;124mvisitText\u001B[39m\u001B[38;5;124m\"\u001B[39m ):\n\u001B[1;32m--> 339\u001B[0m         \u001B[38;5;28;01mreturn\u001B[39;00m \u001B[43mvisitor\u001B[49m\u001B[38;5;241;43m.\u001B[39;49m\u001B[43mvisitText\u001B[49m\u001B[43m(\u001B[49m\u001B[38;5;28;43mself\u001B[39;49m\u001B[43m)\u001B[49m\n\u001B[0;32m    340\u001B[0m     \u001B[38;5;28;01melse\u001B[39;00m:\n\u001B[0;32m    341\u001B[0m         \u001B[38;5;28;01mreturn\u001B[39;00m visitor\u001B[38;5;241m.\u001B[39mvisitChildren(\u001B[38;5;28mself\u001B[39m)\n",
      "File \u001B[1;32m~\\anaconda3\\envs\\ssl_env\\lib\\site-packages\\omegaconf\\grammar_visitor.py:301\u001B[0m, in \u001B[0;36mGrammarVisitor.visitText\u001B[1;34m(self, ctx)\u001B[0m\n\u001B[0;32m    298\u001B[0m         \u001B[38;5;28;01mreturn\u001B[39;00m \u001B[38;5;28mself\u001B[39m\u001B[38;5;241m.\u001B[39mvisitInterpolation(c)\n\u001B[0;32m    300\u001B[0m \u001B[38;5;66;03m# Otherwise, concatenate string representations together.\u001B[39;00m\n\u001B[1;32m--> 301\u001B[0m \u001B[38;5;28;01mreturn\u001B[39;00m \u001B[38;5;28;43mself\u001B[39;49m\u001B[38;5;241;43m.\u001B[39;49m\u001B[43m_unescape\u001B[49m\u001B[43m(\u001B[49m\u001B[38;5;28;43mlist\u001B[39;49m\u001B[43m(\u001B[49m\u001B[43mctx\u001B[49m\u001B[38;5;241;43m.\u001B[39;49m\u001B[43mgetChildren\u001B[49m\u001B[43m(\u001B[49m\u001B[43m)\u001B[49m\u001B[43m)\u001B[49m\u001B[43m)\u001B[49m\n",
      "File \u001B[1;32m~\\anaconda3\\envs\\ssl_env\\lib\\site-packages\\omegaconf\\grammar_visitor.py:389\u001B[0m, in \u001B[0;36mGrammarVisitor._unescape\u001B[1;34m(self, seq)\u001B[0m\n\u001B[0;32m    387\u001B[0m     \u001B[38;5;28;01melse\u001B[39;00m:\n\u001B[0;32m    388\u001B[0m         \u001B[38;5;28;01massert\u001B[39;00m \u001B[38;5;28misinstance\u001B[39m(node, OmegaConfGrammarParser\u001B[38;5;241m.\u001B[39mInterpolationContext)\n\u001B[1;32m--> 389\u001B[0m         text \u001B[38;5;241m=\u001B[39m \u001B[38;5;28mstr\u001B[39m(\u001B[38;5;28;43mself\u001B[39;49m\u001B[38;5;241;43m.\u001B[39;49m\u001B[43mvisitInterpolation\u001B[49m\u001B[43m(\u001B[49m\u001B[43mnode\u001B[49m\u001B[43m)\u001B[49m)\n\u001B[0;32m    390\u001B[0m     chrs\u001B[38;5;241m.\u001B[39mappend(text)\n\u001B[0;32m    392\u001B[0m \u001B[38;5;28;01mreturn\u001B[39;00m \u001B[38;5;124m\"\u001B[39m\u001B[38;5;124m\"\u001B[39m\u001B[38;5;241m.\u001B[39mjoin(chrs)\n",
      "File \u001B[1;32m~\\anaconda3\\envs\\ssl_env\\lib\\site-packages\\omegaconf\\grammar_visitor.py:125\u001B[0m, in \u001B[0;36mGrammarVisitor.visitInterpolation\u001B[1;34m(self, ctx)\u001B[0m\n\u001B[0;32m    121\u001B[0m \u001B[38;5;28;01mdef\u001B[39;00m \u001B[38;5;21mvisitInterpolation\u001B[39m(\n\u001B[0;32m    122\u001B[0m     \u001B[38;5;28mself\u001B[39m, ctx: OmegaConfGrammarParser\u001B[38;5;241m.\u001B[39mInterpolationContext\n\u001B[0;32m    123\u001B[0m ) \u001B[38;5;241m-\u001B[39m\u001B[38;5;241m>\u001B[39m Any:\n\u001B[0;32m    124\u001B[0m     \u001B[38;5;28;01massert\u001B[39;00m ctx\u001B[38;5;241m.\u001B[39mgetChildCount() \u001B[38;5;241m==\u001B[39m \u001B[38;5;241m1\u001B[39m  \u001B[38;5;66;03m# interpolationNode | interpolationResolver\u001B[39;00m\n\u001B[1;32m--> 125\u001B[0m     \u001B[38;5;28;01mreturn\u001B[39;00m \u001B[38;5;28;43mself\u001B[39;49m\u001B[38;5;241;43m.\u001B[39;49m\u001B[43mvisit\u001B[49m\u001B[43m(\u001B[49m\u001B[43mctx\u001B[49m\u001B[38;5;241;43m.\u001B[39;49m\u001B[43mgetChild\u001B[49m\u001B[43m(\u001B[49m\u001B[38;5;241;43m0\u001B[39;49m\u001B[43m)\u001B[49m\u001B[43m)\u001B[49m\n",
      "File \u001B[1;32m~\\anaconda3\\envs\\ssl_env\\lib\\site-packages\\antlr4\\tree\\Tree.py:34\u001B[0m, in \u001B[0;36mParseTreeVisitor.visit\u001B[1;34m(self, tree)\u001B[0m\n\u001B[0;32m     33\u001B[0m \u001B[38;5;28;01mdef\u001B[39;00m \u001B[38;5;21mvisit\u001B[39m(\u001B[38;5;28mself\u001B[39m, tree):\n\u001B[1;32m---> 34\u001B[0m     \u001B[38;5;28;01mreturn\u001B[39;00m \u001B[43mtree\u001B[49m\u001B[38;5;241;43m.\u001B[39;49m\u001B[43maccept\u001B[49m\u001B[43m(\u001B[49m\u001B[38;5;28;43mself\u001B[39;49m\u001B[43m)\u001B[49m\n",
      "File \u001B[1;32m~\\anaconda3\\envs\\ssl_env\\lib\\site-packages\\omegaconf\\grammar\\gen\\OmegaConfGrammarParser.py:911\u001B[0m, in \u001B[0;36mOmegaConfGrammarParser.InterpolationNodeContext.accept\u001B[1;34m(self, visitor)\u001B[0m\n\u001B[0;32m    909\u001B[0m \u001B[38;5;28;01mdef\u001B[39;00m \u001B[38;5;21maccept\u001B[39m(\u001B[38;5;28mself\u001B[39m, visitor:ParseTreeVisitor):\n\u001B[0;32m    910\u001B[0m     \u001B[38;5;28;01mif\u001B[39;00m \u001B[38;5;28mhasattr\u001B[39m( visitor, \u001B[38;5;124m\"\u001B[39m\u001B[38;5;124mvisitInterpolationNode\u001B[39m\u001B[38;5;124m\"\u001B[39m ):\n\u001B[1;32m--> 911\u001B[0m         \u001B[38;5;28;01mreturn\u001B[39;00m \u001B[43mvisitor\u001B[49m\u001B[38;5;241;43m.\u001B[39;49m\u001B[43mvisitInterpolationNode\u001B[49m\u001B[43m(\u001B[49m\u001B[38;5;28;43mself\u001B[39;49m\u001B[43m)\u001B[49m\n\u001B[0;32m    912\u001B[0m     \u001B[38;5;28;01melse\u001B[39;00m:\n\u001B[0;32m    913\u001B[0m         \u001B[38;5;28;01mreturn\u001B[39;00m visitor\u001B[38;5;241m.\u001B[39mvisitChildren(\u001B[38;5;28mself\u001B[39m)\n",
      "File \u001B[1;32m~\\anaconda3\\envs\\ssl_env\\lib\\site-packages\\omegaconf\\grammar_visitor.py:158\u001B[0m, in \u001B[0;36mGrammarVisitor.visitInterpolationNode\u001B[1;34m(self, ctx)\u001B[0m\n\u001B[0;32m    155\u001B[0m         inter_key_tokens\u001B[38;5;241m.\u001B[39mappend(\u001B[38;5;28mself\u001B[39m\u001B[38;5;241m.\u001B[39mvisitConfigKey(child))\n\u001B[0;32m    157\u001B[0m inter_key \u001B[38;5;241m=\u001B[39m \u001B[38;5;124m\"\u001B[39m\u001B[38;5;124m\"\u001B[39m\u001B[38;5;241m.\u001B[39mjoin(inter_key_tokens)\n\u001B[1;32m--> 158\u001B[0m \u001B[38;5;28;01mreturn\u001B[39;00m \u001B[38;5;28;43mself\u001B[39;49m\u001B[38;5;241;43m.\u001B[39;49m\u001B[43mnode_interpolation_callback\u001B[49m\u001B[43m(\u001B[49m\u001B[43minter_key\u001B[49m\u001B[43m,\u001B[49m\u001B[43m \u001B[49m\u001B[38;5;28;43mself\u001B[39;49m\u001B[38;5;241;43m.\u001B[39;49m\u001B[43mmemo\u001B[49m\u001B[43m)\u001B[49m\n",
      "File \u001B[1;32m~\\anaconda3\\envs\\ssl_env\\lib\\site-packages\\omegaconf\\base.py:643\u001B[0m, in \u001B[0;36mContainer.resolve_parse_tree.<locals>.node_interpolation_callback\u001B[1;34m(inter_key, memo)\u001B[0m\n\u001B[0;32m    640\u001B[0m \u001B[38;5;28;01mdef\u001B[39;00m \u001B[38;5;21mnode_interpolation_callback\u001B[39m(\n\u001B[0;32m    641\u001B[0m     inter_key: \u001B[38;5;28mstr\u001B[39m, memo: Optional[Set[\u001B[38;5;28mint\u001B[39m]]\n\u001B[0;32m    642\u001B[0m ) \u001B[38;5;241m-\u001B[39m\u001B[38;5;241m>\u001B[39m Optional[\u001B[38;5;124m\"\u001B[39m\u001B[38;5;124mNode\u001B[39m\u001B[38;5;124m\"\u001B[39m]:\n\u001B[1;32m--> 643\u001B[0m     \u001B[38;5;28;01mreturn\u001B[39;00m \u001B[38;5;28;43mself\u001B[39;49m\u001B[38;5;241;43m.\u001B[39;49m\u001B[43m_resolve_node_interpolation\u001B[49m\u001B[43m(\u001B[49m\u001B[43minter_key\u001B[49m\u001B[38;5;241;43m=\u001B[39;49m\u001B[43minter_key\u001B[49m\u001B[43m,\u001B[49m\u001B[43m \u001B[49m\u001B[43mmemo\u001B[49m\u001B[38;5;241;43m=\u001B[39;49m\u001B[43mmemo\u001B[49m\u001B[43m)\u001B[49m\n",
      "File \u001B[1;32m~\\anaconda3\\envs\\ssl_env\\lib\\site-packages\\omegaconf\\base.py:561\u001B[0m, in \u001B[0;36mContainer._resolve_node_interpolation\u001B[1;34m(self, inter_key, memo)\u001B[0m\n\u001B[0;32m    556\u001B[0m     \u001B[38;5;28;01mraise\u001B[39;00m InterpolationKeyError(\n\u001B[0;32m    557\u001B[0m         \u001B[38;5;124mf\u001B[39m\u001B[38;5;124m\"\u001B[39m\u001B[38;5;124mConfigKeyError while resolving interpolation: \u001B[39m\u001B[38;5;132;01m{\u001B[39;00mexc\u001B[38;5;132;01m}\u001B[39;00m\u001B[38;5;124m\"\u001B[39m\n\u001B[0;32m    558\u001B[0m     )\u001B[38;5;241m.\u001B[39mwith_traceback(sys\u001B[38;5;241m.\u001B[39mexc_info()[\u001B[38;5;241m2\u001B[39m])\n\u001B[0;32m    560\u001B[0m \u001B[38;5;28;01mtry\u001B[39;00m:\n\u001B[1;32m--> 561\u001B[0m     parent, last_key, value \u001B[38;5;241m=\u001B[39m \u001B[43mroot_node\u001B[49m\u001B[38;5;241;43m.\u001B[39;49m\u001B[43m_select_impl\u001B[49m\u001B[43m(\u001B[49m\n\u001B[0;32m    562\u001B[0m \u001B[43m        \u001B[49m\u001B[43minter_key\u001B[49m\u001B[43m,\u001B[49m\n\u001B[0;32m    563\u001B[0m \u001B[43m        \u001B[49m\u001B[43mthrow_on_missing\u001B[49m\u001B[38;5;241;43m=\u001B[39;49m\u001B[38;5;28;43;01mTrue\u001B[39;49;00m\u001B[43m,\u001B[49m\n\u001B[0;32m    564\u001B[0m \u001B[43m        \u001B[49m\u001B[43mthrow_on_resolution_failure\u001B[49m\u001B[38;5;241;43m=\u001B[39;49m\u001B[38;5;28;43;01mTrue\u001B[39;49;00m\u001B[43m,\u001B[49m\n\u001B[0;32m    565\u001B[0m \u001B[43m        \u001B[49m\u001B[43mmemo\u001B[49m\u001B[38;5;241;43m=\u001B[39;49m\u001B[43mmemo\u001B[49m\u001B[43m,\u001B[49m\n\u001B[0;32m    566\u001B[0m \u001B[43m    \u001B[49m\u001B[43m)\u001B[49m\n\u001B[0;32m    567\u001B[0m \u001B[38;5;28;01mexcept\u001B[39;00m MissingMandatoryValue \u001B[38;5;28;01mas\u001B[39;00m exc:\n\u001B[0;32m    568\u001B[0m     \u001B[38;5;28;01mraise\u001B[39;00m InterpolationToMissingValueError(\n\u001B[0;32m    569\u001B[0m         \u001B[38;5;124mf\u001B[39m\u001B[38;5;124m\"\u001B[39m\u001B[38;5;124mMissingMandatoryValue while resolving interpolation: \u001B[39m\u001B[38;5;132;01m{\u001B[39;00mexc\u001B[38;5;132;01m}\u001B[39;00m\u001B[38;5;124m\"\u001B[39m\n\u001B[0;32m    570\u001B[0m     )\u001B[38;5;241m.\u001B[39mwith_traceback(sys\u001B[38;5;241m.\u001B[39mexc_info()[\u001B[38;5;241m2\u001B[39m])\n",
      "File \u001B[1;32m~\\anaconda3\\envs\\ssl_env\\lib\\site-packages\\omegaconf\\base.py:429\u001B[0m, in \u001B[0;36mContainer._select_impl\u001B[1;34m(self, key, throw_on_missing, throw_on_resolution_failure, memo)\u001B[0m\n\u001B[0;32m    426\u001B[0m     memo\u001B[38;5;241m.\u001B[39madd(vid)\n\u001B[0;32m    428\u001B[0m \u001B[38;5;28;01mtry\u001B[39;00m:\n\u001B[1;32m--> 429\u001B[0m     value \u001B[38;5;241m=\u001B[39m \u001B[43mroot\u001B[49m\u001B[38;5;241;43m.\u001B[39;49m\u001B[43m_maybe_resolve_interpolation\u001B[49m\u001B[43m(\u001B[49m\n\u001B[0;32m    430\u001B[0m \u001B[43m        \u001B[49m\u001B[43mparent\u001B[49m\u001B[38;5;241;43m=\u001B[39;49m\u001B[43mroot\u001B[49m\u001B[43m,\u001B[49m\n\u001B[0;32m    431\u001B[0m \u001B[43m        \u001B[49m\u001B[43mkey\u001B[49m\u001B[38;5;241;43m=\u001B[39;49m\u001B[43mlast_key\u001B[49m\u001B[43m,\u001B[49m\n\u001B[0;32m    432\u001B[0m \u001B[43m        \u001B[49m\u001B[43mvalue\u001B[49m\u001B[38;5;241;43m=\u001B[39;49m\u001B[43mvalue\u001B[49m\u001B[43m,\u001B[49m\n\u001B[0;32m    433\u001B[0m \u001B[43m        \u001B[49m\u001B[43mthrow_on_resolution_failure\u001B[49m\u001B[38;5;241;43m=\u001B[39;49m\u001B[43mthrow_on_resolution_failure\u001B[49m\u001B[43m,\u001B[49m\n\u001B[0;32m    434\u001B[0m \u001B[43m        \u001B[49m\u001B[43mmemo\u001B[49m\u001B[38;5;241;43m=\u001B[39;49m\u001B[43mmemo\u001B[49m\u001B[43m,\u001B[49m\n\u001B[0;32m    435\u001B[0m \u001B[43m    \u001B[49m\u001B[43m)\u001B[49m\n\u001B[0;32m    436\u001B[0m \u001B[38;5;28;01mfinally\u001B[39;00m:\n\u001B[0;32m    437\u001B[0m     \u001B[38;5;28;01mif\u001B[39;00m memo \u001B[38;5;129;01mis\u001B[39;00m \u001B[38;5;129;01mnot\u001B[39;00m \u001B[38;5;28;01mNone\u001B[39;00m:\n\u001B[0;32m    438\u001B[0m         \u001B[38;5;66;03m# pop from memo \"stack\"\u001B[39;00m\n",
      "File \u001B[1;32m~\\anaconda3\\envs\\ssl_env\\lib\\site-packages\\omegaconf\\base.py:616\u001B[0m, in \u001B[0;36mContainer._maybe_resolve_interpolation\u001B[1;34m(self, parent, key, value, throw_on_resolution_failure, memo)\u001B[0m\n\u001B[0;32m    613\u001B[0m     \u001B[38;5;28;01mreturn\u001B[39;00m value\n\u001B[0;32m    615\u001B[0m parse_tree \u001B[38;5;241m=\u001B[39m parse(_get_value(value))\n\u001B[1;32m--> 616\u001B[0m \u001B[38;5;28;01mreturn\u001B[39;00m \u001B[38;5;28;43mself\u001B[39;49m\u001B[38;5;241;43m.\u001B[39;49m\u001B[43m_resolve_interpolation_from_parse_tree\u001B[49m\u001B[43m(\u001B[49m\n\u001B[0;32m    617\u001B[0m \u001B[43m    \u001B[49m\u001B[43mparent\u001B[49m\u001B[38;5;241;43m=\u001B[39;49m\u001B[43mparent\u001B[49m\u001B[43m,\u001B[49m\n\u001B[0;32m    618\u001B[0m \u001B[43m    \u001B[49m\u001B[43mvalue\u001B[49m\u001B[38;5;241;43m=\u001B[39;49m\u001B[43mvalue\u001B[49m\u001B[43m,\u001B[49m\n\u001B[0;32m    619\u001B[0m \u001B[43m    \u001B[49m\u001B[43mkey\u001B[49m\u001B[38;5;241;43m=\u001B[39;49m\u001B[43mkey\u001B[49m\u001B[43m,\u001B[49m\n\u001B[0;32m    620\u001B[0m \u001B[43m    \u001B[49m\u001B[43mparse_tree\u001B[49m\u001B[38;5;241;43m=\u001B[39;49m\u001B[43mparse_tree\u001B[49m\u001B[43m,\u001B[49m\n\u001B[0;32m    621\u001B[0m \u001B[43m    \u001B[49m\u001B[43mthrow_on_resolution_failure\u001B[49m\u001B[38;5;241;43m=\u001B[39;49m\u001B[43mthrow_on_resolution_failure\u001B[49m\u001B[43m,\u001B[49m\n\u001B[0;32m    622\u001B[0m \u001B[43m    \u001B[49m\u001B[43mmemo\u001B[49m\u001B[38;5;241;43m=\u001B[39;49m\u001B[43mmemo\u001B[49m\u001B[43m \u001B[49m\u001B[38;5;28;43;01mif\u001B[39;49;00m\u001B[43m \u001B[49m\u001B[43mmemo\u001B[49m\u001B[43m \u001B[49m\u001B[38;5;129;43;01mis\u001B[39;49;00m\u001B[43m \u001B[49m\u001B[38;5;129;43;01mnot\u001B[39;49;00m\u001B[43m \u001B[49m\u001B[38;5;28;43;01mNone\u001B[39;49;00m\u001B[43m \u001B[49m\u001B[38;5;28;43;01melse\u001B[39;49;00m\u001B[43m \u001B[49m\u001B[38;5;28;43mset\u001B[39;49m\u001B[43m(\u001B[49m\u001B[43m)\u001B[49m\u001B[43m,\u001B[49m\n\u001B[0;32m    623\u001B[0m \u001B[43m\u001B[49m\u001B[43m)\u001B[49m\n",
      "File \u001B[1;32m~\\anaconda3\\envs\\ssl_env\\lib\\site-packages\\omegaconf\\base.py:482\u001B[0m, in \u001B[0;36mContainer._resolve_interpolation_from_parse_tree\u001B[1;34m(self, parent, value, key, parse_tree, throw_on_resolution_failure, memo)\u001B[0m\n\u001B[0;32m    452\u001B[0m \u001B[38;5;124;03m\"\"\"\u001B[39;00m\n\u001B[0;32m    453\u001B[0m \u001B[38;5;124;03mResolve an interpolation.\u001B[39;00m\n\u001B[0;32m    454\u001B[0m \n\u001B[1;32m   (...)\u001B[0m\n\u001B[0;32m    478\u001B[0m \u001B[38;5;124;03m    `throw_on_resolution_failure` is `False` and an error occurs during resolution.\u001B[39;00m\n\u001B[0;32m    479\u001B[0m \u001B[38;5;124;03m\"\"\"\u001B[39;00m\n\u001B[0;32m    481\u001B[0m \u001B[38;5;28;01mtry\u001B[39;00m:\n\u001B[1;32m--> 482\u001B[0m     resolved \u001B[38;5;241m=\u001B[39m \u001B[38;5;28;43mself\u001B[39;49m\u001B[38;5;241;43m.\u001B[39;49m\u001B[43mresolve_parse_tree\u001B[49m\u001B[43m(\u001B[49m\n\u001B[0;32m    483\u001B[0m \u001B[43m        \u001B[49m\u001B[43mparse_tree\u001B[49m\u001B[38;5;241;43m=\u001B[39;49m\u001B[43mparse_tree\u001B[49m\u001B[43m,\u001B[49m\u001B[43m \u001B[49m\u001B[43mnode\u001B[49m\u001B[38;5;241;43m=\u001B[39;49m\u001B[43mvalue\u001B[49m\u001B[43m,\u001B[49m\u001B[43m \u001B[49m\u001B[43mkey\u001B[49m\u001B[38;5;241;43m=\u001B[39;49m\u001B[43mkey\u001B[49m\u001B[43m,\u001B[49m\u001B[43m \u001B[49m\u001B[43mparent\u001B[49m\u001B[38;5;241;43m=\u001B[39;49m\u001B[43mparent\u001B[49m\u001B[43m,\u001B[49m\u001B[43m \u001B[49m\u001B[43mmemo\u001B[49m\u001B[38;5;241;43m=\u001B[39;49m\u001B[43mmemo\u001B[49m\n\u001B[0;32m    484\u001B[0m \u001B[43m    \u001B[49m\u001B[43m)\u001B[49m\n\u001B[0;32m    485\u001B[0m \u001B[38;5;28;01mexcept\u001B[39;00m InterpolationResolutionError:\n\u001B[0;32m    486\u001B[0m     \u001B[38;5;28;01mif\u001B[39;00m throw_on_resolution_failure:\n",
      "File \u001B[1;32m~\\anaconda3\\envs\\ssl_env\\lib\\site-packages\\omegaconf\\base.py:662\u001B[0m, in \u001B[0;36mContainer.resolve_parse_tree\u001B[1;34m(self, parse_tree, node, memo, key, parent)\u001B[0m\n\u001B[0;32m    656\u001B[0m visitor \u001B[38;5;241m=\u001B[39m GrammarVisitor(\n\u001B[0;32m    657\u001B[0m     node_interpolation_callback\u001B[38;5;241m=\u001B[39mnode_interpolation_callback,\n\u001B[0;32m    658\u001B[0m     resolver_interpolation_callback\u001B[38;5;241m=\u001B[39mresolver_interpolation_callback,\n\u001B[0;32m    659\u001B[0m     memo\u001B[38;5;241m=\u001B[39mmemo,\n\u001B[0;32m    660\u001B[0m )\n\u001B[0;32m    661\u001B[0m \u001B[38;5;28;01mtry\u001B[39;00m:\n\u001B[1;32m--> 662\u001B[0m     \u001B[38;5;28;01mreturn\u001B[39;00m \u001B[43mvisitor\u001B[49m\u001B[38;5;241;43m.\u001B[39;49m\u001B[43mvisit\u001B[49m\u001B[43m(\u001B[49m\u001B[43mparse_tree\u001B[49m\u001B[43m)\u001B[49m\n\u001B[0;32m    663\u001B[0m \u001B[38;5;28;01mexcept\u001B[39;00m InterpolationResolutionError:\n\u001B[0;32m    664\u001B[0m     \u001B[38;5;28;01mraise\u001B[39;00m\n",
      "File \u001B[1;32m~\\anaconda3\\envs\\ssl_env\\lib\\site-packages\\antlr4\\tree\\Tree.py:34\u001B[0m, in \u001B[0;36mParseTreeVisitor.visit\u001B[1;34m(self, tree)\u001B[0m\n\u001B[0;32m     33\u001B[0m \u001B[38;5;28;01mdef\u001B[39;00m \u001B[38;5;21mvisit\u001B[39m(\u001B[38;5;28mself\u001B[39m, tree):\n\u001B[1;32m---> 34\u001B[0m     \u001B[38;5;28;01mreturn\u001B[39;00m \u001B[43mtree\u001B[49m\u001B[38;5;241;43m.\u001B[39;49m\u001B[43maccept\u001B[49m\u001B[43m(\u001B[49m\u001B[38;5;28;43mself\u001B[39;49m\u001B[43m)\u001B[49m\n",
      "File \u001B[1;32m~\\anaconda3\\envs\\ssl_env\\lib\\site-packages\\omegaconf\\grammar\\gen\\OmegaConfGrammarParser.py:205\u001B[0m, in \u001B[0;36mOmegaConfGrammarParser.ConfigValueContext.accept\u001B[1;34m(self, visitor)\u001B[0m\n\u001B[0;32m    203\u001B[0m \u001B[38;5;28;01mdef\u001B[39;00m \u001B[38;5;21maccept\u001B[39m(\u001B[38;5;28mself\u001B[39m, visitor:ParseTreeVisitor):\n\u001B[0;32m    204\u001B[0m     \u001B[38;5;28;01mif\u001B[39;00m \u001B[38;5;28mhasattr\u001B[39m( visitor, \u001B[38;5;124m\"\u001B[39m\u001B[38;5;124mvisitConfigValue\u001B[39m\u001B[38;5;124m\"\u001B[39m ):\n\u001B[1;32m--> 205\u001B[0m         \u001B[38;5;28;01mreturn\u001B[39;00m \u001B[43mvisitor\u001B[49m\u001B[38;5;241;43m.\u001B[39;49m\u001B[43mvisitConfigValue\u001B[49m\u001B[43m(\u001B[49m\u001B[38;5;28;43mself\u001B[39;49m\u001B[43m)\u001B[49m\n\u001B[0;32m    206\u001B[0m     \u001B[38;5;28;01melse\u001B[39;00m:\n\u001B[0;32m    207\u001B[0m         \u001B[38;5;28;01mreturn\u001B[39;00m visitor\u001B[38;5;241m.\u001B[39mvisitChildren(\u001B[38;5;28mself\u001B[39m)\n",
      "File \u001B[1;32m~\\anaconda3\\envs\\ssl_env\\lib\\site-packages\\omegaconf\\grammar_visitor.py:101\u001B[0m, in \u001B[0;36mGrammarVisitor.visitConfigValue\u001B[1;34m(self, ctx)\u001B[0m\n\u001B[0;32m     98\u001B[0m \u001B[38;5;28;01mdef\u001B[39;00m \u001B[38;5;21mvisitConfigValue\u001B[39m(\u001B[38;5;28mself\u001B[39m, ctx: OmegaConfGrammarParser\u001B[38;5;241m.\u001B[39mConfigValueContext) \u001B[38;5;241m-\u001B[39m\u001B[38;5;241m>\u001B[39m Any:\n\u001B[0;32m     99\u001B[0m     \u001B[38;5;66;03m# text EOF\u001B[39;00m\n\u001B[0;32m    100\u001B[0m     \u001B[38;5;28;01massert\u001B[39;00m ctx\u001B[38;5;241m.\u001B[39mgetChildCount() \u001B[38;5;241m==\u001B[39m \u001B[38;5;241m2\u001B[39m\n\u001B[1;32m--> 101\u001B[0m     \u001B[38;5;28;01mreturn\u001B[39;00m \u001B[38;5;28;43mself\u001B[39;49m\u001B[38;5;241;43m.\u001B[39;49m\u001B[43mvisit\u001B[49m\u001B[43m(\u001B[49m\u001B[43mctx\u001B[49m\u001B[38;5;241;43m.\u001B[39;49m\u001B[43mgetChild\u001B[49m\u001B[43m(\u001B[49m\u001B[38;5;241;43m0\u001B[39;49m\u001B[43m)\u001B[49m\u001B[43m)\u001B[49m\n",
      "File \u001B[1;32m~\\anaconda3\\envs\\ssl_env\\lib\\site-packages\\antlr4\\tree\\Tree.py:34\u001B[0m, in \u001B[0;36mParseTreeVisitor.visit\u001B[1;34m(self, tree)\u001B[0m\n\u001B[0;32m     33\u001B[0m \u001B[38;5;28;01mdef\u001B[39;00m \u001B[38;5;21mvisit\u001B[39m(\u001B[38;5;28mself\u001B[39m, tree):\n\u001B[1;32m---> 34\u001B[0m     \u001B[38;5;28;01mreturn\u001B[39;00m \u001B[43mtree\u001B[49m\u001B[38;5;241;43m.\u001B[39;49m\u001B[43maccept\u001B[49m\u001B[43m(\u001B[49m\u001B[38;5;28;43mself\u001B[39;49m\u001B[43m)\u001B[49m\n",
      "File \u001B[1;32m~\\anaconda3\\envs\\ssl_env\\lib\\site-packages\\omegaconf\\grammar\\gen\\OmegaConfGrammarParser.py:339\u001B[0m, in \u001B[0;36mOmegaConfGrammarParser.TextContext.accept\u001B[1;34m(self, visitor)\u001B[0m\n\u001B[0;32m    337\u001B[0m \u001B[38;5;28;01mdef\u001B[39;00m \u001B[38;5;21maccept\u001B[39m(\u001B[38;5;28mself\u001B[39m, visitor:ParseTreeVisitor):\n\u001B[0;32m    338\u001B[0m     \u001B[38;5;28;01mif\u001B[39;00m \u001B[38;5;28mhasattr\u001B[39m( visitor, \u001B[38;5;124m\"\u001B[39m\u001B[38;5;124mvisitText\u001B[39m\u001B[38;5;124m\"\u001B[39m ):\n\u001B[1;32m--> 339\u001B[0m         \u001B[38;5;28;01mreturn\u001B[39;00m \u001B[43mvisitor\u001B[49m\u001B[38;5;241;43m.\u001B[39;49m\u001B[43mvisitText\u001B[49m\u001B[43m(\u001B[49m\u001B[38;5;28;43mself\u001B[39;49m\u001B[43m)\u001B[49m\n\u001B[0;32m    340\u001B[0m     \u001B[38;5;28;01melse\u001B[39;00m:\n\u001B[0;32m    341\u001B[0m         \u001B[38;5;28;01mreturn\u001B[39;00m visitor\u001B[38;5;241m.\u001B[39mvisitChildren(\u001B[38;5;28mself\u001B[39m)\n",
      "File \u001B[1;32m~\\anaconda3\\envs\\ssl_env\\lib\\site-packages\\omegaconf\\grammar_visitor.py:301\u001B[0m, in \u001B[0;36mGrammarVisitor.visitText\u001B[1;34m(self, ctx)\u001B[0m\n\u001B[0;32m    298\u001B[0m         \u001B[38;5;28;01mreturn\u001B[39;00m \u001B[38;5;28mself\u001B[39m\u001B[38;5;241m.\u001B[39mvisitInterpolation(c)\n\u001B[0;32m    300\u001B[0m \u001B[38;5;66;03m# Otherwise, concatenate string representations together.\u001B[39;00m\n\u001B[1;32m--> 301\u001B[0m \u001B[38;5;28;01mreturn\u001B[39;00m \u001B[38;5;28;43mself\u001B[39;49m\u001B[38;5;241;43m.\u001B[39;49m\u001B[43m_unescape\u001B[49m\u001B[43m(\u001B[49m\u001B[38;5;28;43mlist\u001B[39;49m\u001B[43m(\u001B[49m\u001B[43mctx\u001B[49m\u001B[38;5;241;43m.\u001B[39;49m\u001B[43mgetChildren\u001B[49m\u001B[43m(\u001B[49m\u001B[43m)\u001B[49m\u001B[43m)\u001B[49m\u001B[43m)\u001B[49m\n",
      "File \u001B[1;32m~\\anaconda3\\envs\\ssl_env\\lib\\site-packages\\omegaconf\\grammar_visitor.py:389\u001B[0m, in \u001B[0;36mGrammarVisitor._unescape\u001B[1;34m(self, seq)\u001B[0m\n\u001B[0;32m    387\u001B[0m     \u001B[38;5;28;01melse\u001B[39;00m:\n\u001B[0;32m    388\u001B[0m         \u001B[38;5;28;01massert\u001B[39;00m \u001B[38;5;28misinstance\u001B[39m(node, OmegaConfGrammarParser\u001B[38;5;241m.\u001B[39mInterpolationContext)\n\u001B[1;32m--> 389\u001B[0m         text \u001B[38;5;241m=\u001B[39m \u001B[38;5;28mstr\u001B[39m(\u001B[38;5;28;43mself\u001B[39;49m\u001B[38;5;241;43m.\u001B[39;49m\u001B[43mvisitInterpolation\u001B[49m\u001B[43m(\u001B[49m\u001B[43mnode\u001B[49m\u001B[43m)\u001B[49m)\n\u001B[0;32m    390\u001B[0m     chrs\u001B[38;5;241m.\u001B[39mappend(text)\n\u001B[0;32m    392\u001B[0m \u001B[38;5;28;01mreturn\u001B[39;00m \u001B[38;5;124m\"\u001B[39m\u001B[38;5;124m\"\u001B[39m\u001B[38;5;241m.\u001B[39mjoin(chrs)\n",
      "File \u001B[1;32m~\\anaconda3\\envs\\ssl_env\\lib\\site-packages\\omegaconf\\grammar_visitor.py:125\u001B[0m, in \u001B[0;36mGrammarVisitor.visitInterpolation\u001B[1;34m(self, ctx)\u001B[0m\n\u001B[0;32m    121\u001B[0m \u001B[38;5;28;01mdef\u001B[39;00m \u001B[38;5;21mvisitInterpolation\u001B[39m(\n\u001B[0;32m    122\u001B[0m     \u001B[38;5;28mself\u001B[39m, ctx: OmegaConfGrammarParser\u001B[38;5;241m.\u001B[39mInterpolationContext\n\u001B[0;32m    123\u001B[0m ) \u001B[38;5;241m-\u001B[39m\u001B[38;5;241m>\u001B[39m Any:\n\u001B[0;32m    124\u001B[0m     \u001B[38;5;28;01massert\u001B[39;00m ctx\u001B[38;5;241m.\u001B[39mgetChildCount() \u001B[38;5;241m==\u001B[39m \u001B[38;5;241m1\u001B[39m  \u001B[38;5;66;03m# interpolationNode | interpolationResolver\u001B[39;00m\n\u001B[1;32m--> 125\u001B[0m     \u001B[38;5;28;01mreturn\u001B[39;00m \u001B[38;5;28;43mself\u001B[39;49m\u001B[38;5;241;43m.\u001B[39;49m\u001B[43mvisit\u001B[49m\u001B[43m(\u001B[49m\u001B[43mctx\u001B[49m\u001B[38;5;241;43m.\u001B[39;49m\u001B[43mgetChild\u001B[49m\u001B[43m(\u001B[49m\u001B[38;5;241;43m0\u001B[39;49m\u001B[43m)\u001B[49m\u001B[43m)\u001B[49m\n",
      "File \u001B[1;32m~\\anaconda3\\envs\\ssl_env\\lib\\site-packages\\antlr4\\tree\\Tree.py:34\u001B[0m, in \u001B[0;36mParseTreeVisitor.visit\u001B[1;34m(self, tree)\u001B[0m\n\u001B[0;32m     33\u001B[0m \u001B[38;5;28;01mdef\u001B[39;00m \u001B[38;5;21mvisit\u001B[39m(\u001B[38;5;28mself\u001B[39m, tree):\n\u001B[1;32m---> 34\u001B[0m     \u001B[38;5;28;01mreturn\u001B[39;00m \u001B[43mtree\u001B[49m\u001B[38;5;241;43m.\u001B[39;49m\u001B[43maccept\u001B[49m\u001B[43m(\u001B[49m\u001B[38;5;28;43mself\u001B[39;49m\u001B[43m)\u001B[49m\n",
      "File \u001B[1;32m~\\anaconda3\\envs\\ssl_env\\lib\\site-packages\\omegaconf\\grammar\\gen\\OmegaConfGrammarParser.py:911\u001B[0m, in \u001B[0;36mOmegaConfGrammarParser.InterpolationNodeContext.accept\u001B[1;34m(self, visitor)\u001B[0m\n\u001B[0;32m    909\u001B[0m \u001B[38;5;28;01mdef\u001B[39;00m \u001B[38;5;21maccept\u001B[39m(\u001B[38;5;28mself\u001B[39m, visitor:ParseTreeVisitor):\n\u001B[0;32m    910\u001B[0m     \u001B[38;5;28;01mif\u001B[39;00m \u001B[38;5;28mhasattr\u001B[39m( visitor, \u001B[38;5;124m\"\u001B[39m\u001B[38;5;124mvisitInterpolationNode\u001B[39m\u001B[38;5;124m\"\u001B[39m ):\n\u001B[1;32m--> 911\u001B[0m         \u001B[38;5;28;01mreturn\u001B[39;00m \u001B[43mvisitor\u001B[49m\u001B[38;5;241;43m.\u001B[39;49m\u001B[43mvisitInterpolationNode\u001B[49m\u001B[43m(\u001B[49m\u001B[38;5;28;43mself\u001B[39;49m\u001B[43m)\u001B[49m\n\u001B[0;32m    912\u001B[0m     \u001B[38;5;28;01melse\u001B[39;00m:\n\u001B[0;32m    913\u001B[0m         \u001B[38;5;28;01mreturn\u001B[39;00m visitor\u001B[38;5;241m.\u001B[39mvisitChildren(\u001B[38;5;28mself\u001B[39m)\n",
      "File \u001B[1;32m~\\anaconda3\\envs\\ssl_env\\lib\\site-packages\\omegaconf\\grammar_visitor.py:158\u001B[0m, in \u001B[0;36mGrammarVisitor.visitInterpolationNode\u001B[1;34m(self, ctx)\u001B[0m\n\u001B[0;32m    155\u001B[0m         inter_key_tokens\u001B[38;5;241m.\u001B[39mappend(\u001B[38;5;28mself\u001B[39m\u001B[38;5;241m.\u001B[39mvisitConfigKey(child))\n\u001B[0;32m    157\u001B[0m inter_key \u001B[38;5;241m=\u001B[39m \u001B[38;5;124m\"\u001B[39m\u001B[38;5;124m\"\u001B[39m\u001B[38;5;241m.\u001B[39mjoin(inter_key_tokens)\n\u001B[1;32m--> 158\u001B[0m \u001B[38;5;28;01mreturn\u001B[39;00m \u001B[38;5;28;43mself\u001B[39;49m\u001B[38;5;241;43m.\u001B[39;49m\u001B[43mnode_interpolation_callback\u001B[49m\u001B[43m(\u001B[49m\u001B[43minter_key\u001B[49m\u001B[43m,\u001B[49m\u001B[43m \u001B[49m\u001B[38;5;28;43mself\u001B[39;49m\u001B[38;5;241;43m.\u001B[39;49m\u001B[43mmemo\u001B[49m\u001B[43m)\u001B[49m\n",
      "File \u001B[1;32m~\\anaconda3\\envs\\ssl_env\\lib\\site-packages\\omegaconf\\base.py:643\u001B[0m, in \u001B[0;36mContainer.resolve_parse_tree.<locals>.node_interpolation_callback\u001B[1;34m(inter_key, memo)\u001B[0m\n\u001B[0;32m    640\u001B[0m \u001B[38;5;28;01mdef\u001B[39;00m \u001B[38;5;21mnode_interpolation_callback\u001B[39m(\n\u001B[0;32m    641\u001B[0m     inter_key: \u001B[38;5;28mstr\u001B[39m, memo: Optional[Set[\u001B[38;5;28mint\u001B[39m]]\n\u001B[0;32m    642\u001B[0m ) \u001B[38;5;241m-\u001B[39m\u001B[38;5;241m>\u001B[39m Optional[\u001B[38;5;124m\"\u001B[39m\u001B[38;5;124mNode\u001B[39m\u001B[38;5;124m\"\u001B[39m]:\n\u001B[1;32m--> 643\u001B[0m     \u001B[38;5;28;01mreturn\u001B[39;00m \u001B[38;5;28;43mself\u001B[39;49m\u001B[38;5;241;43m.\u001B[39;49m\u001B[43m_resolve_node_interpolation\u001B[49m\u001B[43m(\u001B[49m\u001B[43minter_key\u001B[49m\u001B[38;5;241;43m=\u001B[39;49m\u001B[43minter_key\u001B[49m\u001B[43m,\u001B[49m\u001B[43m \u001B[49m\u001B[43mmemo\u001B[49m\u001B[38;5;241;43m=\u001B[39;49m\u001B[43mmemo\u001B[49m\u001B[43m)\u001B[49m\n",
      "File \u001B[1;32m~\\anaconda3\\envs\\ssl_env\\lib\\site-packages\\omegaconf\\base.py:561\u001B[0m, in \u001B[0;36mContainer._resolve_node_interpolation\u001B[1;34m(self, inter_key, memo)\u001B[0m\n\u001B[0;32m    556\u001B[0m     \u001B[38;5;28;01mraise\u001B[39;00m InterpolationKeyError(\n\u001B[0;32m    557\u001B[0m         \u001B[38;5;124mf\u001B[39m\u001B[38;5;124m\"\u001B[39m\u001B[38;5;124mConfigKeyError while resolving interpolation: \u001B[39m\u001B[38;5;132;01m{\u001B[39;00mexc\u001B[38;5;132;01m}\u001B[39;00m\u001B[38;5;124m\"\u001B[39m\n\u001B[0;32m    558\u001B[0m     )\u001B[38;5;241m.\u001B[39mwith_traceback(sys\u001B[38;5;241m.\u001B[39mexc_info()[\u001B[38;5;241m2\u001B[39m])\n\u001B[0;32m    560\u001B[0m \u001B[38;5;28;01mtry\u001B[39;00m:\n\u001B[1;32m--> 561\u001B[0m     parent, last_key, value \u001B[38;5;241m=\u001B[39m \u001B[43mroot_node\u001B[49m\u001B[38;5;241;43m.\u001B[39;49m\u001B[43m_select_impl\u001B[49m\u001B[43m(\u001B[49m\n\u001B[0;32m    562\u001B[0m \u001B[43m        \u001B[49m\u001B[43minter_key\u001B[49m\u001B[43m,\u001B[49m\n\u001B[0;32m    563\u001B[0m \u001B[43m        \u001B[49m\u001B[43mthrow_on_missing\u001B[49m\u001B[38;5;241;43m=\u001B[39;49m\u001B[38;5;28;43;01mTrue\u001B[39;49;00m\u001B[43m,\u001B[49m\n\u001B[0;32m    564\u001B[0m \u001B[43m        \u001B[49m\u001B[43mthrow_on_resolution_failure\u001B[49m\u001B[38;5;241;43m=\u001B[39;49m\u001B[38;5;28;43;01mTrue\u001B[39;49;00m\u001B[43m,\u001B[49m\n\u001B[0;32m    565\u001B[0m \u001B[43m        \u001B[49m\u001B[43mmemo\u001B[49m\u001B[38;5;241;43m=\u001B[39;49m\u001B[43mmemo\u001B[49m\u001B[43m,\u001B[49m\n\u001B[0;32m    566\u001B[0m \u001B[43m    \u001B[49m\u001B[43m)\u001B[49m\n\u001B[0;32m    567\u001B[0m \u001B[38;5;28;01mexcept\u001B[39;00m MissingMandatoryValue \u001B[38;5;28;01mas\u001B[39;00m exc:\n\u001B[0;32m    568\u001B[0m     \u001B[38;5;28;01mraise\u001B[39;00m InterpolationToMissingValueError(\n\u001B[0;32m    569\u001B[0m         \u001B[38;5;124mf\u001B[39m\u001B[38;5;124m\"\u001B[39m\u001B[38;5;124mMissingMandatoryValue while resolving interpolation: \u001B[39m\u001B[38;5;132;01m{\u001B[39;00mexc\u001B[38;5;132;01m}\u001B[39;00m\u001B[38;5;124m\"\u001B[39m\n\u001B[0;32m    570\u001B[0m     )\u001B[38;5;241m.\u001B[39mwith_traceback(sys\u001B[38;5;241m.\u001B[39mexc_info()[\u001B[38;5;241m2\u001B[39m])\n",
      "File \u001B[1;32m~\\anaconda3\\envs\\ssl_env\\lib\\site-packages\\omegaconf\\base.py:424\u001B[0m, in \u001B[0;36mContainer._select_impl\u001B[1;34m(self, key, throw_on_missing, throw_on_resolution_failure, memo)\u001B[0m\n\u001B[0;32m    422\u001B[0m vid \u001B[38;5;241m=\u001B[39m \u001B[38;5;28mid\u001B[39m(value)\n\u001B[0;32m    423\u001B[0m \u001B[38;5;28;01mif\u001B[39;00m vid \u001B[38;5;129;01min\u001B[39;00m memo:\n\u001B[1;32m--> 424\u001B[0m     \u001B[38;5;28;01mraise\u001B[39;00m InterpolationResolutionError(\u001B[38;5;124m\"\u001B[39m\u001B[38;5;124mRecursive interpolation detected\u001B[39m\u001B[38;5;124m\"\u001B[39m)\n\u001B[0;32m    425\u001B[0m \u001B[38;5;66;03m# push to memo \"stack\"\u001B[39;00m\n\u001B[0;32m    426\u001B[0m memo\u001B[38;5;241m.\u001B[39madd(vid)\n",
      "\u001B[1;31mInterpolationResolutionError\u001B[0m: Recursive interpolation detected"
     ]
    }
   ],
   "source": [
    "cfg = OmegaConf.load('../configs/datamodule/exact_datamodule.yaml')\n",
    "datamodule = hydra.utils.instantiate(cfg)\n",
    "datamodule.prepare_data()\n",
    "datamodule.setup()\n",
    "train_loader = datamodule.train_dataloader()\n",
    "batch = next(iter(train_loader))\n",
    "x, y = batch\n",
    "plt.imshow(x[0,:,:], 'gray',norm=NoNorm())"
   ]
  }
 ],
 "metadata": {
  "kernelspec": {
   "display_name": "Python 3",
   "language": "python",
   "name": "python3"
  },
  "language_info": {
   "codemirror_mode": {
    "name": "ipython",
    "version": 2
   },
   "file_extension": ".py",
   "mimetype": "text/x-python",
   "name": "python",
   "nbconvert_exporter": "python",
   "pygments_lexer": "ipython2",
   "version": "2.7.6"
  }
 },
 "nbformat": 4,
 "nbformat_minor": 0
}