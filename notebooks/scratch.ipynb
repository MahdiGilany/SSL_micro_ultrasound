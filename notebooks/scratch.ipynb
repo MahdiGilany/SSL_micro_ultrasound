{
 "cells": [
  {
   "cell_type": "code",
   "execution_count": null,
   "outputs": [],
   "source": [
    "%cd ~/Desktop"
   ],
   "metadata": {
    "collapsed": false,
    "pycharm": {
     "name": "#%%\n"
    }
   }
  },
  {
   "cell_type": "code",
   "execution_count": null,
   "outputs": [],
   "source": [
    "from scipy.io import loadmat\n",
    "from mat73 import loadmat\n",
    "loaded = loadmat(\"UVA-0141_RBL.mat\")"
   ],
   "metadata": {
    "collapsed": false,
    "pycharm": {
     "name": "#%%\n"
    }
   }
  },
  {
   "cell_type": "code",
   "execution_count": null,
   "outputs": [],
   "source": [
    "loaded = loadmat(\"UVA-0272_RBM_Benign.mat\")"
   ],
   "metadata": {
    "collapsed": false,
    "pycharm": {
     "name": "#%%\n"
    }
   }
  },
  {
   "cell_type": "code",
   "execution_count": null,
   "outputs": [],
   "source": [
    "import numpy as np\n",
    "# a = np.array([[3,4], [4,3], [4,4], [4,4], [5,4]])\n",
    "# state = np.append([[4,3],[3,4]],[4,4])\n",
    "# b = np.isin([(3,4), (4,4)], (3,4))\n",
    "# print(b)\n",
    "a = [(3,4), (5,4), (3,4)]\n",
    "(3,4) in a"
   ],
   "metadata": {
    "collapsed": false,
    "pycharm": {
     "name": "#%%\n"
    }
   }
  },
  {
   "cell_type": "code",
   "execution_count": null,
   "outputs": [],
   "source": [
    "import torch\n",
    "a = torch.randint(1, 10, (2,10))\n",
    "a = a.numpy()\n",
    "print(a)\n",
    "a = list(zip(a[0,:], a[1,:]))\n",
    "print(a)"
   ],
   "metadata": {
    "collapsed": false,
    "pycharm": {
     "name": "#%%\n"
    }
   }
  },
  {
   "cell_type": "code",
   "execution_count": null,
   "outputs": [],
   "source": [
    "p = np.array(a, dtype=object)\n",
    "p == (3,6)"
   ],
   "metadata": {
    "collapsed": false,
    "pycharm": {
     "name": "#%%\n"
    }
   }
  },
  {
   "cell_type": "code",
   "execution_count": null,
   "outputs": [],
   "source": [
    "get_gs_tuple = lambda gs_string: (int(gs_string[0]), int(gs_string[2]))\n",
    "list(map(get_gs_tuple, ['3+4','3+5']))"
   ],
   "metadata": {
    "collapsed": false,
    "pycharm": {
     "name": "#%%\n"
    }
   }
  },
  {
   "cell_type": "code",
   "execution_count": null,
   "outputs": [],
   "source": [
    "x = np.array((1,2,np.nan,3))\n",
    "np.isnan(x)"
   ],
   "metadata": {
    "collapsed": false,
    "pycharm": {
     "name": "#%%\n"
    }
   }
  },
  {
   "cell_type": "code",
   "execution_count": null,
   "outputs": [],
   "source": [
    "x = (a,b,{\"a\":3})"
   ],
   "metadata": {
    "collapsed": false,
    "pycharm": {
     "name": "#%%\n"
    }
   }
  },
  {
   "cell_type": "code",
   "execution_count": null,
   "outputs": [],
   "source": [
    "x1,x2, *x3 = x\n"
   ],
   "metadata": {
    "collapsed": false,
    "pycharm": {
     "name": "#%%\n"
    }
   }
  },
  {
   "cell_type": "code",
   "execution_count": null,
   "outputs": [],
   "source": [
    "from exactvu.data.splits import SplitsConfig, get_splits, CENTERS\n",
    "from exactvu.resources import metadata\n",
    "from exactvu.resources import metadata\n",
    "splits = get_splits(SplitsConfig('UVA600'))\n",
    "\n",
    "metadata = metadata()\n",
    "# metadata.loc[~np.isnan(metadata[\"primary_grade\"]) & np.isnan(metadata[\"secondary_grade\"])]\n",
    "\n",
    "type(metadata.loc[metadata[\"core_specifier\"].isin(splits[0])][\"primary_grade\"][644])\n",
    "metadata[[\"primary_grade\", \"secondary_grade\"]]"
   ],
   "metadata": {
    "collapsed": false,
    "pycharm": {
     "name": "#%%\n"
    }
   }
  },
  {
   "cell_type": "code",
   "execution_count": null,
   "outputs": [],
   "source": [],
   "metadata": {
    "collapsed": false,
    "pycharm": {
     "name": "#%%\n"
    }
   }
  },
  {
   "cell_type": "code",
   "execution_count": 6,
   "outputs": [
    {
     "name": "stdout",
     "output_type": "stream",
     "text": [
      "0 27\n",
      "27 67\n",
      "67 121\n",
      "121 164\n",
      "164 209\n"
     ]
    }
   ],
   "source": [
    "corelen = [0, 27, 67, 121, 164]\n",
    "corelen_start = corelen\n",
    "corelen_end = corelen[1:] + [209]\n",
    "for i, j in zip(corelen_start, corelen_end):\n",
    "    print(i,j)"
   ],
   "metadata": {
    "collapsed": false,
    "pycharm": {
     "name": "#%%\n"
    }
   }
  }
 ],
 "metadata": {
  "kernelspec": {
   "display_name": "Python 3",
   "language": "python",
   "name": "python3"
  },
  "language_info": {
   "codemirror_mode": {
    "name": "ipython",
    "version": 2
   },
   "file_extension": ".py",
   "mimetype": "text/x-python",
   "name": "python",
   "nbconvert_exporter": "python",
   "pygments_lexer": "ipython2",
   "version": "2.7.6"
  }
 },
 "nbformat": 4,
 "nbformat_minor": 0
}